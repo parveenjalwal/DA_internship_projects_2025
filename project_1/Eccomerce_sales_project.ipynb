{
  "nbformat": 4,
  "nbformat_minor": 0,
  "metadata": {
    "colab": {
      "provenance": []
    },
    "kernelspec": {
      "name": "python3",
      "display_name": "Python 3"
    },
    "language_info": {
      "name": "python"
    }
  },
  "cells": [
    {
      "cell_type": "markdown",
      "source": [
        "- IN this very first cell i have imported the all neccessry library such as python , pandas , which is going to come in handy further in this project .\n"
      ],
      "metadata": {
        "id": "q_SXag7LoUkp"
      }
    },
    {
      "cell_type": "code",
      "execution_count": 1,
      "metadata": {
        "id": "HJszFU_xrRdW"
      },
      "outputs": [],
      "source": [
        "# loading the all vital librarry ...\n",
        "\n",
        "import numpy as np\n",
        "import pandas as pd\n",
        "import seaborn as sns\n",
        "import matplotlib.pyplot as plt\n",
        "\n",
        "import warnings\n",
        "warnings.filterwarnings('ignore')"
      ]
    },
    {
      "cell_type": "markdown",
      "source": [
        "1. now the very first step is to insert data in our colleb\n",
        "   -  using pandas\n",
        "   "
      ],
      "metadata": {
        "id": "Y0VdnRV391Tx"
      }
    },
    {
      "cell_type": "code",
      "source": [
        "\n",
        "df = pd.read_csv(\"ecommerce_furniture_dataset_2024.csv\")"
      ],
      "metadata": {
        "id": "hP968hu6uESY"
      },
      "execution_count": 2,
      "outputs": []
    },
    {
      "cell_type": "code",
      "source": [
        "df\n",
        "# here we are have data :"
      ],
      "metadata": {
        "id": "UW_IzMT2u0e9",
        "colab": {
          "base_uri": "https://localhost:8080/",
          "height": 424
        },
        "outputId": "20ed79c6-f8f6-4423-940b-8a1a4e41890c"
      },
      "execution_count": 3,
      "outputs": [
        {
          "output_type": "execute_result",
          "data": {
            "text/plain": [
              "                                           productTitle originalPrice  \\\n",
              "0     Dresser For Bedroom With 9 Fabric Drawers Ward...           NaN   \n",
              "1     Outdoor Conversation Set 4 Pieces Patio Furnit...           NaN   \n",
              "2     Desser For Bedroom With 7 Fabric Drawers Organ...         $78.4   \n",
              "3     Modern Accent Boucle Chair,Upholstered Tufted ...           NaN   \n",
              "4     Small Unit Simple Computer Desk Household Wood...        $48.82   \n",
              "...                                                 ...           ...   \n",
              "1995  Modern TV Stand Entertainment Center with Two ...           NaN   \n",
              "1996  Large Wardrobe Armoire Closet with 3 Doors, Fr...           NaN   \n",
              "1997  Velvet Futon Sofa Bed, 73-inch Sleeper Couch w...           NaN   \n",
              "1998  Furniture Acrylic Coffee Table Transparent Liv...           NaN   \n",
              "1999  Bed Frane Bamboo and Metal Platform Bed Frame ...           NaN   \n",
              "\n",
              "        price  sold        tagText  \n",
              "0      $46.79   600  Free shipping  \n",
              "1     $169.72     0  Free shipping  \n",
              "2      $39.46     7  Free shipping  \n",
              "3     $111.99     0  Free shipping  \n",
              "4      $21.37     1  Free shipping  \n",
              "...       ...   ...            ...  \n",
              "1995   $72.49     8  Free shipping  \n",
              "1996  $276.65     2  Free shipping  \n",
              "1997  $196.44    10  Free shipping  \n",
              "1998  $228.18     0  Free shipping  \n",
              "1999   $99.48     0  Free shipping  \n",
              "\n",
              "[2000 rows x 5 columns]"
            ],
            "text/html": [
              "\n",
              "  <div id=\"df-d7ea218a-c1c9-40ae-bcf6-58bef2ce859d\" class=\"colab-df-container\">\n",
              "    <div>\n",
              "<style scoped>\n",
              "    .dataframe tbody tr th:only-of-type {\n",
              "        vertical-align: middle;\n",
              "    }\n",
              "\n",
              "    .dataframe tbody tr th {\n",
              "        vertical-align: top;\n",
              "    }\n",
              "\n",
              "    .dataframe thead th {\n",
              "        text-align: right;\n",
              "    }\n",
              "</style>\n",
              "<table border=\"1\" class=\"dataframe\">\n",
              "  <thead>\n",
              "    <tr style=\"text-align: right;\">\n",
              "      <th></th>\n",
              "      <th>productTitle</th>\n",
              "      <th>originalPrice</th>\n",
              "      <th>price</th>\n",
              "      <th>sold</th>\n",
              "      <th>tagText</th>\n",
              "    </tr>\n",
              "  </thead>\n",
              "  <tbody>\n",
              "    <tr>\n",
              "      <th>0</th>\n",
              "      <td>Dresser For Bedroom With 9 Fabric Drawers Ward...</td>\n",
              "      <td>NaN</td>\n",
              "      <td>$46.79</td>\n",
              "      <td>600</td>\n",
              "      <td>Free shipping</td>\n",
              "    </tr>\n",
              "    <tr>\n",
              "      <th>1</th>\n",
              "      <td>Outdoor Conversation Set 4 Pieces Patio Furnit...</td>\n",
              "      <td>NaN</td>\n",
              "      <td>$169.72</td>\n",
              "      <td>0</td>\n",
              "      <td>Free shipping</td>\n",
              "    </tr>\n",
              "    <tr>\n",
              "      <th>2</th>\n",
              "      <td>Desser For Bedroom With 7 Fabric Drawers Organ...</td>\n",
              "      <td>$78.4</td>\n",
              "      <td>$39.46</td>\n",
              "      <td>7</td>\n",
              "      <td>Free shipping</td>\n",
              "    </tr>\n",
              "    <tr>\n",
              "      <th>3</th>\n",
              "      <td>Modern Accent Boucle Chair,Upholstered Tufted ...</td>\n",
              "      <td>NaN</td>\n",
              "      <td>$111.99</td>\n",
              "      <td>0</td>\n",
              "      <td>Free shipping</td>\n",
              "    </tr>\n",
              "    <tr>\n",
              "      <th>4</th>\n",
              "      <td>Small Unit Simple Computer Desk Household Wood...</td>\n",
              "      <td>$48.82</td>\n",
              "      <td>$21.37</td>\n",
              "      <td>1</td>\n",
              "      <td>Free shipping</td>\n",
              "    </tr>\n",
              "    <tr>\n",
              "      <th>...</th>\n",
              "      <td>...</td>\n",
              "      <td>...</td>\n",
              "      <td>...</td>\n",
              "      <td>...</td>\n",
              "      <td>...</td>\n",
              "    </tr>\n",
              "    <tr>\n",
              "      <th>1995</th>\n",
              "      <td>Modern TV Stand Entertainment Center with Two ...</td>\n",
              "      <td>NaN</td>\n",
              "      <td>$72.49</td>\n",
              "      <td>8</td>\n",
              "      <td>Free shipping</td>\n",
              "    </tr>\n",
              "    <tr>\n",
              "      <th>1996</th>\n",
              "      <td>Large Wardrobe Armoire Closet with 3 Doors, Fr...</td>\n",
              "      <td>NaN</td>\n",
              "      <td>$276.65</td>\n",
              "      <td>2</td>\n",
              "      <td>Free shipping</td>\n",
              "    </tr>\n",
              "    <tr>\n",
              "      <th>1997</th>\n",
              "      <td>Velvet Futon Sofa Bed, 73-inch Sleeper Couch w...</td>\n",
              "      <td>NaN</td>\n",
              "      <td>$196.44</td>\n",
              "      <td>10</td>\n",
              "      <td>Free shipping</td>\n",
              "    </tr>\n",
              "    <tr>\n",
              "      <th>1998</th>\n",
              "      <td>Furniture Acrylic Coffee Table Transparent Liv...</td>\n",
              "      <td>NaN</td>\n",
              "      <td>$228.18</td>\n",
              "      <td>0</td>\n",
              "      <td>Free shipping</td>\n",
              "    </tr>\n",
              "    <tr>\n",
              "      <th>1999</th>\n",
              "      <td>Bed Frane Bamboo and Metal Platform Bed Frame ...</td>\n",
              "      <td>NaN</td>\n",
              "      <td>$99.48</td>\n",
              "      <td>0</td>\n",
              "      <td>Free shipping</td>\n",
              "    </tr>\n",
              "  </tbody>\n",
              "</table>\n",
              "<p>2000 rows × 5 columns</p>\n",
              "</div>\n",
              "    <div class=\"colab-df-buttons\">\n",
              "\n",
              "  <div class=\"colab-df-container\">\n",
              "    <button class=\"colab-df-convert\" onclick=\"convertToInteractive('df-d7ea218a-c1c9-40ae-bcf6-58bef2ce859d')\"\n",
              "            title=\"Convert this dataframe to an interactive table.\"\n",
              "            style=\"display:none;\">\n",
              "\n",
              "  <svg xmlns=\"http://www.w3.org/2000/svg\" height=\"24px\" viewBox=\"0 -960 960 960\">\n",
              "    <path d=\"M120-120v-720h720v720H120Zm60-500h600v-160H180v160Zm220 220h160v-160H400v160Zm0 220h160v-160H400v160ZM180-400h160v-160H180v160Zm440 0h160v-160H620v160ZM180-180h160v-160H180v160Zm440 0h160v-160H620v160Z\"/>\n",
              "  </svg>\n",
              "    </button>\n",
              "\n",
              "  <style>\n",
              "    .colab-df-container {\n",
              "      display:flex;\n",
              "      gap: 12px;\n",
              "    }\n",
              "\n",
              "    .colab-df-convert {\n",
              "      background-color: #E8F0FE;\n",
              "      border: none;\n",
              "      border-radius: 50%;\n",
              "      cursor: pointer;\n",
              "      display: none;\n",
              "      fill: #1967D2;\n",
              "      height: 32px;\n",
              "      padding: 0 0 0 0;\n",
              "      width: 32px;\n",
              "    }\n",
              "\n",
              "    .colab-df-convert:hover {\n",
              "      background-color: #E2EBFA;\n",
              "      box-shadow: 0px 1px 2px rgba(60, 64, 67, 0.3), 0px 1px 3px 1px rgba(60, 64, 67, 0.15);\n",
              "      fill: #174EA6;\n",
              "    }\n",
              "\n",
              "    .colab-df-buttons div {\n",
              "      margin-bottom: 4px;\n",
              "    }\n",
              "\n",
              "    [theme=dark] .colab-df-convert {\n",
              "      background-color: #3B4455;\n",
              "      fill: #D2E3FC;\n",
              "    }\n",
              "\n",
              "    [theme=dark] .colab-df-convert:hover {\n",
              "      background-color: #434B5C;\n",
              "      box-shadow: 0px 1px 3px 1px rgba(0, 0, 0, 0.15);\n",
              "      filter: drop-shadow(0px 1px 2px rgba(0, 0, 0, 0.3));\n",
              "      fill: #FFFFFF;\n",
              "    }\n",
              "  </style>\n",
              "\n",
              "    <script>\n",
              "      const buttonEl =\n",
              "        document.querySelector('#df-d7ea218a-c1c9-40ae-bcf6-58bef2ce859d button.colab-df-convert');\n",
              "      buttonEl.style.display =\n",
              "        google.colab.kernel.accessAllowed ? 'block' : 'none';\n",
              "\n",
              "      async function convertToInteractive(key) {\n",
              "        const element = document.querySelector('#df-d7ea218a-c1c9-40ae-bcf6-58bef2ce859d');\n",
              "        const dataTable =\n",
              "          await google.colab.kernel.invokeFunction('convertToInteractive',\n",
              "                                                    [key], {});\n",
              "        if (!dataTable) return;\n",
              "\n",
              "        const docLinkHtml = 'Like what you see? Visit the ' +\n",
              "          '<a target=\"_blank\" href=https://colab.research.google.com/notebooks/data_table.ipynb>data table notebook</a>'\n",
              "          + ' to learn more about interactive tables.';\n",
              "        element.innerHTML = '';\n",
              "        dataTable['output_type'] = 'display_data';\n",
              "        await google.colab.output.renderOutput(dataTable, element);\n",
              "        const docLink = document.createElement('div');\n",
              "        docLink.innerHTML = docLinkHtml;\n",
              "        element.appendChild(docLink);\n",
              "      }\n",
              "    </script>\n",
              "  </div>\n",
              "\n",
              "\n",
              "    <div id=\"df-68168983-54e1-4ee6-8c5b-d8ba12d3e6cd\">\n",
              "      <button class=\"colab-df-quickchart\" onclick=\"quickchart('df-68168983-54e1-4ee6-8c5b-d8ba12d3e6cd')\"\n",
              "                title=\"Suggest charts\"\n",
              "                style=\"display:none;\">\n",
              "\n",
              "<svg xmlns=\"http://www.w3.org/2000/svg\" height=\"24px\"viewBox=\"0 0 24 24\"\n",
              "     width=\"24px\">\n",
              "    <g>\n",
              "        <path d=\"M19 3H5c-1.1 0-2 .9-2 2v14c0 1.1.9 2 2 2h14c1.1 0 2-.9 2-2V5c0-1.1-.9-2-2-2zM9 17H7v-7h2v7zm4 0h-2V7h2v10zm4 0h-2v-4h2v4z\"/>\n",
              "    </g>\n",
              "</svg>\n",
              "      </button>\n",
              "\n",
              "<style>\n",
              "  .colab-df-quickchart {\n",
              "      --bg-color: #E8F0FE;\n",
              "      --fill-color: #1967D2;\n",
              "      --hover-bg-color: #E2EBFA;\n",
              "      --hover-fill-color: #174EA6;\n",
              "      --disabled-fill-color: #AAA;\n",
              "      --disabled-bg-color: #DDD;\n",
              "  }\n",
              "\n",
              "  [theme=dark] .colab-df-quickchart {\n",
              "      --bg-color: #3B4455;\n",
              "      --fill-color: #D2E3FC;\n",
              "      --hover-bg-color: #434B5C;\n",
              "      --hover-fill-color: #FFFFFF;\n",
              "      --disabled-bg-color: #3B4455;\n",
              "      --disabled-fill-color: #666;\n",
              "  }\n",
              "\n",
              "  .colab-df-quickchart {\n",
              "    background-color: var(--bg-color);\n",
              "    border: none;\n",
              "    border-radius: 50%;\n",
              "    cursor: pointer;\n",
              "    display: none;\n",
              "    fill: var(--fill-color);\n",
              "    height: 32px;\n",
              "    padding: 0;\n",
              "    width: 32px;\n",
              "  }\n",
              "\n",
              "  .colab-df-quickchart:hover {\n",
              "    background-color: var(--hover-bg-color);\n",
              "    box-shadow: 0 1px 2px rgba(60, 64, 67, 0.3), 0 1px 3px 1px rgba(60, 64, 67, 0.15);\n",
              "    fill: var(--button-hover-fill-color);\n",
              "  }\n",
              "\n",
              "  .colab-df-quickchart-complete:disabled,\n",
              "  .colab-df-quickchart-complete:disabled:hover {\n",
              "    background-color: var(--disabled-bg-color);\n",
              "    fill: var(--disabled-fill-color);\n",
              "    box-shadow: none;\n",
              "  }\n",
              "\n",
              "  .colab-df-spinner {\n",
              "    border: 2px solid var(--fill-color);\n",
              "    border-color: transparent;\n",
              "    border-bottom-color: var(--fill-color);\n",
              "    animation:\n",
              "      spin 1s steps(1) infinite;\n",
              "  }\n",
              "\n",
              "  @keyframes spin {\n",
              "    0% {\n",
              "      border-color: transparent;\n",
              "      border-bottom-color: var(--fill-color);\n",
              "      border-left-color: var(--fill-color);\n",
              "    }\n",
              "    20% {\n",
              "      border-color: transparent;\n",
              "      border-left-color: var(--fill-color);\n",
              "      border-top-color: var(--fill-color);\n",
              "    }\n",
              "    30% {\n",
              "      border-color: transparent;\n",
              "      border-left-color: var(--fill-color);\n",
              "      border-top-color: var(--fill-color);\n",
              "      border-right-color: var(--fill-color);\n",
              "    }\n",
              "    40% {\n",
              "      border-color: transparent;\n",
              "      border-right-color: var(--fill-color);\n",
              "      border-top-color: var(--fill-color);\n",
              "    }\n",
              "    60% {\n",
              "      border-color: transparent;\n",
              "      border-right-color: var(--fill-color);\n",
              "    }\n",
              "    80% {\n",
              "      border-color: transparent;\n",
              "      border-right-color: var(--fill-color);\n",
              "      border-bottom-color: var(--fill-color);\n",
              "    }\n",
              "    90% {\n",
              "      border-color: transparent;\n",
              "      border-bottom-color: var(--fill-color);\n",
              "    }\n",
              "  }\n",
              "</style>\n",
              "\n",
              "      <script>\n",
              "        async function quickchart(key) {\n",
              "          const quickchartButtonEl =\n",
              "            document.querySelector('#' + key + ' button');\n",
              "          quickchartButtonEl.disabled = true;  // To prevent multiple clicks.\n",
              "          quickchartButtonEl.classList.add('colab-df-spinner');\n",
              "          try {\n",
              "            const charts = await google.colab.kernel.invokeFunction(\n",
              "                'suggestCharts', [key], {});\n",
              "          } catch (error) {\n",
              "            console.error('Error during call to suggestCharts:', error);\n",
              "          }\n",
              "          quickchartButtonEl.classList.remove('colab-df-spinner');\n",
              "          quickchartButtonEl.classList.add('colab-df-quickchart-complete');\n",
              "        }\n",
              "        (() => {\n",
              "          let quickchartButtonEl =\n",
              "            document.querySelector('#df-68168983-54e1-4ee6-8c5b-d8ba12d3e6cd button');\n",
              "          quickchartButtonEl.style.display =\n",
              "            google.colab.kernel.accessAllowed ? 'block' : 'none';\n",
              "        })();\n",
              "      </script>\n",
              "    </div>\n",
              "\n",
              "  <div id=\"id_b51c927c-612c-4096-b647-1995d0f8ce0b\">\n",
              "    <style>\n",
              "      .colab-df-generate {\n",
              "        background-color: #E8F0FE;\n",
              "        border: none;\n",
              "        border-radius: 50%;\n",
              "        cursor: pointer;\n",
              "        display: none;\n",
              "        fill: #1967D2;\n",
              "        height: 32px;\n",
              "        padding: 0 0 0 0;\n",
              "        width: 32px;\n",
              "      }\n",
              "\n",
              "      .colab-df-generate:hover {\n",
              "        background-color: #E2EBFA;\n",
              "        box-shadow: 0px 1px 2px rgba(60, 64, 67, 0.3), 0px 1px 3px 1px rgba(60, 64, 67, 0.15);\n",
              "        fill: #174EA6;\n",
              "      }\n",
              "\n",
              "      [theme=dark] .colab-df-generate {\n",
              "        background-color: #3B4455;\n",
              "        fill: #D2E3FC;\n",
              "      }\n",
              "\n",
              "      [theme=dark] .colab-df-generate:hover {\n",
              "        background-color: #434B5C;\n",
              "        box-shadow: 0px 1px 3px 1px rgba(0, 0, 0, 0.15);\n",
              "        filter: drop-shadow(0px 1px 2px rgba(0, 0, 0, 0.3));\n",
              "        fill: #FFFFFF;\n",
              "      }\n",
              "    </style>\n",
              "    <button class=\"colab-df-generate\" onclick=\"generateWithVariable('df')\"\n",
              "            title=\"Generate code using this dataframe.\"\n",
              "            style=\"display:none;\">\n",
              "\n",
              "  <svg xmlns=\"http://www.w3.org/2000/svg\" height=\"24px\"viewBox=\"0 0 24 24\"\n",
              "       width=\"24px\">\n",
              "    <path d=\"M7,19H8.4L18.45,9,17,7.55,7,17.6ZM5,21V16.75L18.45,3.32a2,2,0,0,1,2.83,0l1.4,1.43a1.91,1.91,0,0,1,.58,1.4,1.91,1.91,0,0,1-.58,1.4L9.25,21ZM18.45,9,17,7.55Zm-12,3A5.31,5.31,0,0,0,4.9,8.1,5.31,5.31,0,0,0,1,6.5,5.31,5.31,0,0,0,4.9,4.9,5.31,5.31,0,0,0,6.5,1,5.31,5.31,0,0,0,8.1,4.9,5.31,5.31,0,0,0,12,6.5,5.46,5.46,0,0,0,6.5,12Z\"/>\n",
              "  </svg>\n",
              "    </button>\n",
              "    <script>\n",
              "      (() => {\n",
              "      const buttonEl =\n",
              "        document.querySelector('#id_b51c927c-612c-4096-b647-1995d0f8ce0b button.colab-df-generate');\n",
              "      buttonEl.style.display =\n",
              "        google.colab.kernel.accessAllowed ? 'block' : 'none';\n",
              "\n",
              "      buttonEl.onclick = () => {\n",
              "        google.colab.notebook.generateWithVariable('df');\n",
              "      }\n",
              "      })();\n",
              "    </script>\n",
              "  </div>\n",
              "\n",
              "    </div>\n",
              "  </div>\n"
            ],
            "application/vnd.google.colaboratory.intrinsic+json": {
              "type": "dataframe",
              "variable_name": "df",
              "summary": "{\n  \"name\": \"df\",\n  \"rows\": 2000,\n  \"fields\": [\n    {\n      \"column\": \"productTitle\",\n      \"properties\": {\n        \"dtype\": \"string\",\n        \"num_unique_values\": 1793,\n        \"samples\": [\n          \"VOWNER Vanity with Lighted Mirror - Makeup Vanity Desk with Power Outlet and 7 Drawers, 3 Color Lighting Modes Adjustable\",\n          \"Patio Furniture Sets, 7 Piece PE Rattan Wicker Sofa Set, Outdoor Sectional Furniture Chair Set, Outdoor Furniture Sets\",\n          \"White Computer Writing Desk with Drawers Mirror Makeup Table Modern Home Office Wood Legs 39.4*19.7in\"\n        ],\n        \"semantic_type\": \"\",\n        \"description\": \"\"\n      }\n    },\n    {\n      \"column\": \"originalPrice\",\n      \"properties\": {\n        \"dtype\": \"category\",\n        \"num_unique_values\": 453,\n        \"samples\": [\n          \"$218.4\",\n          \"$681.72\",\n          \"$9.78\"\n        ],\n        \"semantic_type\": \"\",\n        \"description\": \"\"\n      }\n    },\n    {\n      \"column\": \"price\",\n      \"properties\": {\n        \"dtype\": \"string\",\n        \"num_unique_values\": 1802,\n        \"samples\": [\n          \"$39.04\",\n          \"$152\",\n          \"$30.27\"\n        ],\n        \"semantic_type\": \"\",\n        \"description\": \"\"\n      }\n    },\n    {\n      \"column\": \"sold\",\n      \"properties\": {\n        \"dtype\": \"number\",\n        \"std\": 254,\n        \"min\": 0,\n        \"max\": 10000,\n        \"num_unique_values\": 115,\n        \"samples\": [\n          47,\n          53,\n          20\n        ],\n        \"semantic_type\": \"\",\n        \"description\": \"\"\n      }\n    },\n    {\n      \"column\": \"tagText\",\n      \"properties\": {\n        \"dtype\": \"category\",\n        \"num_unique_values\": 100,\n        \"samples\": [\n          \"+Shipping: $66.35\",\n          \"+Shipping: $322.02\",\n          \"+Shipping: $12.82\"\n        ],\n        \"semantic_type\": \"\",\n        \"description\": \"\"\n      }\n    }\n  ]\n}"
            }
          },
          "metadata": {},
          "execution_count": 3
        }
      ]
    },
    {
      "cell_type": "markdown",
      "source": [
        "-  these following steps contains  closer visual of data and make one create more understending of data\n",
        "- such as reading some inforation of data\n",
        "- how many shapes and rows are thier using df.shape\n",
        "- df.column in order to see all avilable columns in data\n",
        "\n"
      ],
      "metadata": {
        "id": "Q8PjYVrxo0t1"
      }
    },
    {
      "cell_type": "code",
      "source": [
        "df_clone = df.copy()\n",
        "# created clone of data for further usecase"
      ],
      "metadata": {
        "id": "Jggd2bl06Y3L"
      },
      "execution_count": 4,
      "outputs": []
    },
    {
      "cell_type": "code",
      "source": [
        "df.shape\n",
        "# this data has total of 2000  rows\n",
        "# and 5 columns"
      ],
      "metadata": {
        "id": "em0Lt-0dvEbB",
        "colab": {
          "base_uri": "https://localhost:8080/"
        },
        "outputId": "3dfc946e-c282-4cfe-9fe7-ac41e7b29135"
      },
      "execution_count": 5,
      "outputs": [
        {
          "output_type": "execute_result",
          "data": {
            "text/plain": [
              "(2000, 5)"
            ]
          },
          "metadata": {},
          "execution_count": 5
        }
      ]
    },
    {
      "cell_type": "code",
      "source": [
        "df.columns\n",
        "# it shows the all columns of all data"
      ],
      "metadata": {
        "id": "k4FwI3qhvGXn",
        "colab": {
          "base_uri": "https://localhost:8080/"
        },
        "outputId": "2df2af97-f33e-4ff7-bd8b-81bfd4f8640e"
      },
      "execution_count": 6,
      "outputs": [
        {
          "output_type": "execute_result",
          "data": {
            "text/plain": [
              "Index(['productTitle', 'originalPrice', 'price', 'sold', 'tagText'], dtype='object')"
            ]
          },
          "metadata": {},
          "execution_count": 6
        }
      ]
    },
    {
      "cell_type": "markdown",
      "source": [
        ": productTitle: The name of the furniture item.\n",
        "   - columns information :\n",
        "   -  originalPrice: The original price of the item before any discounts.\n",
        "   -  price: The current selling price of the item.\n",
        "   -  sold: The number of units sold.\n",
        "   -  tagText: Additional tags associated with the item (e.g., \"Free shipping\").\n",
        "   - Objective: To analyze product-level sales data and build a machine learning model to predict the number of furniture items sold, based on features like price, discount, and shipping details."
      ],
      "metadata": {
        "id": "mbC4amlv-acY"
      }
    },
    {
      "cell_type": "code",
      "source": [
        "# it shows top 7 rows of data , only done for basic visulization of data\n",
        "df.head(7)"
      ],
      "metadata": {
        "id": "97_5CUcjvsfM",
        "colab": {
          "base_uri": "https://localhost:8080/",
          "height": 269
        },
        "outputId": "ea79447b-0ffb-4ff2-c902-3384585ca1f8"
      },
      "execution_count": 7,
      "outputs": [
        {
          "output_type": "execute_result",
          "data": {
            "text/plain": [
              "                                        productTitle originalPrice    price  \\\n",
              "0  Dresser For Bedroom With 9 Fabric Drawers Ward...           NaN   $46.79   \n",
              "1  Outdoor Conversation Set 4 Pieces Patio Furnit...           NaN  $169.72   \n",
              "2  Desser For Bedroom With 7 Fabric Drawers Organ...         $78.4   $39.46   \n",
              "3  Modern Accent Boucle Chair,Upholstered Tufted ...           NaN  $111.99   \n",
              "4  Small Unit Simple Computer Desk Household Wood...        $48.82   $21.37   \n",
              "5  3 Pieces Patio Furniture Set, Outdoor Swivel G...     $1,294.04   $123.4   \n",
              "6  5-Piece Patio Furniture Set Outdoor Couch with...           NaN  $198.31   \n",
              "\n",
              "   sold        tagText  \n",
              "0   600  Free shipping  \n",
              "1     0  Free shipping  \n",
              "2     7  Free shipping  \n",
              "3     0  Free shipping  \n",
              "4     1  Free shipping  \n",
              "5    53  Free shipping  \n",
              "6     1  Free shipping  "
            ],
            "text/html": [
              "\n",
              "  <div id=\"df-00782432-6cd3-464a-b7b9-538b199d85cb\" class=\"colab-df-container\">\n",
              "    <div>\n",
              "<style scoped>\n",
              "    .dataframe tbody tr th:only-of-type {\n",
              "        vertical-align: middle;\n",
              "    }\n",
              "\n",
              "    .dataframe tbody tr th {\n",
              "        vertical-align: top;\n",
              "    }\n",
              "\n",
              "    .dataframe thead th {\n",
              "        text-align: right;\n",
              "    }\n",
              "</style>\n",
              "<table border=\"1\" class=\"dataframe\">\n",
              "  <thead>\n",
              "    <tr style=\"text-align: right;\">\n",
              "      <th></th>\n",
              "      <th>productTitle</th>\n",
              "      <th>originalPrice</th>\n",
              "      <th>price</th>\n",
              "      <th>sold</th>\n",
              "      <th>tagText</th>\n",
              "    </tr>\n",
              "  </thead>\n",
              "  <tbody>\n",
              "    <tr>\n",
              "      <th>0</th>\n",
              "      <td>Dresser For Bedroom With 9 Fabric Drawers Ward...</td>\n",
              "      <td>NaN</td>\n",
              "      <td>$46.79</td>\n",
              "      <td>600</td>\n",
              "      <td>Free shipping</td>\n",
              "    </tr>\n",
              "    <tr>\n",
              "      <th>1</th>\n",
              "      <td>Outdoor Conversation Set 4 Pieces Patio Furnit...</td>\n",
              "      <td>NaN</td>\n",
              "      <td>$169.72</td>\n",
              "      <td>0</td>\n",
              "      <td>Free shipping</td>\n",
              "    </tr>\n",
              "    <tr>\n",
              "      <th>2</th>\n",
              "      <td>Desser For Bedroom With 7 Fabric Drawers Organ...</td>\n",
              "      <td>$78.4</td>\n",
              "      <td>$39.46</td>\n",
              "      <td>7</td>\n",
              "      <td>Free shipping</td>\n",
              "    </tr>\n",
              "    <tr>\n",
              "      <th>3</th>\n",
              "      <td>Modern Accent Boucle Chair,Upholstered Tufted ...</td>\n",
              "      <td>NaN</td>\n",
              "      <td>$111.99</td>\n",
              "      <td>0</td>\n",
              "      <td>Free shipping</td>\n",
              "    </tr>\n",
              "    <tr>\n",
              "      <th>4</th>\n",
              "      <td>Small Unit Simple Computer Desk Household Wood...</td>\n",
              "      <td>$48.82</td>\n",
              "      <td>$21.37</td>\n",
              "      <td>1</td>\n",
              "      <td>Free shipping</td>\n",
              "    </tr>\n",
              "    <tr>\n",
              "      <th>5</th>\n",
              "      <td>3 Pieces Patio Furniture Set, Outdoor Swivel G...</td>\n",
              "      <td>$1,294.04</td>\n",
              "      <td>$123.4</td>\n",
              "      <td>53</td>\n",
              "      <td>Free shipping</td>\n",
              "    </tr>\n",
              "    <tr>\n",
              "      <th>6</th>\n",
              "      <td>5-Piece Patio Furniture Set Outdoor Couch with...</td>\n",
              "      <td>NaN</td>\n",
              "      <td>$198.31</td>\n",
              "      <td>1</td>\n",
              "      <td>Free shipping</td>\n",
              "    </tr>\n",
              "  </tbody>\n",
              "</table>\n",
              "</div>\n",
              "    <div class=\"colab-df-buttons\">\n",
              "\n",
              "  <div class=\"colab-df-container\">\n",
              "    <button class=\"colab-df-convert\" onclick=\"convertToInteractive('df-00782432-6cd3-464a-b7b9-538b199d85cb')\"\n",
              "            title=\"Convert this dataframe to an interactive table.\"\n",
              "            style=\"display:none;\">\n",
              "\n",
              "  <svg xmlns=\"http://www.w3.org/2000/svg\" height=\"24px\" viewBox=\"0 -960 960 960\">\n",
              "    <path d=\"M120-120v-720h720v720H120Zm60-500h600v-160H180v160Zm220 220h160v-160H400v160Zm0 220h160v-160H400v160ZM180-400h160v-160H180v160Zm440 0h160v-160H620v160ZM180-180h160v-160H180v160Zm440 0h160v-160H620v160Z\"/>\n",
              "  </svg>\n",
              "    </button>\n",
              "\n",
              "  <style>\n",
              "    .colab-df-container {\n",
              "      display:flex;\n",
              "      gap: 12px;\n",
              "    }\n",
              "\n",
              "    .colab-df-convert {\n",
              "      background-color: #E8F0FE;\n",
              "      border: none;\n",
              "      border-radius: 50%;\n",
              "      cursor: pointer;\n",
              "      display: none;\n",
              "      fill: #1967D2;\n",
              "      height: 32px;\n",
              "      padding: 0 0 0 0;\n",
              "      width: 32px;\n",
              "    }\n",
              "\n",
              "    .colab-df-convert:hover {\n",
              "      background-color: #E2EBFA;\n",
              "      box-shadow: 0px 1px 2px rgba(60, 64, 67, 0.3), 0px 1px 3px 1px rgba(60, 64, 67, 0.15);\n",
              "      fill: #174EA6;\n",
              "    }\n",
              "\n",
              "    .colab-df-buttons div {\n",
              "      margin-bottom: 4px;\n",
              "    }\n",
              "\n",
              "    [theme=dark] .colab-df-convert {\n",
              "      background-color: #3B4455;\n",
              "      fill: #D2E3FC;\n",
              "    }\n",
              "\n",
              "    [theme=dark] .colab-df-convert:hover {\n",
              "      background-color: #434B5C;\n",
              "      box-shadow: 0px 1px 3px 1px rgba(0, 0, 0, 0.15);\n",
              "      filter: drop-shadow(0px 1px 2px rgba(0, 0, 0, 0.3));\n",
              "      fill: #FFFFFF;\n",
              "    }\n",
              "  </style>\n",
              "\n",
              "    <script>\n",
              "      const buttonEl =\n",
              "        document.querySelector('#df-00782432-6cd3-464a-b7b9-538b199d85cb button.colab-df-convert');\n",
              "      buttonEl.style.display =\n",
              "        google.colab.kernel.accessAllowed ? 'block' : 'none';\n",
              "\n",
              "      async function convertToInteractive(key) {\n",
              "        const element = document.querySelector('#df-00782432-6cd3-464a-b7b9-538b199d85cb');\n",
              "        const dataTable =\n",
              "          await google.colab.kernel.invokeFunction('convertToInteractive',\n",
              "                                                    [key], {});\n",
              "        if (!dataTable) return;\n",
              "\n",
              "        const docLinkHtml = 'Like what you see? Visit the ' +\n",
              "          '<a target=\"_blank\" href=https://colab.research.google.com/notebooks/data_table.ipynb>data table notebook</a>'\n",
              "          + ' to learn more about interactive tables.';\n",
              "        element.innerHTML = '';\n",
              "        dataTable['output_type'] = 'display_data';\n",
              "        await google.colab.output.renderOutput(dataTable, element);\n",
              "        const docLink = document.createElement('div');\n",
              "        docLink.innerHTML = docLinkHtml;\n",
              "        element.appendChild(docLink);\n",
              "      }\n",
              "    </script>\n",
              "  </div>\n",
              "\n",
              "\n",
              "    <div id=\"df-2bd01ab0-4b12-4cf1-a213-7beefc36210a\">\n",
              "      <button class=\"colab-df-quickchart\" onclick=\"quickchart('df-2bd01ab0-4b12-4cf1-a213-7beefc36210a')\"\n",
              "                title=\"Suggest charts\"\n",
              "                style=\"display:none;\">\n",
              "\n",
              "<svg xmlns=\"http://www.w3.org/2000/svg\" height=\"24px\"viewBox=\"0 0 24 24\"\n",
              "     width=\"24px\">\n",
              "    <g>\n",
              "        <path d=\"M19 3H5c-1.1 0-2 .9-2 2v14c0 1.1.9 2 2 2h14c1.1 0 2-.9 2-2V5c0-1.1-.9-2-2-2zM9 17H7v-7h2v7zm4 0h-2V7h2v10zm4 0h-2v-4h2v4z\"/>\n",
              "    </g>\n",
              "</svg>\n",
              "      </button>\n",
              "\n",
              "<style>\n",
              "  .colab-df-quickchart {\n",
              "      --bg-color: #E8F0FE;\n",
              "      --fill-color: #1967D2;\n",
              "      --hover-bg-color: #E2EBFA;\n",
              "      --hover-fill-color: #174EA6;\n",
              "      --disabled-fill-color: #AAA;\n",
              "      --disabled-bg-color: #DDD;\n",
              "  }\n",
              "\n",
              "  [theme=dark] .colab-df-quickchart {\n",
              "      --bg-color: #3B4455;\n",
              "      --fill-color: #D2E3FC;\n",
              "      --hover-bg-color: #434B5C;\n",
              "      --hover-fill-color: #FFFFFF;\n",
              "      --disabled-bg-color: #3B4455;\n",
              "      --disabled-fill-color: #666;\n",
              "  }\n",
              "\n",
              "  .colab-df-quickchart {\n",
              "    background-color: var(--bg-color);\n",
              "    border: none;\n",
              "    border-radius: 50%;\n",
              "    cursor: pointer;\n",
              "    display: none;\n",
              "    fill: var(--fill-color);\n",
              "    height: 32px;\n",
              "    padding: 0;\n",
              "    width: 32px;\n",
              "  }\n",
              "\n",
              "  .colab-df-quickchart:hover {\n",
              "    background-color: var(--hover-bg-color);\n",
              "    box-shadow: 0 1px 2px rgba(60, 64, 67, 0.3), 0 1px 3px 1px rgba(60, 64, 67, 0.15);\n",
              "    fill: var(--button-hover-fill-color);\n",
              "  }\n",
              "\n",
              "  .colab-df-quickchart-complete:disabled,\n",
              "  .colab-df-quickchart-complete:disabled:hover {\n",
              "    background-color: var(--disabled-bg-color);\n",
              "    fill: var(--disabled-fill-color);\n",
              "    box-shadow: none;\n",
              "  }\n",
              "\n",
              "  .colab-df-spinner {\n",
              "    border: 2px solid var(--fill-color);\n",
              "    border-color: transparent;\n",
              "    border-bottom-color: var(--fill-color);\n",
              "    animation:\n",
              "      spin 1s steps(1) infinite;\n",
              "  }\n",
              "\n",
              "  @keyframes spin {\n",
              "    0% {\n",
              "      border-color: transparent;\n",
              "      border-bottom-color: var(--fill-color);\n",
              "      border-left-color: var(--fill-color);\n",
              "    }\n",
              "    20% {\n",
              "      border-color: transparent;\n",
              "      border-left-color: var(--fill-color);\n",
              "      border-top-color: var(--fill-color);\n",
              "    }\n",
              "    30% {\n",
              "      border-color: transparent;\n",
              "      border-left-color: var(--fill-color);\n",
              "      border-top-color: var(--fill-color);\n",
              "      border-right-color: var(--fill-color);\n",
              "    }\n",
              "    40% {\n",
              "      border-color: transparent;\n",
              "      border-right-color: var(--fill-color);\n",
              "      border-top-color: var(--fill-color);\n",
              "    }\n",
              "    60% {\n",
              "      border-color: transparent;\n",
              "      border-right-color: var(--fill-color);\n",
              "    }\n",
              "    80% {\n",
              "      border-color: transparent;\n",
              "      border-right-color: var(--fill-color);\n",
              "      border-bottom-color: var(--fill-color);\n",
              "    }\n",
              "    90% {\n",
              "      border-color: transparent;\n",
              "      border-bottom-color: var(--fill-color);\n",
              "    }\n",
              "  }\n",
              "</style>\n",
              "\n",
              "      <script>\n",
              "        async function quickchart(key) {\n",
              "          const quickchartButtonEl =\n",
              "            document.querySelector('#' + key + ' button');\n",
              "          quickchartButtonEl.disabled = true;  // To prevent multiple clicks.\n",
              "          quickchartButtonEl.classList.add('colab-df-spinner');\n",
              "          try {\n",
              "            const charts = await google.colab.kernel.invokeFunction(\n",
              "                'suggestCharts', [key], {});\n",
              "          } catch (error) {\n",
              "            console.error('Error during call to suggestCharts:', error);\n",
              "          }\n",
              "          quickchartButtonEl.classList.remove('colab-df-spinner');\n",
              "          quickchartButtonEl.classList.add('colab-df-quickchart-complete');\n",
              "        }\n",
              "        (() => {\n",
              "          let quickchartButtonEl =\n",
              "            document.querySelector('#df-2bd01ab0-4b12-4cf1-a213-7beefc36210a button');\n",
              "          quickchartButtonEl.style.display =\n",
              "            google.colab.kernel.accessAllowed ? 'block' : 'none';\n",
              "        })();\n",
              "      </script>\n",
              "    </div>\n",
              "\n",
              "    </div>\n",
              "  </div>\n"
            ],
            "application/vnd.google.colaboratory.intrinsic+json": {
              "type": "dataframe",
              "variable_name": "df",
              "summary": "{\n  \"name\": \"df\",\n  \"rows\": 2000,\n  \"fields\": [\n    {\n      \"column\": \"productTitle\",\n      \"properties\": {\n        \"dtype\": \"string\",\n        \"num_unique_values\": 1793,\n        \"samples\": [\n          \"VOWNER Vanity with Lighted Mirror - Makeup Vanity Desk with Power Outlet and 7 Drawers, 3 Color Lighting Modes Adjustable\",\n          \"Patio Furniture Sets, 7 Piece PE Rattan Wicker Sofa Set, Outdoor Sectional Furniture Chair Set, Outdoor Furniture Sets\",\n          \"White Computer Writing Desk with Drawers Mirror Makeup Table Modern Home Office Wood Legs 39.4*19.7in\"\n        ],\n        \"semantic_type\": \"\",\n        \"description\": \"\"\n      }\n    },\n    {\n      \"column\": \"originalPrice\",\n      \"properties\": {\n        \"dtype\": \"category\",\n        \"num_unique_values\": 453,\n        \"samples\": [\n          \"$218.4\",\n          \"$681.72\",\n          \"$9.78\"\n        ],\n        \"semantic_type\": \"\",\n        \"description\": \"\"\n      }\n    },\n    {\n      \"column\": \"price\",\n      \"properties\": {\n        \"dtype\": \"string\",\n        \"num_unique_values\": 1802,\n        \"samples\": [\n          \"$39.04\",\n          \"$152\",\n          \"$30.27\"\n        ],\n        \"semantic_type\": \"\",\n        \"description\": \"\"\n      }\n    },\n    {\n      \"column\": \"sold\",\n      \"properties\": {\n        \"dtype\": \"number\",\n        \"std\": 254,\n        \"min\": 0,\n        \"max\": 10000,\n        \"num_unique_values\": 115,\n        \"samples\": [\n          47,\n          53,\n          20\n        ],\n        \"semantic_type\": \"\",\n        \"description\": \"\"\n      }\n    },\n    {\n      \"column\": \"tagText\",\n      \"properties\": {\n        \"dtype\": \"category\",\n        \"num_unique_values\": 100,\n        \"samples\": [\n          \"+Shipping: $66.35\",\n          \"+Shipping: $322.02\",\n          \"+Shipping: $12.82\"\n        ],\n        \"semantic_type\": \"\",\n        \"description\": \"\"\n      }\n    }\n  ]\n}"
            }
          },
          "metadata": {},
          "execution_count": 7
        }
      ]
    },
    {
      "cell_type": "code",
      "source": [
        "# some random rows of data\n",
        "df.sample(5)"
      ],
      "metadata": {
        "id": "tdXGAwj5vxR9",
        "colab": {
          "base_uri": "https://localhost:8080/",
          "height": 206
        },
        "outputId": "05c0b043-f0f2-4c19-e485-5a42786064ea"
      },
      "execution_count": 8,
      "outputs": [
        {
          "output_type": "execute_result",
          "data": {
            "text/plain": [
              "                                           productTitle originalPrice  \\\n",
              "1998  Furniture Acrylic Coffee Table Transparent Liv...           NaN   \n",
              "1516  Shoe Cabinet, Modern Freestanding Shoes Storag...           NaN   \n",
              "157   Sectional Couch W/Chaise Sleeper Sofa Chenille...           NaN   \n",
              "912   Velvet Vanity Stool Chair for Makeup Room, Bei...           NaN   \n",
              "1982  Acrylic Water Drop Coffee Living Room Center N...           NaN   \n",
              "\n",
              "        price  sold        tagText  \n",
              "1998  $228.18     0  Free shipping  \n",
              "1516  $118.92    11  Free shipping  \n",
              "157   $484.46     0  Free shipping  \n",
              "912    $50.31     1  Free shipping  \n",
              "1982  $146.17     3  Free shipping  "
            ],
            "text/html": [
              "\n",
              "  <div id=\"df-63cebca6-a93e-448e-82be-437fd8514efa\" class=\"colab-df-container\">\n",
              "    <div>\n",
              "<style scoped>\n",
              "    .dataframe tbody tr th:only-of-type {\n",
              "        vertical-align: middle;\n",
              "    }\n",
              "\n",
              "    .dataframe tbody tr th {\n",
              "        vertical-align: top;\n",
              "    }\n",
              "\n",
              "    .dataframe thead th {\n",
              "        text-align: right;\n",
              "    }\n",
              "</style>\n",
              "<table border=\"1\" class=\"dataframe\">\n",
              "  <thead>\n",
              "    <tr style=\"text-align: right;\">\n",
              "      <th></th>\n",
              "      <th>productTitle</th>\n",
              "      <th>originalPrice</th>\n",
              "      <th>price</th>\n",
              "      <th>sold</th>\n",
              "      <th>tagText</th>\n",
              "    </tr>\n",
              "  </thead>\n",
              "  <tbody>\n",
              "    <tr>\n",
              "      <th>1998</th>\n",
              "      <td>Furniture Acrylic Coffee Table Transparent Liv...</td>\n",
              "      <td>NaN</td>\n",
              "      <td>$228.18</td>\n",
              "      <td>0</td>\n",
              "      <td>Free shipping</td>\n",
              "    </tr>\n",
              "    <tr>\n",
              "      <th>1516</th>\n",
              "      <td>Shoe Cabinet, Modern Freestanding Shoes Storag...</td>\n",
              "      <td>NaN</td>\n",
              "      <td>$118.92</td>\n",
              "      <td>11</td>\n",
              "      <td>Free shipping</td>\n",
              "    </tr>\n",
              "    <tr>\n",
              "      <th>157</th>\n",
              "      <td>Sectional Couch W/Chaise Sleeper Sofa Chenille...</td>\n",
              "      <td>NaN</td>\n",
              "      <td>$484.46</td>\n",
              "      <td>0</td>\n",
              "      <td>Free shipping</td>\n",
              "    </tr>\n",
              "    <tr>\n",
              "      <th>912</th>\n",
              "      <td>Velvet Vanity Stool Chair for Makeup Room, Bei...</td>\n",
              "      <td>NaN</td>\n",
              "      <td>$50.31</td>\n",
              "      <td>1</td>\n",
              "      <td>Free shipping</td>\n",
              "    </tr>\n",
              "    <tr>\n",
              "      <th>1982</th>\n",
              "      <td>Acrylic Water Drop Coffee Living Room Center N...</td>\n",
              "      <td>NaN</td>\n",
              "      <td>$146.17</td>\n",
              "      <td>3</td>\n",
              "      <td>Free shipping</td>\n",
              "    </tr>\n",
              "  </tbody>\n",
              "</table>\n",
              "</div>\n",
              "    <div class=\"colab-df-buttons\">\n",
              "\n",
              "  <div class=\"colab-df-container\">\n",
              "    <button class=\"colab-df-convert\" onclick=\"convertToInteractive('df-63cebca6-a93e-448e-82be-437fd8514efa')\"\n",
              "            title=\"Convert this dataframe to an interactive table.\"\n",
              "            style=\"display:none;\">\n",
              "\n",
              "  <svg xmlns=\"http://www.w3.org/2000/svg\" height=\"24px\" viewBox=\"0 -960 960 960\">\n",
              "    <path d=\"M120-120v-720h720v720H120Zm60-500h600v-160H180v160Zm220 220h160v-160H400v160Zm0 220h160v-160H400v160ZM180-400h160v-160H180v160Zm440 0h160v-160H620v160ZM180-180h160v-160H180v160Zm440 0h160v-160H620v160Z\"/>\n",
              "  </svg>\n",
              "    </button>\n",
              "\n",
              "  <style>\n",
              "    .colab-df-container {\n",
              "      display:flex;\n",
              "      gap: 12px;\n",
              "    }\n",
              "\n",
              "    .colab-df-convert {\n",
              "      background-color: #E8F0FE;\n",
              "      border: none;\n",
              "      border-radius: 50%;\n",
              "      cursor: pointer;\n",
              "      display: none;\n",
              "      fill: #1967D2;\n",
              "      height: 32px;\n",
              "      padding: 0 0 0 0;\n",
              "      width: 32px;\n",
              "    }\n",
              "\n",
              "    .colab-df-convert:hover {\n",
              "      background-color: #E2EBFA;\n",
              "      box-shadow: 0px 1px 2px rgba(60, 64, 67, 0.3), 0px 1px 3px 1px rgba(60, 64, 67, 0.15);\n",
              "      fill: #174EA6;\n",
              "    }\n",
              "\n",
              "    .colab-df-buttons div {\n",
              "      margin-bottom: 4px;\n",
              "    }\n",
              "\n",
              "    [theme=dark] .colab-df-convert {\n",
              "      background-color: #3B4455;\n",
              "      fill: #D2E3FC;\n",
              "    }\n",
              "\n",
              "    [theme=dark] .colab-df-convert:hover {\n",
              "      background-color: #434B5C;\n",
              "      box-shadow: 0px 1px 3px 1px rgba(0, 0, 0, 0.15);\n",
              "      filter: drop-shadow(0px 1px 2px rgba(0, 0, 0, 0.3));\n",
              "      fill: #FFFFFF;\n",
              "    }\n",
              "  </style>\n",
              "\n",
              "    <script>\n",
              "      const buttonEl =\n",
              "        document.querySelector('#df-63cebca6-a93e-448e-82be-437fd8514efa button.colab-df-convert');\n",
              "      buttonEl.style.display =\n",
              "        google.colab.kernel.accessAllowed ? 'block' : 'none';\n",
              "\n",
              "      async function convertToInteractive(key) {\n",
              "        const element = document.querySelector('#df-63cebca6-a93e-448e-82be-437fd8514efa');\n",
              "        const dataTable =\n",
              "          await google.colab.kernel.invokeFunction('convertToInteractive',\n",
              "                                                    [key], {});\n",
              "        if (!dataTable) return;\n",
              "\n",
              "        const docLinkHtml = 'Like what you see? Visit the ' +\n",
              "          '<a target=\"_blank\" href=https://colab.research.google.com/notebooks/data_table.ipynb>data table notebook</a>'\n",
              "          + ' to learn more about interactive tables.';\n",
              "        element.innerHTML = '';\n",
              "        dataTable['output_type'] = 'display_data';\n",
              "        await google.colab.output.renderOutput(dataTable, element);\n",
              "        const docLink = document.createElement('div');\n",
              "        docLink.innerHTML = docLinkHtml;\n",
              "        element.appendChild(docLink);\n",
              "      }\n",
              "    </script>\n",
              "  </div>\n",
              "\n",
              "\n",
              "    <div id=\"df-3987ce60-05da-4fea-885b-77df4b6a6d2f\">\n",
              "      <button class=\"colab-df-quickchart\" onclick=\"quickchart('df-3987ce60-05da-4fea-885b-77df4b6a6d2f')\"\n",
              "                title=\"Suggest charts\"\n",
              "                style=\"display:none;\">\n",
              "\n",
              "<svg xmlns=\"http://www.w3.org/2000/svg\" height=\"24px\"viewBox=\"0 0 24 24\"\n",
              "     width=\"24px\">\n",
              "    <g>\n",
              "        <path d=\"M19 3H5c-1.1 0-2 .9-2 2v14c0 1.1.9 2 2 2h14c1.1 0 2-.9 2-2V5c0-1.1-.9-2-2-2zM9 17H7v-7h2v7zm4 0h-2V7h2v10zm4 0h-2v-4h2v4z\"/>\n",
              "    </g>\n",
              "</svg>\n",
              "      </button>\n",
              "\n",
              "<style>\n",
              "  .colab-df-quickchart {\n",
              "      --bg-color: #E8F0FE;\n",
              "      --fill-color: #1967D2;\n",
              "      --hover-bg-color: #E2EBFA;\n",
              "      --hover-fill-color: #174EA6;\n",
              "      --disabled-fill-color: #AAA;\n",
              "      --disabled-bg-color: #DDD;\n",
              "  }\n",
              "\n",
              "  [theme=dark] .colab-df-quickchart {\n",
              "      --bg-color: #3B4455;\n",
              "      --fill-color: #D2E3FC;\n",
              "      --hover-bg-color: #434B5C;\n",
              "      --hover-fill-color: #FFFFFF;\n",
              "      --disabled-bg-color: #3B4455;\n",
              "      --disabled-fill-color: #666;\n",
              "  }\n",
              "\n",
              "  .colab-df-quickchart {\n",
              "    background-color: var(--bg-color);\n",
              "    border: none;\n",
              "    border-radius: 50%;\n",
              "    cursor: pointer;\n",
              "    display: none;\n",
              "    fill: var(--fill-color);\n",
              "    height: 32px;\n",
              "    padding: 0;\n",
              "    width: 32px;\n",
              "  }\n",
              "\n",
              "  .colab-df-quickchart:hover {\n",
              "    background-color: var(--hover-bg-color);\n",
              "    box-shadow: 0 1px 2px rgba(60, 64, 67, 0.3), 0 1px 3px 1px rgba(60, 64, 67, 0.15);\n",
              "    fill: var(--button-hover-fill-color);\n",
              "  }\n",
              "\n",
              "  .colab-df-quickchart-complete:disabled,\n",
              "  .colab-df-quickchart-complete:disabled:hover {\n",
              "    background-color: var(--disabled-bg-color);\n",
              "    fill: var(--disabled-fill-color);\n",
              "    box-shadow: none;\n",
              "  }\n",
              "\n",
              "  .colab-df-spinner {\n",
              "    border: 2px solid var(--fill-color);\n",
              "    border-color: transparent;\n",
              "    border-bottom-color: var(--fill-color);\n",
              "    animation:\n",
              "      spin 1s steps(1) infinite;\n",
              "  }\n",
              "\n",
              "  @keyframes spin {\n",
              "    0% {\n",
              "      border-color: transparent;\n",
              "      border-bottom-color: var(--fill-color);\n",
              "      border-left-color: var(--fill-color);\n",
              "    }\n",
              "    20% {\n",
              "      border-color: transparent;\n",
              "      border-left-color: var(--fill-color);\n",
              "      border-top-color: var(--fill-color);\n",
              "    }\n",
              "    30% {\n",
              "      border-color: transparent;\n",
              "      border-left-color: var(--fill-color);\n",
              "      border-top-color: var(--fill-color);\n",
              "      border-right-color: var(--fill-color);\n",
              "    }\n",
              "    40% {\n",
              "      border-color: transparent;\n",
              "      border-right-color: var(--fill-color);\n",
              "      border-top-color: var(--fill-color);\n",
              "    }\n",
              "    60% {\n",
              "      border-color: transparent;\n",
              "      border-right-color: var(--fill-color);\n",
              "    }\n",
              "    80% {\n",
              "      border-color: transparent;\n",
              "      border-right-color: var(--fill-color);\n",
              "      border-bottom-color: var(--fill-color);\n",
              "    }\n",
              "    90% {\n",
              "      border-color: transparent;\n",
              "      border-bottom-color: var(--fill-color);\n",
              "    }\n",
              "  }\n",
              "</style>\n",
              "\n",
              "      <script>\n",
              "        async function quickchart(key) {\n",
              "          const quickchartButtonEl =\n",
              "            document.querySelector('#' + key + ' button');\n",
              "          quickchartButtonEl.disabled = true;  // To prevent multiple clicks.\n",
              "          quickchartButtonEl.classList.add('colab-df-spinner');\n",
              "          try {\n",
              "            const charts = await google.colab.kernel.invokeFunction(\n",
              "                'suggestCharts', [key], {});\n",
              "          } catch (error) {\n",
              "            console.error('Error during call to suggestCharts:', error);\n",
              "          }\n",
              "          quickchartButtonEl.classList.remove('colab-df-spinner');\n",
              "          quickchartButtonEl.classList.add('colab-df-quickchart-complete');\n",
              "        }\n",
              "        (() => {\n",
              "          let quickchartButtonEl =\n",
              "            document.querySelector('#df-3987ce60-05da-4fea-885b-77df4b6a6d2f button');\n",
              "          quickchartButtonEl.style.display =\n",
              "            google.colab.kernel.accessAllowed ? 'block' : 'none';\n",
              "        })();\n",
              "      </script>\n",
              "    </div>\n",
              "\n",
              "    </div>\n",
              "  </div>\n"
            ],
            "application/vnd.google.colaboratory.intrinsic+json": {
              "type": "dataframe",
              "repr_error": "0"
            }
          },
          "metadata": {},
          "execution_count": 8
        }
      ]
    },
    {
      "cell_type": "code",
      "source": [
        "# each columns and data type they contain ..\n",
        "df.dtypes\n"
      ],
      "metadata": {
        "id": "8WvQ6uzwwBSE",
        "colab": {
          "base_uri": "https://localhost:8080/",
          "height": 241
        },
        "outputId": "f510c4d0-e4dd-4c3a-ca5d-d93de3a46f6a"
      },
      "execution_count": 9,
      "outputs": [
        {
          "output_type": "execute_result",
          "data": {
            "text/plain": [
              "productTitle     object\n",
              "originalPrice    object\n",
              "price            object\n",
              "sold              int64\n",
              "tagText          object\n",
              "dtype: object"
            ],
            "text/html": [
              "<div>\n",
              "<style scoped>\n",
              "    .dataframe tbody tr th:only-of-type {\n",
              "        vertical-align: middle;\n",
              "    }\n",
              "\n",
              "    .dataframe tbody tr th {\n",
              "        vertical-align: top;\n",
              "    }\n",
              "\n",
              "    .dataframe thead th {\n",
              "        text-align: right;\n",
              "    }\n",
              "</style>\n",
              "<table border=\"1\" class=\"dataframe\">\n",
              "  <thead>\n",
              "    <tr style=\"text-align: right;\">\n",
              "      <th></th>\n",
              "      <th>0</th>\n",
              "    </tr>\n",
              "  </thead>\n",
              "  <tbody>\n",
              "    <tr>\n",
              "      <th>productTitle</th>\n",
              "      <td>object</td>\n",
              "    </tr>\n",
              "    <tr>\n",
              "      <th>originalPrice</th>\n",
              "      <td>object</td>\n",
              "    </tr>\n",
              "    <tr>\n",
              "      <th>price</th>\n",
              "      <td>object</td>\n",
              "    </tr>\n",
              "    <tr>\n",
              "      <th>sold</th>\n",
              "      <td>int64</td>\n",
              "    </tr>\n",
              "    <tr>\n",
              "      <th>tagText</th>\n",
              "      <td>object</td>\n",
              "    </tr>\n",
              "  </tbody>\n",
              "</table>\n",
              "</div><br><label><b>dtype:</b> object</label>"
            ]
          },
          "metadata": {},
          "execution_count": 9
        }
      ]
    },
    {
      "cell_type": "code",
      "source": [
        "# it is also an another way of checking the data type ..\n",
        "df.info()"
      ],
      "metadata": {
        "id": "K56wfHAIwNay",
        "colab": {
          "base_uri": "https://localhost:8080/"
        },
        "outputId": "aa84e9b9-edec-422a-d49f-75154aa922bd"
      },
      "execution_count": 10,
      "outputs": [
        {
          "output_type": "stream",
          "name": "stdout",
          "text": [
            "<class 'pandas.core.frame.DataFrame'>\n",
            "RangeIndex: 2000 entries, 0 to 1999\n",
            "Data columns (total 5 columns):\n",
            " #   Column         Non-Null Count  Dtype \n",
            "---  ------         --------------  ----- \n",
            " 0   productTitle   2000 non-null   object\n",
            " 1   originalPrice  487 non-null    object\n",
            " 2   price          2000 non-null   object\n",
            " 3   sold           2000 non-null   int64 \n",
            " 4   tagText        1997 non-null   object\n",
            "dtypes: int64(1), object(4)\n",
            "memory usage: 78.3+ KB\n"
          ]
        }
      ]
    },
    {
      "cell_type": "markdown",
      "source": [
        ": now finding statstical info or in another word 5 point summry of data which inlcudes the min values max values and standred deviation of data ."
      ],
      "metadata": {
        "id": "0PHnHkzW_Ktq"
      }
    },
    {
      "cell_type": "code",
      "source": [
        "df.describe()\n",
        "# here we got min / max and avg etc of sold column"
      ],
      "metadata": {
        "id": "3fWpwMWZyQ7K",
        "colab": {
          "base_uri": "https://localhost:8080/",
          "height": 300
        },
        "outputId": "47de0f4b-9fc7-4766-f7ca-59a5eecf6e68"
      },
      "execution_count": 11,
      "outputs": [
        {
          "output_type": "execute_result",
          "data": {
            "text/plain": [
              "               sold\n",
              "count   2000.000000\n",
              "mean      23.493500\n",
              "std      254.094061\n",
              "min        0.000000\n",
              "25%        1.000000\n",
              "50%        3.000000\n",
              "75%        9.000000\n",
              "max    10000.000000"
            ],
            "text/html": [
              "\n",
              "  <div id=\"df-64e86cee-195b-4795-acb7-36d0ed6abc92\" class=\"colab-df-container\">\n",
              "    <div>\n",
              "<style scoped>\n",
              "    .dataframe tbody tr th:only-of-type {\n",
              "        vertical-align: middle;\n",
              "    }\n",
              "\n",
              "    .dataframe tbody tr th {\n",
              "        vertical-align: top;\n",
              "    }\n",
              "\n",
              "    .dataframe thead th {\n",
              "        text-align: right;\n",
              "    }\n",
              "</style>\n",
              "<table border=\"1\" class=\"dataframe\">\n",
              "  <thead>\n",
              "    <tr style=\"text-align: right;\">\n",
              "      <th></th>\n",
              "      <th>sold</th>\n",
              "    </tr>\n",
              "  </thead>\n",
              "  <tbody>\n",
              "    <tr>\n",
              "      <th>count</th>\n",
              "      <td>2000.000000</td>\n",
              "    </tr>\n",
              "    <tr>\n",
              "      <th>mean</th>\n",
              "      <td>23.493500</td>\n",
              "    </tr>\n",
              "    <tr>\n",
              "      <th>std</th>\n",
              "      <td>254.094061</td>\n",
              "    </tr>\n",
              "    <tr>\n",
              "      <th>min</th>\n",
              "      <td>0.000000</td>\n",
              "    </tr>\n",
              "    <tr>\n",
              "      <th>25%</th>\n",
              "      <td>1.000000</td>\n",
              "    </tr>\n",
              "    <tr>\n",
              "      <th>50%</th>\n",
              "      <td>3.000000</td>\n",
              "    </tr>\n",
              "    <tr>\n",
              "      <th>75%</th>\n",
              "      <td>9.000000</td>\n",
              "    </tr>\n",
              "    <tr>\n",
              "      <th>max</th>\n",
              "      <td>10000.000000</td>\n",
              "    </tr>\n",
              "  </tbody>\n",
              "</table>\n",
              "</div>\n",
              "    <div class=\"colab-df-buttons\">\n",
              "\n",
              "  <div class=\"colab-df-container\">\n",
              "    <button class=\"colab-df-convert\" onclick=\"convertToInteractive('df-64e86cee-195b-4795-acb7-36d0ed6abc92')\"\n",
              "            title=\"Convert this dataframe to an interactive table.\"\n",
              "            style=\"display:none;\">\n",
              "\n",
              "  <svg xmlns=\"http://www.w3.org/2000/svg\" height=\"24px\" viewBox=\"0 -960 960 960\">\n",
              "    <path d=\"M120-120v-720h720v720H120Zm60-500h600v-160H180v160Zm220 220h160v-160H400v160Zm0 220h160v-160H400v160ZM180-400h160v-160H180v160Zm440 0h160v-160H620v160ZM180-180h160v-160H180v160Zm440 0h160v-160H620v160Z\"/>\n",
              "  </svg>\n",
              "    </button>\n",
              "\n",
              "  <style>\n",
              "    .colab-df-container {\n",
              "      display:flex;\n",
              "      gap: 12px;\n",
              "    }\n",
              "\n",
              "    .colab-df-convert {\n",
              "      background-color: #E8F0FE;\n",
              "      border: none;\n",
              "      border-radius: 50%;\n",
              "      cursor: pointer;\n",
              "      display: none;\n",
              "      fill: #1967D2;\n",
              "      height: 32px;\n",
              "      padding: 0 0 0 0;\n",
              "      width: 32px;\n",
              "    }\n",
              "\n",
              "    .colab-df-convert:hover {\n",
              "      background-color: #E2EBFA;\n",
              "      box-shadow: 0px 1px 2px rgba(60, 64, 67, 0.3), 0px 1px 3px 1px rgba(60, 64, 67, 0.15);\n",
              "      fill: #174EA6;\n",
              "    }\n",
              "\n",
              "    .colab-df-buttons div {\n",
              "      margin-bottom: 4px;\n",
              "    }\n",
              "\n",
              "    [theme=dark] .colab-df-convert {\n",
              "      background-color: #3B4455;\n",
              "      fill: #D2E3FC;\n",
              "    }\n",
              "\n",
              "    [theme=dark] .colab-df-convert:hover {\n",
              "      background-color: #434B5C;\n",
              "      box-shadow: 0px 1px 3px 1px rgba(0, 0, 0, 0.15);\n",
              "      filter: drop-shadow(0px 1px 2px rgba(0, 0, 0, 0.3));\n",
              "      fill: #FFFFFF;\n",
              "    }\n",
              "  </style>\n",
              "\n",
              "    <script>\n",
              "      const buttonEl =\n",
              "        document.querySelector('#df-64e86cee-195b-4795-acb7-36d0ed6abc92 button.colab-df-convert');\n",
              "      buttonEl.style.display =\n",
              "        google.colab.kernel.accessAllowed ? 'block' : 'none';\n",
              "\n",
              "      async function convertToInteractive(key) {\n",
              "        const element = document.querySelector('#df-64e86cee-195b-4795-acb7-36d0ed6abc92');\n",
              "        const dataTable =\n",
              "          await google.colab.kernel.invokeFunction('convertToInteractive',\n",
              "                                                    [key], {});\n",
              "        if (!dataTable) return;\n",
              "\n",
              "        const docLinkHtml = 'Like what you see? Visit the ' +\n",
              "          '<a target=\"_blank\" href=https://colab.research.google.com/notebooks/data_table.ipynb>data table notebook</a>'\n",
              "          + ' to learn more about interactive tables.';\n",
              "        element.innerHTML = '';\n",
              "        dataTable['output_type'] = 'display_data';\n",
              "        await google.colab.output.renderOutput(dataTable, element);\n",
              "        const docLink = document.createElement('div');\n",
              "        docLink.innerHTML = docLinkHtml;\n",
              "        element.appendChild(docLink);\n",
              "      }\n",
              "    </script>\n",
              "  </div>\n",
              "\n",
              "\n",
              "    <div id=\"df-0cfa4e04-1b34-4d61-ae6e-1c8597e7a678\">\n",
              "      <button class=\"colab-df-quickchart\" onclick=\"quickchart('df-0cfa4e04-1b34-4d61-ae6e-1c8597e7a678')\"\n",
              "                title=\"Suggest charts\"\n",
              "                style=\"display:none;\">\n",
              "\n",
              "<svg xmlns=\"http://www.w3.org/2000/svg\" height=\"24px\"viewBox=\"0 0 24 24\"\n",
              "     width=\"24px\">\n",
              "    <g>\n",
              "        <path d=\"M19 3H5c-1.1 0-2 .9-2 2v14c0 1.1.9 2 2 2h14c1.1 0 2-.9 2-2V5c0-1.1-.9-2-2-2zM9 17H7v-7h2v7zm4 0h-2V7h2v10zm4 0h-2v-4h2v4z\"/>\n",
              "    </g>\n",
              "</svg>\n",
              "      </button>\n",
              "\n",
              "<style>\n",
              "  .colab-df-quickchart {\n",
              "      --bg-color: #E8F0FE;\n",
              "      --fill-color: #1967D2;\n",
              "      --hover-bg-color: #E2EBFA;\n",
              "      --hover-fill-color: #174EA6;\n",
              "      --disabled-fill-color: #AAA;\n",
              "      --disabled-bg-color: #DDD;\n",
              "  }\n",
              "\n",
              "  [theme=dark] .colab-df-quickchart {\n",
              "      --bg-color: #3B4455;\n",
              "      --fill-color: #D2E3FC;\n",
              "      --hover-bg-color: #434B5C;\n",
              "      --hover-fill-color: #FFFFFF;\n",
              "      --disabled-bg-color: #3B4455;\n",
              "      --disabled-fill-color: #666;\n",
              "  }\n",
              "\n",
              "  .colab-df-quickchart {\n",
              "    background-color: var(--bg-color);\n",
              "    border: none;\n",
              "    border-radius: 50%;\n",
              "    cursor: pointer;\n",
              "    display: none;\n",
              "    fill: var(--fill-color);\n",
              "    height: 32px;\n",
              "    padding: 0;\n",
              "    width: 32px;\n",
              "  }\n",
              "\n",
              "  .colab-df-quickchart:hover {\n",
              "    background-color: var(--hover-bg-color);\n",
              "    box-shadow: 0 1px 2px rgba(60, 64, 67, 0.3), 0 1px 3px 1px rgba(60, 64, 67, 0.15);\n",
              "    fill: var(--button-hover-fill-color);\n",
              "  }\n",
              "\n",
              "  .colab-df-quickchart-complete:disabled,\n",
              "  .colab-df-quickchart-complete:disabled:hover {\n",
              "    background-color: var(--disabled-bg-color);\n",
              "    fill: var(--disabled-fill-color);\n",
              "    box-shadow: none;\n",
              "  }\n",
              "\n",
              "  .colab-df-spinner {\n",
              "    border: 2px solid var(--fill-color);\n",
              "    border-color: transparent;\n",
              "    border-bottom-color: var(--fill-color);\n",
              "    animation:\n",
              "      spin 1s steps(1) infinite;\n",
              "  }\n",
              "\n",
              "  @keyframes spin {\n",
              "    0% {\n",
              "      border-color: transparent;\n",
              "      border-bottom-color: var(--fill-color);\n",
              "      border-left-color: var(--fill-color);\n",
              "    }\n",
              "    20% {\n",
              "      border-color: transparent;\n",
              "      border-left-color: var(--fill-color);\n",
              "      border-top-color: var(--fill-color);\n",
              "    }\n",
              "    30% {\n",
              "      border-color: transparent;\n",
              "      border-left-color: var(--fill-color);\n",
              "      border-top-color: var(--fill-color);\n",
              "      border-right-color: var(--fill-color);\n",
              "    }\n",
              "    40% {\n",
              "      border-color: transparent;\n",
              "      border-right-color: var(--fill-color);\n",
              "      border-top-color: var(--fill-color);\n",
              "    }\n",
              "    60% {\n",
              "      border-color: transparent;\n",
              "      border-right-color: var(--fill-color);\n",
              "    }\n",
              "    80% {\n",
              "      border-color: transparent;\n",
              "      border-right-color: var(--fill-color);\n",
              "      border-bottom-color: var(--fill-color);\n",
              "    }\n",
              "    90% {\n",
              "      border-color: transparent;\n",
              "      border-bottom-color: var(--fill-color);\n",
              "    }\n",
              "  }\n",
              "</style>\n",
              "\n",
              "      <script>\n",
              "        async function quickchart(key) {\n",
              "          const quickchartButtonEl =\n",
              "            document.querySelector('#' + key + ' button');\n",
              "          quickchartButtonEl.disabled = true;  // To prevent multiple clicks.\n",
              "          quickchartButtonEl.classList.add('colab-df-spinner');\n",
              "          try {\n",
              "            const charts = await google.colab.kernel.invokeFunction(\n",
              "                'suggestCharts', [key], {});\n",
              "          } catch (error) {\n",
              "            console.error('Error during call to suggestCharts:', error);\n",
              "          }\n",
              "          quickchartButtonEl.classList.remove('colab-df-spinner');\n",
              "          quickchartButtonEl.classList.add('colab-df-quickchart-complete');\n",
              "        }\n",
              "        (() => {\n",
              "          let quickchartButtonEl =\n",
              "            document.querySelector('#df-0cfa4e04-1b34-4d61-ae6e-1c8597e7a678 button');\n",
              "          quickchartButtonEl.style.display =\n",
              "            google.colab.kernel.accessAllowed ? 'block' : 'none';\n",
              "        })();\n",
              "      </script>\n",
              "    </div>\n",
              "\n",
              "    </div>\n",
              "  </div>\n"
            ],
            "application/vnd.google.colaboratory.intrinsic+json": {
              "type": "dataframe",
              "summary": "{\n  \"name\": \"# here we got min / max and avg etc of sold column\",\n  \"rows\": 8,\n  \"fields\": [\n    {\n      \"column\": \"sold\",\n      \"properties\": {\n        \"dtype\": \"number\",\n        \"std\": 3488.4071050093885,\n        \"min\": 0.0,\n        \"max\": 10000.0,\n        \"num_unique_values\": 8,\n        \"samples\": [\n          23.4935,\n          3.0,\n          2000.0\n        ],\n        \"semantic_type\": \"\",\n        \"description\": \"\"\n      }\n    }\n  ]\n}"
            }
          },
          "metadata": {},
          "execution_count": 11
        }
      ]
    },
    {
      "cell_type": "markdown",
      "source": [
        "- this bellow step is showing data type and all parsent values in the original price"
      ],
      "metadata": {
        "id": "AzznT5Udqm4P"
      }
    },
    {
      "cell_type": "code",
      "source": [
        "print('data type :',df['originalPrice'].dtypes )\n",
        "df['originalPrice']"
      ],
      "metadata": {
        "id": "g4Od1_XUymZ3",
        "colab": {
          "base_uri": "https://localhost:8080/",
          "height": 476
        },
        "outputId": "843f2858-b6f3-445c-fb9a-4acb990c470a"
      },
      "execution_count": 12,
      "outputs": [
        {
          "output_type": "stream",
          "name": "stdout",
          "text": [
            "data type : object\n"
          ]
        },
        {
          "output_type": "execute_result",
          "data": {
            "text/plain": [
              "0          NaN\n",
              "1          NaN\n",
              "2        $78.4\n",
              "3          NaN\n",
              "4       $48.82\n",
              "         ...  \n",
              "1995       NaN\n",
              "1996       NaN\n",
              "1997       NaN\n",
              "1998       NaN\n",
              "1999       NaN\n",
              "Name: originalPrice, Length: 2000, dtype: object"
            ],
            "text/html": [
              "<div>\n",
              "<style scoped>\n",
              "    .dataframe tbody tr th:only-of-type {\n",
              "        vertical-align: middle;\n",
              "    }\n",
              "\n",
              "    .dataframe tbody tr th {\n",
              "        vertical-align: top;\n",
              "    }\n",
              "\n",
              "    .dataframe thead th {\n",
              "        text-align: right;\n",
              "    }\n",
              "</style>\n",
              "<table border=\"1\" class=\"dataframe\">\n",
              "  <thead>\n",
              "    <tr style=\"text-align: right;\">\n",
              "      <th></th>\n",
              "      <th>originalPrice</th>\n",
              "    </tr>\n",
              "  </thead>\n",
              "  <tbody>\n",
              "    <tr>\n",
              "      <th>0</th>\n",
              "      <td>NaN</td>\n",
              "    </tr>\n",
              "    <tr>\n",
              "      <th>1</th>\n",
              "      <td>NaN</td>\n",
              "    </tr>\n",
              "    <tr>\n",
              "      <th>2</th>\n",
              "      <td>$78.4</td>\n",
              "    </tr>\n",
              "    <tr>\n",
              "      <th>3</th>\n",
              "      <td>NaN</td>\n",
              "    </tr>\n",
              "    <tr>\n",
              "      <th>4</th>\n",
              "      <td>$48.82</td>\n",
              "    </tr>\n",
              "    <tr>\n",
              "      <th>...</th>\n",
              "      <td>...</td>\n",
              "    </tr>\n",
              "    <tr>\n",
              "      <th>1995</th>\n",
              "      <td>NaN</td>\n",
              "    </tr>\n",
              "    <tr>\n",
              "      <th>1996</th>\n",
              "      <td>NaN</td>\n",
              "    </tr>\n",
              "    <tr>\n",
              "      <th>1997</th>\n",
              "      <td>NaN</td>\n",
              "    </tr>\n",
              "    <tr>\n",
              "      <th>1998</th>\n",
              "      <td>NaN</td>\n",
              "    </tr>\n",
              "    <tr>\n",
              "      <th>1999</th>\n",
              "      <td>NaN</td>\n",
              "    </tr>\n",
              "  </tbody>\n",
              "</table>\n",
              "<p>2000 rows × 1 columns</p>\n",
              "</div><br><label><b>dtype:</b> object</label>"
            ]
          },
          "metadata": {},
          "execution_count": 12
        }
      ]
    },
    {
      "cell_type": "markdown",
      "source": [
        "- this bellow step is showing data type and all parsent values in the  price"
      ],
      "metadata": {
        "id": "w30NGiKFq4Uo"
      }
    },
    {
      "cell_type": "code",
      "source": [
        "print('data type : ',df['price'].dtypes)\n",
        "df['price']"
      ],
      "metadata": {
        "id": "usH25miuyzR9",
        "colab": {
          "base_uri": "https://localhost:8080/",
          "height": 476
        },
        "outputId": "5051017a-e1cf-4a9f-834c-878d821a072d"
      },
      "execution_count": 13,
      "outputs": [
        {
          "output_type": "stream",
          "name": "stdout",
          "text": [
            "data type :  object\n"
          ]
        },
        {
          "output_type": "execute_result",
          "data": {
            "text/plain": [
              "0        $46.79\n",
              "1       $169.72\n",
              "2        $39.46\n",
              "3       $111.99\n",
              "4        $21.37\n",
              "         ...   \n",
              "1995     $72.49\n",
              "1996    $276.65\n",
              "1997    $196.44\n",
              "1998    $228.18\n",
              "1999     $99.48\n",
              "Name: price, Length: 2000, dtype: object"
            ],
            "text/html": [
              "<div>\n",
              "<style scoped>\n",
              "    .dataframe tbody tr th:only-of-type {\n",
              "        vertical-align: middle;\n",
              "    }\n",
              "\n",
              "    .dataframe tbody tr th {\n",
              "        vertical-align: top;\n",
              "    }\n",
              "\n",
              "    .dataframe thead th {\n",
              "        text-align: right;\n",
              "    }\n",
              "</style>\n",
              "<table border=\"1\" class=\"dataframe\">\n",
              "  <thead>\n",
              "    <tr style=\"text-align: right;\">\n",
              "      <th></th>\n",
              "      <th>price</th>\n",
              "    </tr>\n",
              "  </thead>\n",
              "  <tbody>\n",
              "    <tr>\n",
              "      <th>0</th>\n",
              "      <td>$46.79</td>\n",
              "    </tr>\n",
              "    <tr>\n",
              "      <th>1</th>\n",
              "      <td>$169.72</td>\n",
              "    </tr>\n",
              "    <tr>\n",
              "      <th>2</th>\n",
              "      <td>$39.46</td>\n",
              "    </tr>\n",
              "    <tr>\n",
              "      <th>3</th>\n",
              "      <td>$111.99</td>\n",
              "    </tr>\n",
              "    <tr>\n",
              "      <th>4</th>\n",
              "      <td>$21.37</td>\n",
              "    </tr>\n",
              "    <tr>\n",
              "      <th>...</th>\n",
              "      <td>...</td>\n",
              "    </tr>\n",
              "    <tr>\n",
              "      <th>1995</th>\n",
              "      <td>$72.49</td>\n",
              "    </tr>\n",
              "    <tr>\n",
              "      <th>1996</th>\n",
              "      <td>$276.65</td>\n",
              "    </tr>\n",
              "    <tr>\n",
              "      <th>1997</th>\n",
              "      <td>$196.44</td>\n",
              "    </tr>\n",
              "    <tr>\n",
              "      <th>1998</th>\n",
              "      <td>$228.18</td>\n",
              "    </tr>\n",
              "    <tr>\n",
              "      <th>1999</th>\n",
              "      <td>$99.48</td>\n",
              "    </tr>\n",
              "  </tbody>\n",
              "</table>\n",
              "<p>2000 rows × 1 columns</p>\n",
              "</div><br><label><b>dtype:</b> object</label>"
            ]
          },
          "metadata": {},
          "execution_count": 13
        }
      ]
    },
    {
      "cell_type": "markdown",
      "source": [
        "### trouble :\n",
        " - here all above columns such as price, originalprice ,  has numrical vlaues inspite of them are being treated as object by data .\n",
        " - so firstly i am  replacing them into numerical as per requred so that further some opration or calculation can be perfromed .\n",
        " - Enstance : as finding total revanue by price and thier solds , but for this target columns has to be in nurmical ."
      ],
      "metadata": {
        "id": "jWRbJc_S_VWk"
      }
    },
    {
      "cell_type": "code",
      "source": [
        "# unique shows each and every possible unique value from our data\n",
        "df['price'].unique()"
      ],
      "metadata": {
        "id": "LhyayTRu35vE",
        "colab": {
          "base_uri": "https://localhost:8080/"
        },
        "outputId": "1b571175-d362-4512-f303-67d50753ec9a"
      },
      "execution_count": 14,
      "outputs": [
        {
          "output_type": "execute_result",
          "data": {
            "text/plain": [
              "array(['$46.79', '$169.72', '$39.46', ..., '$105.16', '$228.18', '$99.48'],\n",
              "      dtype=object)"
            ]
          },
          "metadata": {},
          "execution_count": 14
        }
      ]
    },
    {
      "cell_type": "markdown",
      "source": [
        "- here doller sign seems reason of colums being object"
      ],
      "metadata": {
        "id": "RILd3a5HsYth"
      }
    },
    {
      "cell_type": "markdown",
      "source": [
        ": str.reaplce() : It is a way to replace any specfic text , symbol with any anohter int or textual value .\n",
        "- here using replace function i replaced these all symbol such as ($ , ) with empty strings . which mean these symbols will no longer exists in our data .\n",
        "- Now these symbols less values will allow us to convert these data into nurmical data type\n",
        "- target columns : df['price'] , df['originalprice']"
      ],
      "metadata": {
        "id": "ua4Kq5Ny7DNN"
      }
    },
    {
      "cell_type": "code",
      "source": [
        "df['price']= df['price'].str.replace('$','')\n",
        "df['price']= df['price'].str.replace(',','')"
      ],
      "metadata": {
        "id": "52PjgkNP4lqX"
      },
      "execution_count": 15,
      "outputs": []
    },
    {
      "cell_type": "code",
      "source": [
        "df['originalPrice'] = df['originalPrice'].str.replace(\"$\",\"\")\n",
        "df['originalPrice'] = df['originalPrice'].str.replace(\",\",\"\")"
      ],
      "metadata": {
        "id": "qhI4ea996SIO"
      },
      "execution_count": 16,
      "outputs": []
    },
    {
      "cell_type": "code",
      "source": [
        " # now above both cols all symbols which was causing issue has been removed"
      ],
      "metadata": {
        "id": "-WHfuePh9dMz"
      },
      "execution_count": 17,
      "outputs": []
    },
    {
      "cell_type": "markdown",
      "source": [
        ": Astype - it helps to change any data type to another such as str data into integer .\n",
        "- since those symbols have been removed now these both columns will be changed into float data type by me , reason being is data values contains decimal ."
      ],
      "metadata": {
        "id": "RXnfzXOQt1Dk"
      }
    },
    {
      "cell_type": "code",
      "source": [
        "# now changing the both data type float\n",
        "\n",
        "df['price'] = df['price'].astype(float)\n",
        "df['originalPrice'] = df['originalPrice'].astype(float)"
      ],
      "metadata": {
        "id": "GpU8xVpj-Fy_"
      },
      "execution_count": 18,
      "outputs": []
    },
    {
      "cell_type": "code",
      "source": [
        "print(df['price'].dtypes)\n",
        "print(df['originalPrice'].dtypes)\n",
        "\n",
        "# now we finally changed both data into float"
      ],
      "metadata": {
        "id": "loebe0rt_7sZ",
        "colab": {
          "base_uri": "https://localhost:8080/"
        },
        "outputId": "946beae7-c591-4c64-d82a-5e78a394cf9c"
      },
      "execution_count": 19,
      "outputs": [
        {
          "output_type": "stream",
          "name": "stdout",
          "text": [
            "float64\n",
            "float64\n"
          ]
        }
      ]
    },
    {
      "cell_type": "markdown",
      "source": [
        ": New data after replacing all cruical columns into numerical , visual of our data being displayed bellow .\n"
      ],
      "metadata": {
        "id": "atmA5B4L_uvR"
      }
    },
    {
      "cell_type": "code",
      "source": [
        "df.dtypes"
      ],
      "metadata": {
        "id": "IUp2aDX3AHSY",
        "colab": {
          "base_uri": "https://localhost:8080/",
          "height": 241
        },
        "outputId": "df08d1ad-d940-4f67-c4ea-b1995dba6cf9"
      },
      "execution_count": 20,
      "outputs": [
        {
          "output_type": "execute_result",
          "data": {
            "text/plain": [
              "productTitle      object\n",
              "originalPrice    float64\n",
              "price            float64\n",
              "sold               int64\n",
              "tagText           object\n",
              "dtype: object"
            ],
            "text/html": [
              "<div>\n",
              "<style scoped>\n",
              "    .dataframe tbody tr th:only-of-type {\n",
              "        vertical-align: middle;\n",
              "    }\n",
              "\n",
              "    .dataframe tbody tr th {\n",
              "        vertical-align: top;\n",
              "    }\n",
              "\n",
              "    .dataframe thead th {\n",
              "        text-align: right;\n",
              "    }\n",
              "</style>\n",
              "<table border=\"1\" class=\"dataframe\">\n",
              "  <thead>\n",
              "    <tr style=\"text-align: right;\">\n",
              "      <th></th>\n",
              "      <th>0</th>\n",
              "    </tr>\n",
              "  </thead>\n",
              "  <tbody>\n",
              "    <tr>\n",
              "      <th>productTitle</th>\n",
              "      <td>object</td>\n",
              "    </tr>\n",
              "    <tr>\n",
              "      <th>originalPrice</th>\n",
              "      <td>float64</td>\n",
              "    </tr>\n",
              "    <tr>\n",
              "      <th>price</th>\n",
              "      <td>float64</td>\n",
              "    </tr>\n",
              "    <tr>\n",
              "      <th>sold</th>\n",
              "      <td>int64</td>\n",
              "    </tr>\n",
              "    <tr>\n",
              "      <th>tagText</th>\n",
              "      <td>object</td>\n",
              "    </tr>\n",
              "  </tbody>\n",
              "</table>\n",
              "</div><br><label><b>dtype:</b> object</label>"
            ]
          },
          "metadata": {},
          "execution_count": 20
        }
      ]
    },
    {
      "cell_type": "markdown",
      "source": [
        "## 1. DATA PREPRATION :\n",
        ": why data prepration : it is always been a curical part while performing Eda and preparing data for machine learnig model . because unprepaired or raw data may  contains many null or duplicate values which create noise in data and might effect predction whcih will be done by ML model . So by preparing data we remove or replace these all things so that ML model will parsent more appreant results .\n",
        "\n",
        "- these are the some following steps for data prepration :\n",
        "- dealing with missing values\n",
        "- deleating all duplicate values\n",
        "- dealing with outlier\n"
      ],
      "metadata": {
        "id": "c88IMfR8Ae1E"
      }
    },
    {
      "cell_type": "markdown",
      "source": [
        ": first step >>\n",
        "- dealing with missing values\n",
        "- why : first lets understend hwo missing values occur . when values are not intensionlly given while collection data , sometime due to human error some value miss , even technial reson also play key rols .\n",
        "now how missing vlaue will effect our data . if data has missing vlaue too much  that our ML model or any opration such as eda will miss many data inforation and thier outcome would be less reliable like ML model probeblity . IN this case if product critical values such as price that it may impact calculation .\n",
        "- soluation : So these values either ought to be replaced or deleted from data based on that relvance and condition of missing which is written bellow ."
      ],
      "metadata": {
        "id": "f9ZPK17iCXiy"
      }
    },
    {
      "cell_type": "code",
      "source": [
        "df.isnull().sum()"
      ],
      "metadata": {
        "id": "E48kbvysAl-m",
        "colab": {
          "base_uri": "https://localhost:8080/",
          "height": 241
        },
        "outputId": "c559dea4-620d-4518-9ac9-a8fcfc1c1110"
      },
      "execution_count": 21,
      "outputs": [
        {
          "output_type": "execute_result",
          "data": {
            "text/plain": [
              "productTitle        0\n",
              "originalPrice    1513\n",
              "price               0\n",
              "sold                0\n",
              "tagText             3\n",
              "dtype: int64"
            ],
            "text/html": [
              "<div>\n",
              "<style scoped>\n",
              "    .dataframe tbody tr th:only-of-type {\n",
              "        vertical-align: middle;\n",
              "    }\n",
              "\n",
              "    .dataframe tbody tr th {\n",
              "        vertical-align: top;\n",
              "    }\n",
              "\n",
              "    .dataframe thead th {\n",
              "        text-align: right;\n",
              "    }\n",
              "</style>\n",
              "<table border=\"1\" class=\"dataframe\">\n",
              "  <thead>\n",
              "    <tr style=\"text-align: right;\">\n",
              "      <th></th>\n",
              "      <th>0</th>\n",
              "    </tr>\n",
              "  </thead>\n",
              "  <tbody>\n",
              "    <tr>\n",
              "      <th>productTitle</th>\n",
              "      <td>0</td>\n",
              "    </tr>\n",
              "    <tr>\n",
              "      <th>originalPrice</th>\n",
              "      <td>1513</td>\n",
              "    </tr>\n",
              "    <tr>\n",
              "      <th>price</th>\n",
              "      <td>0</td>\n",
              "    </tr>\n",
              "    <tr>\n",
              "      <th>sold</th>\n",
              "      <td>0</td>\n",
              "    </tr>\n",
              "    <tr>\n",
              "      <th>tagText</th>\n",
              "      <td>3</td>\n",
              "    </tr>\n",
              "  </tbody>\n",
              "</table>\n",
              "</div><br><label><b>dtype:</b> int64</label>"
            ]
          },
          "metadata": {},
          "execution_count": 21
        }
      ]
    },
    {
      "cell_type": "markdown",
      "source": [
        "- insight : here orignal price contain maximum null vlaues , due to this it can not be removed\n",
        "- secondry in tag test thought data has only 3 null values . which according to rule should be removed . but these are very crucail infomration we not afford to lose , so that i am replacing these null value with some diffrent values .\n"
      ],
      "metadata": {
        "id": "78BccBFJBfIg"
      }
    },
    {
      "cell_type": "markdown",
      "source": [
        ": orginal price : it has mximum null values that too with outliear therfor its null vlaues are going to be replaced using median ."
      ],
      "metadata": {
        "id": "ky9cdNOqzhiF"
      }
    },
    {
      "cell_type": "code",
      "source": [
        "# this one was created to figure out outliers from original price data\n",
        "\n",
        "plt.figure(figsize=(12,8))\n",
        "sns.boxplot(df['originalPrice'])\n",
        "plt.show()\n",
        "# it says our data has huge outliears\n"
      ],
      "metadata": {
        "id": "UMoy0q8IDRvV",
        "colab": {
          "base_uri": "https://localhost:8080/",
          "height": 657
        },
        "outputId": "93bbcd5b-923a-45b8-bc9d-e732d47d51d6"
      },
      "execution_count": 22,
      "outputs": [
        {
          "output_type": "display_data",
          "data": {
            "text/plain": [
              "<Figure size 1200x800 with 1 Axes>"
            ],
            "image/png": "[encoded data removed]"
          },
          "metadata": {}
        }
      ]
    },
    {
      "cell_type": "code",
      "source": [
        "# replacing values with median becuase of  outlier being persent in data\n",
        "\n",
        "df['originalPrice'].median()\n",
        "df['originalPrice'].fillna(df['originalPrice'].median() , inplace = True)"
      ],
      "metadata": {
        "id": "CED2NUsBDvD_"
      },
      "execution_count": 23,
      "outputs": []
    },
    {
      "cell_type": "code",
      "source": [
        "# now only one column left which has null vlaues ..\n",
        "df['tagText'].isnull().sum()"
      ],
      "metadata": {
        "id": "KGcmBgB-D_dF",
        "colab": {
          "base_uri": "https://localhost:8080/"
        },
        "outputId": "40b0e025-5fef-4657-a461-a561f38e5763"
      },
      "execution_count": 24,
      "outputs": [
        {
          "output_type": "execute_result",
          "data": {
            "text/plain": [
              "np.int64(3)"
            ]
          },
          "metadata": {},
          "execution_count": 24
        }
      ]
    },
    {
      "cell_type": "code",
      "source": [
        "# replacing null vlaues in tagtext column by unknown\n",
        "df['tagText'].fillna('uknown',inplace =True)"
      ],
      "metadata": {
        "id": "EZX8ZehOLZQW"
      },
      "execution_count": 25,
      "outputs": []
    },
    {
      "cell_type": "code",
      "source": [
        "df.isnull().sum()"
      ],
      "metadata": {
        "id": "DFfWZb5PLvoN",
        "colab": {
          "base_uri": "https://localhost:8080/",
          "height": 241
        },
        "outputId": "46cab295-5dad-40fa-e762-62dbb1280df9"
      },
      "execution_count": 26,
      "outputs": [
        {
          "output_type": "execute_result",
          "data": {
            "text/plain": [
              "productTitle     0\n",
              "originalPrice    0\n",
              "price            0\n",
              "sold             0\n",
              "tagText          0\n",
              "dtype: int64"
            ],
            "text/html": [
              "<div>\n",
              "<style scoped>\n",
              "    .dataframe tbody tr th:only-of-type {\n",
              "        vertical-align: middle;\n",
              "    }\n",
              "\n",
              "    .dataframe tbody tr th {\n",
              "        vertical-align: top;\n",
              "    }\n",
              "\n",
              "    .dataframe thead th {\n",
              "        text-align: right;\n",
              "    }\n",
              "</style>\n",
              "<table border=\"1\" class=\"dataframe\">\n",
              "  <thead>\n",
              "    <tr style=\"text-align: right;\">\n",
              "      <th></th>\n",
              "      <th>0</th>\n",
              "    </tr>\n",
              "  </thead>\n",
              "  <tbody>\n",
              "    <tr>\n",
              "      <th>productTitle</th>\n",
              "      <td>0</td>\n",
              "    </tr>\n",
              "    <tr>\n",
              "      <th>originalPrice</th>\n",
              "      <td>0</td>\n",
              "    </tr>\n",
              "    <tr>\n",
              "      <th>price</th>\n",
              "      <td>0</td>\n",
              "    </tr>\n",
              "    <tr>\n",
              "      <th>sold</th>\n",
              "      <td>0</td>\n",
              "    </tr>\n",
              "    <tr>\n",
              "      <th>tagText</th>\n",
              "      <td>0</td>\n",
              "    </tr>\n",
              "  </tbody>\n",
              "</table>\n",
              "</div><br><label><b>dtype:</b> int64</label>"
            ]
          },
          "metadata": {},
          "execution_count": 26
        }
      ]
    },
    {
      "cell_type": "markdown",
      "source": [
        "- now we have replaced the all null vlaues in our data\n",
        "- i can say mostly data is cleaned"
      ],
      "metadata": {
        "id": "xz73tz3GCI5H"
      }
    },
    {
      "cell_type": "markdown",
      "source": [
        ": 2nd step :>>\n",
        "- duplicate :if thare are some duplciate values so first it adds up extra noise and these vlaues mean same information is being replicated . it will definalty effect calculation . so genrally duplciate values are delted , so am i deleting them .\n",
        "\n",
        "- deleting the all duplicate values\n"
      ],
      "metadata": {
        "id": "JCnpOeoFCRqu"
      }
    },
    {
      "cell_type": "code",
      "source": [
        "df.duplicated().sum()"
      ],
      "metadata": {
        "id": "m1APGhs5Ndcm",
        "colab": {
          "base_uri": "https://localhost:8080/"
        },
        "outputId": "d81e21ac-3c89-491e-d7ec-361e4230f809"
      },
      "execution_count": 27,
      "outputs": [
        {
          "output_type": "execute_result",
          "data": {
            "text/plain": [
              "np.int64(94)"
            ]
          },
          "metadata": {},
          "execution_count": 27
        }
      ]
    },
    {
      "cell_type": "code",
      "source": [
        "df.drop_duplicates(inplace =True)"
      ],
      "metadata": {
        "id": "U1RKZUYVOiRL"
      },
      "execution_count": 28,
      "outputs": []
    },
    {
      "cell_type": "code",
      "source": [
        "df.duplicated().sum()"
      ],
      "metadata": {
        "id": "I1-5LxCqP6BN",
        "colab": {
          "base_uri": "https://localhost:8080/"
        },
        "outputId": "75b1f56d-8fc8-4d44-d5b6-a23c0b08812c"
      },
      "execution_count": 29,
      "outputs": [
        {
          "output_type": "execute_result",
          "data": {
            "text/plain": [
              "np.int64(0)"
            ]
          },
          "metadata": {},
          "execution_count": 29
        }
      ]
    },
    {
      "cell_type": "code",
      "source": [],
      "metadata": {
        "id": "OFIPnUMCRJrp"
      },
      "execution_count": 29,
      "outputs": []
    },
    {
      "cell_type": "markdown",
      "source": [
        "## 2. genrating some more columns which is nessery for upcoming stpes , based on data"
      ],
      "metadata": {
        "id": "XmBfHtMWC6Ji"
      }
    },
    {
      "cell_type": "markdown",
      "source": [
        ": total_revnue = it is new column which is formed by the price multiply by how much quntity of product has been sold . it shows hwo much money was earned by selling each product .\n",
        "- usecase here : in this eccomers data we will figure out which product is sold higher and which is lower .higher revanue  says more profit and low repersnets low profit .\n",
        "- will be even used to figure out which fectors are effecting revnaue more like price and shipping type etc .\n",
        "- therefor it must come in handy a lot to vasulize this data more ."
      ],
      "metadata": {
        "id": "UXdg8W6f1htN"
      }
    },
    {
      "cell_type": "code",
      "source": [
        "df['total_revnue'] = df['price'] * df['sold']\n",
        "# here i genrated new column of total renvaue of each product is which is consits of product total sale and price"
      ],
      "metadata": {
        "id": "682jBSAUSFSE"
      },
      "execution_count": 30,
      "outputs": []
    },
    {
      "cell_type": "markdown",
      "source": [
        ": discunts : it shows the discount given by seller for each product .\n",
        "- usecase : using this new disocunt we can get close to data more . like weather hgiher disocunt increase the total revnaue or not . weather higher discounts increae product selling or not . and very crital how low discounts effect products revnue and thier sales ."
      ],
      "metadata": {
        "id": "2CFlTjjj4Zi4"
      }
    },
    {
      "cell_type": "code",
      "source": [
        "df['discounted_%'] =((df['originalPrice'] - df['price']) / df['originalPrice']) * 100"
      ],
      "metadata": {
        "id": "2wAz3kbcGCug"
      },
      "execution_count": 31,
      "outputs": []
    },
    {
      "cell_type": "code",
      "source": [
        "df['discounted_%'] = df['discounted_%'].clip(lower=0, upper= 100)"
      ],
      "metadata": {
        "id": "g8p_CDcNGbWh"
      },
      "execution_count": 32,
      "outputs": []
    },
    {
      "cell_type": "code",
      "source": [
        "df"
      ],
      "metadata": {
        "id": "7jFdyxNBKAli",
        "colab": {
          "base_uri": "https://localhost:8080/",
          "height": 424
        },
        "outputId": "c4ca9e8f-8798-4b10-c864-b24c461971bf"
      },
      "execution_count": 33,
      "outputs": [
        {
          "output_type": "execute_result",
          "data": {
            "text/plain": [
              "                                           productTitle  originalPrice  \\\n",
              "0     Dresser For Bedroom With 9 Fabric Drawers Ward...          88.31   \n",
              "1     Outdoor Conversation Set 4 Pieces Patio Furnit...          88.31   \n",
              "2     Desser For Bedroom With 7 Fabric Drawers Organ...          78.40   \n",
              "3     Modern Accent Boucle Chair,Upholstered Tufted ...          88.31   \n",
              "4     Small Unit Simple Computer Desk Household Wood...          48.82   \n",
              "...                                                 ...            ...   \n",
              "1992  Oversized Outdoor Swivel Rocker Chairs Set wit...          88.31   \n",
              "1993  6pcs Patio Furniture Set PE Rattan Wicker Sect...          88.31   \n",
              "1994  Garden Furniture 4507 (Dark Grey) Steel Frame ...          88.31   \n",
              "1998  Furniture Acrylic Coffee Table Transparent Liv...          88.31   \n",
              "1999  Bed Frane Bamboo and Metal Platform Bed Frame ...          88.31   \n",
              "\n",
              "       price  sold        tagText  total_revnue  discounted_%  \n",
              "0      46.79   600  Free shipping      28074.00     47.016193  \n",
              "1     169.72     0  Free shipping          0.00      0.000000  \n",
              "2      39.46     7  Free shipping        276.22     49.668367  \n",
              "3     111.99     0  Free shipping          0.00      0.000000  \n",
              "4      21.37     1  Free shipping         21.37     56.226956  \n",
              "...      ...   ...            ...           ...           ...  \n",
              "1992  555.46     0  Free shipping          0.00      0.000000  \n",
              "1993  325.83     4  Free shipping       1303.32      0.000000  \n",
              "1994  105.16     2  Free shipping        210.32      0.000000  \n",
              "1998  228.18     0  Free shipping          0.00      0.000000  \n",
              "1999   99.48     0  Free shipping          0.00      0.000000  \n",
              "\n",
              "[1906 rows x 7 columns]"
            ],
            "text/html": [
              "\n",
              "  <div id=\"df-e2b852a4-ecd3-4765-9221-582a4ab94e6f\" class=\"colab-df-container\">\n",
              "    <div>\n",
              "<style scoped>\n",
              "    .dataframe tbody tr th:only-of-type {\n",
              "        vertical-align: middle;\n",
              "    }\n",
              "\n",
              "    .dataframe tbody tr th {\n",
              "        vertical-align: top;\n",
              "    }\n",
              "\n",
              "    .dataframe thead th {\n",
              "        text-align: right;\n",
              "    }\n",
              "</style>\n",
              "<table border=\"1\" class=\"dataframe\">\n",
              "  <thead>\n",
              "    <tr style=\"text-align: right;\">\n",
              "      <th></th>\n",
              "      <th>productTitle</th>\n",
              "      <th>originalPrice</th>\n",
              "      <th>price</th>\n",
              "      <th>sold</th>\n",
              "      <th>tagText</th>\n",
              "      <th>total_revnue</th>\n",
              "      <th>discounted_%</th>\n",
              "    </tr>\n",
              "  </thead>\n",
              "  <tbody>\n",
              "    <tr>\n",
              "      <th>0</th>\n",
              "      <td>Dresser For Bedroom With 9 Fabric Drawers Ward...</td>\n",
              "      <td>88.31</td>\n",
              "      <td>46.79</td>\n",
              "      <td>600</td>\n",
              "      <td>Free shipping</td>\n",
              "      <td>28074.00</td>\n",
              "      <td>47.016193</td>\n",
              "    </tr>\n",
              "    <tr>\n",
              "      <th>1</th>\n",
              "      <td>Outdoor Conversation Set 4 Pieces Patio Furnit...</td>\n",
              "      <td>88.31</td>\n",
              "      <td>169.72</td>\n",
              "      <td>0</td>\n",
              "      <td>Free shipping</td>\n",
              "      <td>0.00</td>\n",
              "      <td>0.000000</td>\n",
              "    </tr>\n",
              "    <tr>\n",
              "      <th>2</th>\n",
              "      <td>Desser For Bedroom With 7 Fabric Drawers Organ...</td>\n",
              "      <td>78.40</td>\n",
              "      <td>39.46</td>\n",
              "      <td>7</td>\n",
              "      <td>Free shipping</td>\n",
              "      <td>276.22</td>\n",
              "      <td>49.668367</td>\n",
              "    </tr>\n",
              "    <tr>\n",
              "      <th>3</th>\n",
              "      <td>Modern Accent Boucle Chair,Upholstered Tufted ...</td>\n",
              "      <td>88.31</td>\n",
              "      <td>111.99</td>\n",
              "      <td>0</td>\n",
              "      <td>Free shipping</td>\n",
              "      <td>0.00</td>\n",
              "      <td>0.000000</td>\n",
              "    </tr>\n",
              "    <tr>\n",
              "      <th>4</th>\n",
              "      <td>Small Unit Simple Computer Desk Household Wood...</td>\n",
              "      <td>48.82</td>\n",
              "      <td>21.37</td>\n",
              "      <td>1</td>\n",
              "      <td>Free shipping</td>\n",
              "      <td>21.37</td>\n",
              "      <td>56.226956</td>\n",
              "    </tr>\n",
              "    <tr>\n",
              "      <th>...</th>\n",
              "      <td>...</td>\n",
              "      <td>...</td>\n",
              "      <td>...</td>\n",
              "      <td>...</td>\n",
              "      <td>...</td>\n",
              "      <td>...</td>\n",
              "      <td>...</td>\n",
              "    </tr>\n",
              "    <tr>\n",
              "      <th>1992</th>\n",
              "      <td>Oversized Outdoor Swivel Rocker Chairs Set wit...</td>\n",
              "      <td>88.31</td>\n",
              "      <td>555.46</td>\n",
              "      <td>0</td>\n",
              "      <td>Free shipping</td>\n",
              "      <td>0.00</td>\n",
              "      <td>0.000000</td>\n",
              "    </tr>\n",
              "    <tr>\n",
              "      <th>1993</th>\n",
              "      <td>6pcs Patio Furniture Set PE Rattan Wicker Sect...</td>\n",
              "      <td>88.31</td>\n",
              "      <td>325.83</td>\n",
              "      <td>4</td>\n",
              "      <td>Free shipping</td>\n",
              "      <td>1303.32</td>\n",
              "      <td>0.000000</td>\n",
              "    </tr>\n",
              "    <tr>\n",
              "      <th>1994</th>\n",
              "      <td>Garden Furniture 4507 (Dark Grey) Steel Frame ...</td>\n",
              "      <td>88.31</td>\n",
              "      <td>105.16</td>\n",
              "      <td>2</td>\n",
              "      <td>Free shipping</td>\n",
              "      <td>210.32</td>\n",
              "      <td>0.000000</td>\n",
              "    </tr>\n",
              "    <tr>\n",
              "      <th>1998</th>\n",
              "      <td>Furniture Acrylic Coffee Table Transparent Liv...</td>\n",
              "      <td>88.31</td>\n",
              "      <td>228.18</td>\n",
              "      <td>0</td>\n",
              "      <td>Free shipping</td>\n",
              "      <td>0.00</td>\n",
              "      <td>0.000000</td>\n",
              "    </tr>\n",
              "    <tr>\n",
              "      <th>1999</th>\n",
              "      <td>Bed Frane Bamboo and Metal Platform Bed Frame ...</td>\n",
              "      <td>88.31</td>\n",
              "      <td>99.48</td>\n",
              "      <td>0</td>\n",
              "      <td>Free shipping</td>\n",
              "      <td>0.00</td>\n",
              "      <td>0.000000</td>\n",
              "    </tr>\n",
              "  </tbody>\n",
              "</table>\n",
              "<p>1906 rows × 7 columns</p>\n",
              "</div>\n",
              "    <div class=\"colab-df-buttons\">\n",
              "\n",
              "  <div class=\"colab-df-container\">\n",
              "    <button class=\"colab-df-convert\" onclick=\"convertToInteractive('df-e2b852a4-ecd3-4765-9221-582a4ab94e6f')\"\n",
              "            title=\"Convert this dataframe to an interactive table.\"\n",
              "            style=\"display:none;\">\n",
              "\n",
              "  <svg xmlns=\"http://www.w3.org/2000/svg\" height=\"24px\" viewBox=\"0 -960 960 960\">\n",
              "    <path d=\"M120-120v-720h720v720H120Zm60-500h600v-160H180v160Zm220 220h160v-160H400v160Zm0 220h160v-160H400v160ZM180-400h160v-160H180v160Zm440 0h160v-160H620v160ZM180-180h160v-160H180v160Zm440 0h160v-160H620v160Z\"/>\n",
              "  </svg>\n",
              "    </button>\n",
              "\n",
              "  <style>\n",
              "    .colab-df-container {\n",
              "      display:flex;\n",
              "      gap: 12px;\n",
              "    }\n",
              "\n",
              "    .colab-df-convert {\n",
              "      background-color: #E8F0FE;\n",
              "      border: none;\n",
              "      border-radius: 50%;\n",
              "      cursor: pointer;\n",
              "      display: none;\n",
              "      fill: #1967D2;\n",
              "      height: 32px;\n",
              "      padding: 0 0 0 0;\n",
              "      width: 32px;\n",
              "    }\n",
              "\n",
              "    .colab-df-convert:hover {\n",
              "      background-color: #E2EBFA;\n",
              "      box-shadow: 0px 1px 2px rgba(60, 64, 67, 0.3), 0px 1px 3px 1px rgba(60, 64, 67, 0.15);\n",
              "      fill: #174EA6;\n",
              "    }\n",
              "\n",
              "    .colab-df-buttons div {\n",
              "      margin-bottom: 4px;\n",
              "    }\n",
              "\n",
              "    [theme=dark] .colab-df-convert {\n",
              "      background-color: #3B4455;\n",
              "      fill: #D2E3FC;\n",
              "    }\n",
              "\n",
              "    [theme=dark] .colab-df-convert:hover {\n",
              "      background-color: #434B5C;\n",
              "      box-shadow: 0px 1px 3px 1px rgba(0, 0, 0, 0.15);\n",
              "      filter: drop-shadow(0px 1px 2px rgba(0, 0, 0, 0.3));\n",
              "      fill: #FFFFFF;\n",
              "    }\n",
              "  </style>\n",
              "\n",
              "    <script>\n",
              "      const buttonEl =\n",
              "        document.querySelector('#df-e2b852a4-ecd3-4765-9221-582a4ab94e6f button.colab-df-convert');\n",
              "      buttonEl.style.display =\n",
              "        google.colab.kernel.accessAllowed ? 'block' : 'none';\n",
              "\n",
              "      async function convertToInteractive(key) {\n",
              "        const element = document.querySelector('#df-e2b852a4-ecd3-4765-9221-582a4ab94e6f');\n",
              "        const dataTable =\n",
              "          await google.colab.kernel.invokeFunction('convertToInteractive',\n",
              "                                                    [key], {});\n",
              "        if (!dataTable) return;\n",
              "\n",
              "        const docLinkHtml = 'Like what you see? Visit the ' +\n",
              "          '<a target=\"_blank\" href=https://colab.research.google.com/notebooks/data_table.ipynb>data table notebook</a>'\n",
              "          + ' to learn more about interactive tables.';\n",
              "        element.innerHTML = '';\n",
              "        dataTable['output_type'] = 'display_data';\n",
              "        await google.colab.output.renderOutput(dataTable, element);\n",
              "        const docLink = document.createElement('div');\n",
              "        docLink.innerHTML = docLinkHtml;\n",
              "        element.appendChild(docLink);\n",
              "      }\n",
              "    </script>\n",
              "  </div>\n",
              "\n",
              "\n",
              "    <div id=\"df-5e98e0ea-feee-4068-b86c-92ea88a2c507\">\n",
              "      <button class=\"colab-df-quickchart\" onclick=\"quickchart('df-5e98e0ea-feee-4068-b86c-92ea88a2c507')\"\n",
              "                title=\"Suggest charts\"\n",
              "                style=\"display:none;\">\n",
              "\n",
              "<svg xmlns=\"http://www.w3.org/2000/svg\" height=\"24px\"viewBox=\"0 0 24 24\"\n",
              "     width=\"24px\">\n",
              "    <g>\n",
              "        <path d=\"M19 3H5c-1.1 0-2 .9-2 2v14c0 1.1.9 2 2 2h14c1.1 0 2-.9 2-2V5c0-1.1-.9-2-2-2zM9 17H7v-7h2v7zm4 0h-2V7h2v10zm4 0h-2v-4h2v4z\"/>\n",
              "    </g>\n",
              "</svg>\n",
              "      </button>\n",
              "\n",
              "<style>\n",
              "  .colab-df-quickchart {\n",
              "      --bg-color: #E8F0FE;\n",
              "      --fill-color: #1967D2;\n",
              "      --hover-bg-color: #E2EBFA;\n",
              "      --hover-fill-color: #174EA6;\n",
              "      --disabled-fill-color: #AAA;\n",
              "      --disabled-bg-color: #DDD;\n",
              "  }\n",
              "\n",
              "  [theme=dark] .colab-df-quickchart {\n",
              "      --bg-color: #3B4455;\n",
              "      --fill-color: #D2E3FC;\n",
              "      --hover-bg-color: #434B5C;\n",
              "      --hover-fill-color: #FFFFFF;\n",
              "      --disabled-bg-color: #3B4455;\n",
              "      --disabled-fill-color: #666;\n",
              "  }\n",
              "\n",
              "  .colab-df-quickchart {\n",
              "    background-color: var(--bg-color);\n",
              "    border: none;\n",
              "    border-radius: 50%;\n",
              "    cursor: pointer;\n",
              "    display: none;\n",
              "    fill: var(--fill-color);\n",
              "    height: 32px;\n",
              "    padding: 0;\n",
              "    width: 32px;\n",
              "  }\n",
              "\n",
              "  .colab-df-quickchart:hover {\n",
              "    background-color: var(--hover-bg-color);\n",
              "    box-shadow: 0 1px 2px rgba(60, 64, 67, 0.3), 0 1px 3px 1px rgba(60, 64, 67, 0.15);\n",
              "    fill: var(--button-hover-fill-color);\n",
              "  }\n",
              "\n",
              "  .colab-df-quickchart-complete:disabled,\n",
              "  .colab-df-quickchart-complete:disabled:hover {\n",
              "    background-color: var(--disabled-bg-color);\n",
              "    fill: var(--disabled-fill-color);\n",
              "    box-shadow: none;\n",
              "  }\n",
              "\n",
              "  .colab-df-spinner {\n",
              "    border: 2px solid var(--fill-color);\n",
              "    border-color: transparent;\n",
              "    border-bottom-color: var(--fill-color);\n",
              "    animation:\n",
              "      spin 1s steps(1) infinite;\n",
              "  }\n",
              "\n",
              "  @keyframes spin {\n",
              "    0% {\n",
              "      border-color: transparent;\n",
              "      border-bottom-color: var(--fill-color);\n",
              "      border-left-color: var(--fill-color);\n",
              "    }\n",
              "    20% {\n",
              "      border-color: transparent;\n",
              "      border-left-color: var(--fill-color);\n",
              "      border-top-color: var(--fill-color);\n",
              "    }\n",
              "    30% {\n",
              "      border-color: transparent;\n",
              "      border-left-color: var(--fill-color);\n",
              "      border-top-color: var(--fill-color);\n",
              "      border-right-color: var(--fill-color);\n",
              "    }\n",
              "    40% {\n",
              "      border-color: transparent;\n",
              "      border-right-color: var(--fill-color);\n",
              "      border-top-color: var(--fill-color);\n",
              "    }\n",
              "    60% {\n",
              "      border-color: transparent;\n",
              "      border-right-color: var(--fill-color);\n",
              "    }\n",
              "    80% {\n",
              "      border-color: transparent;\n",
              "      border-right-color: var(--fill-color);\n",
              "      border-bottom-color: var(--fill-color);\n",
              "    }\n",
              "    90% {\n",
              "      border-color: transparent;\n",
              "      border-bottom-color: var(--fill-color);\n",
              "    }\n",
              "  }\n",
              "</style>\n",
              "\n",
              "      <script>\n",
              "        async function quickchart(key) {\n",
              "          const quickchartButtonEl =\n",
              "            document.querySelector('#' + key + ' button');\n",
              "          quickchartButtonEl.disabled = true;  // To prevent multiple clicks.\n",
              "          quickchartButtonEl.classList.add('colab-df-spinner');\n",
              "          try {\n",
              "            const charts = await google.colab.kernel.invokeFunction(\n",
              "                'suggestCharts', [key], {});\n",
              "          } catch (error) {\n",
              "            console.error('Error during call to suggestCharts:', error);\n",
              "          }\n",
              "          quickchartButtonEl.classList.remove('colab-df-spinner');\n",
              "          quickchartButtonEl.classList.add('colab-df-quickchart-complete');\n",
              "        }\n",
              "        (() => {\n",
              "          let quickchartButtonEl =\n",
              "            document.querySelector('#df-5e98e0ea-feee-4068-b86c-92ea88a2c507 button');\n",
              "          quickchartButtonEl.style.display =\n",
              "            google.colab.kernel.accessAllowed ? 'block' : 'none';\n",
              "        })();\n",
              "      </script>\n",
              "    </div>\n",
              "\n",
              "  <div id=\"id_997ab4d6-b6b9-4540-a4ad-4a9f57ed4bfc\">\n",
              "    <style>\n",
              "      .colab-df-generate {\n",
              "        background-color: #E8F0FE;\n",
              "        border: none;\n",
              "        border-radius: 50%;\n",
              "        cursor: pointer;\n",
              "        display: none;\n",
              "        fill: #1967D2;\n",
              "        height: 32px;\n",
              "        padding: 0 0 0 0;\n",
              "        width: 32px;\n",
              "      }\n",
              "\n",
              "      .colab-df-generate:hover {\n",
              "        background-color: #E2EBFA;\n",
              "        box-shadow: 0px 1px 2px rgba(60, 64, 67, 0.3), 0px 1px 3px 1px rgba(60, 64, 67, 0.15);\n",
              "        fill: #174EA6;\n",
              "      }\n",
              "\n",
              "      [theme=dark] .colab-df-generate {\n",
              "        background-color: #3B4455;\n",
              "        fill: #D2E3FC;\n",
              "      }\n",
              "\n",
              "      [theme=dark] .colab-df-generate:hover {\n",
              "        background-color: #434B5C;\n",
              "        box-shadow: 0px 1px 3px 1px rgba(0, 0, 0, 0.15);\n",
              "        filter: drop-shadow(0px 1px 2px rgba(0, 0, 0, 0.3));\n",
              "        fill: #FFFFFF;\n",
              "      }\n",
              "    </style>\n",
              "    <button class=\"colab-df-generate\" onclick=\"generateWithVariable('df')\"\n",
              "            title=\"Generate code using this dataframe.\"\n",
              "            style=\"display:none;\">\n",
              "\n",
              "  <svg xmlns=\"http://www.w3.org/2000/svg\" height=\"24px\"viewBox=\"0 0 24 24\"\n",
              "       width=\"24px\">\n",
              "    <path d=\"M7,19H8.4L18.45,9,17,7.55,7,17.6ZM5,21V16.75L18.45,3.32a2,2,0,0,1,2.83,0l1.4,1.43a1.91,1.91,0,0,1,.58,1.4,1.91,1.91,0,0,1-.58,1.4L9.25,21ZM18.45,9,17,7.55Zm-12,3A5.31,5.31,0,0,0,4.9,8.1,5.31,5.31,0,0,0,1,6.5,5.31,5.31,0,0,0,4.9,4.9,5.31,5.31,0,0,0,6.5,1,5.31,5.31,0,0,0,8.1,4.9,5.31,5.31,0,0,0,12,6.5,5.46,5.46,0,0,0,6.5,12Z\"/>\n",
              "  </svg>\n",
              "    </button>\n",
              "    <script>\n",
              "      (() => {\n",
              "      const buttonEl =\n",
              "        document.querySelector('#id_997ab4d6-b6b9-4540-a4ad-4a9f57ed4bfc button.colab-df-generate');\n",
              "      buttonEl.style.display =\n",
              "        google.colab.kernel.accessAllowed ? 'block' : 'none';\n",
              "\n",
              "      buttonEl.onclick = () => {\n",
              "        google.colab.notebook.generateWithVariable('df');\n",
              "      }\n",
              "      })();\n",
              "    </script>\n",
              "  </div>\n",
              "\n",
              "    </div>\n",
              "  </div>\n"
            ],
            "application/vnd.google.colaboratory.intrinsic+json": {
              "type": "dataframe",
              "variable_name": "df",
              "summary": "{\n  \"name\": \"df\",\n  \"rows\": 1906,\n  \"fields\": [\n    {\n      \"column\": \"productTitle\",\n      \"properties\": {\n        \"dtype\": \"string\",\n        \"num_unique_values\": 1793,\n        \"samples\": [\n          \"VOWNER Vanity with Lighted Mirror - Makeup Vanity Desk with Power Outlet and 7 Drawers, 3 Color Lighting Modes Adjustable\",\n          \"Patio Furniture Sets, 7 Piece PE Rattan Wicker Sofa Set, Outdoor Sectional Furniture Chair Set, Outdoor Furniture Sets\",\n          \"White Computer Writing Desk with Drawers Mirror Makeup Table Modern Home Office Wood Legs 39.4*19.7in\"\n        ],\n        \"semantic_type\": \"\",\n        \"description\": \"\"\n      }\n    },\n    {\n      \"column\": \"originalPrice\",\n      \"properties\": {\n        \"dtype\": \"number\",\n        \"std\": 219.08746739750788,\n        \"min\": 3.63,\n        \"max\": 3265.13,\n        \"num_unique_values\": 453,\n        \"samples\": [\n          218.4,\n          377.01,\n          9.78\n        ],\n        \"semantic_type\": \"\",\n        \"description\": \"\"\n      }\n    },\n    {\n      \"column\": \"price\",\n      \"properties\": {\n        \"dtype\": \"number\",\n        \"std\": 176.96983078986406,\n        \"min\": 0.99,\n        \"max\": 2876.38,\n        \"num_unique_values\": 1802,\n        \"samples\": [\n          39.04,\n          152.0,\n          30.27\n        ],\n        \"semantic_type\": \"\",\n        \"description\": \"\"\n      }\n    },\n    {\n      \"column\": \"sold\",\n      \"properties\": {\n        \"dtype\": \"number\",\n        \"std\": 260,\n        \"min\": 0,\n        \"max\": 10000,\n        \"num_unique_values\": 115,\n        \"samples\": [\n          47,\n          53,\n          20\n        ],\n        \"semantic_type\": \"\",\n        \"description\": \"\"\n      }\n    },\n    {\n      \"column\": \"tagText\",\n      \"properties\": {\n        \"dtype\": \"category\",\n        \"num_unique_values\": 101,\n        \"samples\": [\n          \"+Shipping: $66.35\",\n          \"+Shipping: $7.38\",\n          \"+Shipping: $23.29\"\n        ],\n        \"semantic_type\": \"\",\n        \"description\": \"\"\n      }\n    },\n    {\n      \"column\": \"total_revnue\",\n      \"properties\": {\n        \"dtype\": \"number\",\n        \"std\": 5058.196449364888,\n        \"min\": 0.0,\n        \"max\": 122800.0,\n        \"num_unique_values\": 1461,\n        \"samples\": [\n          33.37,\n          2247.19,\n          558.09\n        ],\n        \"semantic_type\": \"\",\n        \"description\": \"\"\n      }\n    },\n    {\n      \"column\": \"discounted_%\",\n      \"properties\": {\n        \"dtype\": \"number\",\n        \"std\": 27.96099031477863,\n        \"min\": 0.0,\n        \"max\": 98.85630166459065,\n        \"num_unique_values\": 904,\n        \"samples\": [\n          51.90742624618515,\n          59.155248556222396,\n          61.58985392367795\n        ],\n        \"semantic_type\": \"\",\n        \"description\": \"\"\n      }\n    }\n  ]\n}"
            }
          },
          "metadata": {},
          "execution_count": 33
        }
      ]
    },
    {
      "cell_type": "markdown",
      "source": [
        "## 3. EDA > exploratory data analyesis\n",
        ": Eda - it is very crucial fector in this data in order to evalute how produt sales are being effected . EDA has sevral parts .\n",
        "1. profile of data : here we check how nay  all columns and rows , how many null and duplicate values in data  and parsent ouliers in our data .\n",
        "2. statstical based anylsis : it includes getting five point summry of data .\n",
        "3. graph based analyisis : here all data is repersented using graphs and plot. such as scatter plot , heatmap , bar, line , pairplot etc . it is the most lucretive part of eda . one can easy indentify , visualise and analyese data by seeing plots and graphs .\n"
      ],
      "metadata": {
        "id": "Z3kM6j6GHjSD"
      }
    },
    {
      "cell_type": "markdown",
      "source": [
        "- now doing EDA\n",
        "- which includes all kind of testing\n",
        "- univariat\n",
        "- byvariat\n",
        "- multivariat"
      ],
      "metadata": {
        "id": "Izfw1aUvDznk"
      }
    },
    {
      "cell_type": "markdown",
      "source": [
        ": starting with univiart >> which has one feature at a time >>\n",
        " - ex. countplot , displot , histogram"
      ],
      "metadata": {
        "id": "wG_a7VFNEajQ"
      }
    },
    {
      "cell_type": "code",
      "source": [
        "df.sample(3)"
      ],
      "metadata": {
        "id": "xLVPrV8WMQSJ",
        "colab": {
          "base_uri": "https://localhost:8080/",
          "height": 143
        },
        "outputId": "02ea57a7-ff3c-4900-e585-eb37c601f13e"
      },
      "execution_count": 34,
      "outputs": [
        {
          "output_type": "execute_result",
          "data": {
            "text/plain": [
              "                                          productTitle  originalPrice   price  \\\n",
              "683  WOHOMO Coffee Table, Modern Style Coffee Table...          88.31   71.62   \n",
              "16   Patio Furniture Sets - 3 Pieces Rattan Sofa Se...          88.31  183.30   \n",
              "174  TV Stand With LED Ambient Lights Modern TVs St...          88.31  141.05   \n",
              "\n",
              "     sold        tagText  total_revnue  discounted_%  \n",
              "683     2  Free shipping        143.24     18.899332  \n",
              "16      0  Free shipping          0.00      0.000000  \n",
              "174     7  Free shipping        987.35      0.000000  "
            ],
            "text/html": [
              "\n",
              "  <div id=\"df-909c87e3-2ac1-4a38-bbe5-ba090c588532\" class=\"colab-df-container\">\n",
              "    <div>\n",
              "<style scoped>\n",
              "    .dataframe tbody tr th:only-of-type {\n",
              "        vertical-align: middle;\n",
              "    }\n",
              "\n",
              "    .dataframe tbody tr th {\n",
              "        vertical-align: top;\n",
              "    }\n",
              "\n",
              "    .dataframe thead th {\n",
              "        text-align: right;\n",
              "    }\n",
              "</style>\n",
              "<table border=\"1\" class=\"dataframe\">\n",
              "  <thead>\n",
              "    <tr style=\"text-align: right;\">\n",
              "      <th></th>\n",
              "      <th>productTitle</th>\n",
              "      <th>originalPrice</th>\n",
              "      <th>price</th>\n",
              "      <th>sold</th>\n",
              "      <th>tagText</th>\n",
              "      <th>total_revnue</th>\n",
              "      <th>discounted_%</th>\n",
              "    </tr>\n",
              "  </thead>\n",
              "  <tbody>\n",
              "    <tr>\n",
              "      <th>683</th>\n",
              "      <td>WOHOMO Coffee Table, Modern Style Coffee Table...</td>\n",
              "      <td>88.31</td>\n",
              "      <td>71.62</td>\n",
              "      <td>2</td>\n",
              "      <td>Free shipping</td>\n",
              "      <td>143.24</td>\n",
              "      <td>18.899332</td>\n",
              "    </tr>\n",
              "    <tr>\n",
              "      <th>16</th>\n",
              "      <td>Patio Furniture Sets - 3 Pieces Rattan Sofa Se...</td>\n",
              "      <td>88.31</td>\n",
              "      <td>183.30</td>\n",
              "      <td>0</td>\n",
              "      <td>Free shipping</td>\n",
              "      <td>0.00</td>\n",
              "      <td>0.000000</td>\n",
              "    </tr>\n",
              "    <tr>\n",
              "      <th>174</th>\n",
              "      <td>TV Stand With LED Ambient Lights Modern TVs St...</td>\n",
              "      <td>88.31</td>\n",
              "      <td>141.05</td>\n",
              "      <td>7</td>\n",
              "      <td>Free shipping</td>\n",
              "      <td>987.35</td>\n",
              "      <td>0.000000</td>\n",
              "    </tr>\n",
              "  </tbody>\n",
              "</table>\n",
              "</div>\n",
              "    <div class=\"colab-df-buttons\">\n",
              "\n",
              "  <div class=\"colab-df-container\">\n",
              "    <button class=\"colab-df-convert\" onclick=\"convertToInteractive('df-909c87e3-2ac1-4a38-bbe5-ba090c588532')\"\n",
              "            title=\"Convert this dataframe to an interactive table.\"\n",
              "            style=\"display:none;\">\n",
              "\n",
              "  <svg xmlns=\"http://www.w3.org/2000/svg\" height=\"24px\" viewBox=\"0 -960 960 960\">\n",
              "    <path d=\"M120-120v-720h720v720H120Zm60-500h600v-160H180v160Zm220 220h160v-160H400v160Zm0 220h160v-160H400v160ZM180-400h160v-160H180v160Zm440 0h160v-160H620v160ZM180-180h160v-160H180v160Zm440 0h160v-160H620v160Z\"/>\n",
              "  </svg>\n",
              "    </button>\n",
              "\n",
              "  <style>\n",
              "    .colab-df-container {\n",
              "      display:flex;\n",
              "      gap: 12px;\n",
              "    }\n",
              "\n",
              "    .colab-df-convert {\n",
              "      background-color: #E8F0FE;\n",
              "      border: none;\n",
              "      border-radius: 50%;\n",
              "      cursor: pointer;\n",
              "      display: none;\n",
              "      fill: #1967D2;\n",
              "      height: 32px;\n",
              "      padding: 0 0 0 0;\n",
              "      width: 32px;\n",
              "    }\n",
              "\n",
              "    .colab-df-convert:hover {\n",
              "      background-color: #E2EBFA;\n",
              "      box-shadow: 0px 1px 2px rgba(60, 64, 67, 0.3), 0px 1px 3px 1px rgba(60, 64, 67, 0.15);\n",
              "      fill: #174EA6;\n",
              "    }\n",
              "\n",
              "    .colab-df-buttons div {\n",
              "      margin-bottom: 4px;\n",
              "    }\n",
              "\n",
              "    [theme=dark] .colab-df-convert {\n",
              "      background-color: #3B4455;\n",
              "      fill: #D2E3FC;\n",
              "    }\n",
              "\n",
              "    [theme=dark] .colab-df-convert:hover {\n",
              "      background-color: #434B5C;\n",
              "      box-shadow: 0px 1px 3px 1px rgba(0, 0, 0, 0.15);\n",
              "      filter: drop-shadow(0px 1px 2px rgba(0, 0, 0, 0.3));\n",
              "      fill: #FFFFFF;\n",
              "    }\n",
              "  </style>\n",
              "\n",
              "    <script>\n",
              "      const buttonEl =\n",
              "        document.querySelector('#df-909c87e3-2ac1-4a38-bbe5-ba090c588532 button.colab-df-convert');\n",
              "      buttonEl.style.display =\n",
              "        google.colab.kernel.accessAllowed ? 'block' : 'none';\n",
              "\n",
              "      async function convertToInteractive(key) {\n",
              "        const element = document.querySelector('#df-909c87e3-2ac1-4a38-bbe5-ba090c588532');\n",
              "        const dataTable =\n",
              "          await google.colab.kernel.invokeFunction('convertToInteractive',\n",
              "                                                    [key], {});\n",
              "        if (!dataTable) return;\n",
              "\n",
              "        const docLinkHtml = 'Like what you see? Visit the ' +\n",
              "          '<a target=\"_blank\" href=https://colab.research.google.com/notebooks/data_table.ipynb>data table notebook</a>'\n",
              "          + ' to learn more about interactive tables.';\n",
              "        element.innerHTML = '';\n",
              "        dataTable['output_type'] = 'display_data';\n",
              "        await google.colab.output.renderOutput(dataTable, element);\n",
              "        const docLink = document.createElement('div');\n",
              "        docLink.innerHTML = docLinkHtml;\n",
              "        element.appendChild(docLink);\n",
              "      }\n",
              "    </script>\n",
              "  </div>\n",
              "\n",
              "\n",
              "    <div id=\"df-5e17a0ef-acaf-462f-9f15-1693065498ad\">\n",
              "      <button class=\"colab-df-quickchart\" onclick=\"quickchart('df-5e17a0ef-acaf-462f-9f15-1693065498ad')\"\n",
              "                title=\"Suggest charts\"\n",
              "                style=\"display:none;\">\n",
              "\n",
              "<svg xmlns=\"http://www.w3.org/2000/svg\" height=\"24px\"viewBox=\"0 0 24 24\"\n",
              "     width=\"24px\">\n",
              "    <g>\n",
              "        <path d=\"M19 3H5c-1.1 0-2 .9-2 2v14c0 1.1.9 2 2 2h14c1.1 0 2-.9 2-2V5c0-1.1-.9-2-2-2zM9 17H7v-7h2v7zm4 0h-2V7h2v10zm4 0h-2v-4h2v4z\"/>\n",
              "    </g>\n",
              "</svg>\n",
              "      </button>\n",
              "\n",
              "<style>\n",
              "  .colab-df-quickchart {\n",
              "      --bg-color: #E8F0FE;\n",
              "      --fill-color: #1967D2;\n",
              "      --hover-bg-color: #E2EBFA;\n",
              "      --hover-fill-color: #174EA6;\n",
              "      --disabled-fill-color: #AAA;\n",
              "      --disabled-bg-color: #DDD;\n",
              "  }\n",
              "\n",
              "  [theme=dark] .colab-df-quickchart {\n",
              "      --bg-color: #3B4455;\n",
              "      --fill-color: #D2E3FC;\n",
              "      --hover-bg-color: #434B5C;\n",
              "      --hover-fill-color: #FFFFFF;\n",
              "      --disabled-bg-color: #3B4455;\n",
              "      --disabled-fill-color: #666;\n",
              "  }\n",
              "\n",
              "  .colab-df-quickchart {\n",
              "    background-color: var(--bg-color);\n",
              "    border: none;\n",
              "    border-radius: 50%;\n",
              "    cursor: pointer;\n",
              "    display: none;\n",
              "    fill: var(--fill-color);\n",
              "    height: 32px;\n",
              "    padding: 0;\n",
              "    width: 32px;\n",
              "  }\n",
              "\n",
              "  .colab-df-quickchart:hover {\n",
              "    background-color: var(--hover-bg-color);\n",
              "    box-shadow: 0 1px 2px rgba(60, 64, 67, 0.3), 0 1px 3px 1px rgba(60, 64, 67, 0.15);\n",
              "    fill: var(--button-hover-fill-color);\n",
              "  }\n",
              "\n",
              "  .colab-df-quickchart-complete:disabled,\n",
              "  .colab-df-quickchart-complete:disabled:hover {\n",
              "    background-color: var(--disabled-bg-color);\n",
              "    fill: var(--disabled-fill-color);\n",
              "    box-shadow: none;\n",
              "  }\n",
              "\n",
              "  .colab-df-spinner {\n",
              "    border: 2px solid var(--fill-color);\n",
              "    border-color: transparent;\n",
              "    border-bottom-color: var(--fill-color);\n",
              "    animation:\n",
              "      spin 1s steps(1) infinite;\n",
              "  }\n",
              "\n",
              "  @keyframes spin {\n",
              "    0% {\n",
              "      border-color: transparent;\n",
              "      border-bottom-color: var(--fill-color);\n",
              "      border-left-color: var(--fill-color);\n",
              "    }\n",
              "    20% {\n",
              "      border-color: transparent;\n",
              "      border-left-color: var(--fill-color);\n",
              "      border-top-color: var(--fill-color);\n",
              "    }\n",
              "    30% {\n",
              "      border-color: transparent;\n",
              "      border-left-color: var(--fill-color);\n",
              "      border-top-color: var(--fill-color);\n",
              "      border-right-color: var(--fill-color);\n",
              "    }\n",
              "    40% {\n",
              "      border-color: transparent;\n",
              "      border-right-color: var(--fill-color);\n",
              "      border-top-color: var(--fill-color);\n",
              "    }\n",
              "    60% {\n",
              "      border-color: transparent;\n",
              "      border-right-color: var(--fill-color);\n",
              "    }\n",
              "    80% {\n",
              "      border-color: transparent;\n",
              "      border-right-color: var(--fill-color);\n",
              "      border-bottom-color: var(--fill-color);\n",
              "    }\n",
              "    90% {\n",
              "      border-color: transparent;\n",
              "      border-bottom-color: var(--fill-color);\n",
              "    }\n",
              "  }\n",
              "</style>\n",
              "\n",
              "      <script>\n",
              "        async function quickchart(key) {\n",
              "          const quickchartButtonEl =\n",
              "            document.querySelector('#' + key + ' button');\n",
              "          quickchartButtonEl.disabled = true;  // To prevent multiple clicks.\n",
              "          quickchartButtonEl.classList.add('colab-df-spinner');\n",
              "          try {\n",
              "            const charts = await google.colab.kernel.invokeFunction(\n",
              "                'suggestCharts', [key], {});\n",
              "          } catch (error) {\n",
              "            console.error('Error during call to suggestCharts:', error);\n",
              "          }\n",
              "          quickchartButtonEl.classList.remove('colab-df-spinner');\n",
              "          quickchartButtonEl.classList.add('colab-df-quickchart-complete');\n",
              "        }\n",
              "        (() => {\n",
              "          let quickchartButtonEl =\n",
              "            document.querySelector('#df-5e17a0ef-acaf-462f-9f15-1693065498ad button');\n",
              "          quickchartButtonEl.style.display =\n",
              "            google.colab.kernel.accessAllowed ? 'block' : 'none';\n",
              "        })();\n",
              "      </script>\n",
              "    </div>\n",
              "\n",
              "    </div>\n",
              "  </div>\n"
            ],
            "application/vnd.google.colaboratory.intrinsic+json": {
              "type": "dataframe",
              "summary": "{\n  \"name\": \"df\",\n  \"rows\": 3,\n  \"fields\": [\n    {\n      \"column\": \"productTitle\",\n      \"properties\": {\n        \"dtype\": \"string\",\n        \"num_unique_values\": 3,\n        \"samples\": [\n          \"WOHOMO Coffee Table, Modern Style Coffee Tables for Living Room Marble Center Table with Storage 2 in 1Detachable Table Set\",\n          \"Patio Furniture Sets - 3 Pieces Rattan Sofa Set, Outdoor Conversation Set with Tempered Glass Tabletop, Outdoor Furniture Sets\",\n          \"TV Stand With LED Ambient Lights Modern TVs Stand With Open Shelf Storage Cabinet for 62 Inch TVs Furniture White TV Stands\"\n        ],\n        \"semantic_type\": \"\",\n        \"description\": \"\"\n      }\n    },\n    {\n      \"column\": \"originalPrice\",\n      \"properties\": {\n        \"dtype\": \"number\",\n        \"std\": 0.0,\n        \"min\": 88.31,\n        \"max\": 88.31,\n        \"num_unique_values\": 1,\n        \"samples\": [\n          88.31\n        ],\n        \"semantic_type\": \"\",\n        \"description\": \"\"\n      }\n    },\n    {\n      \"column\": \"price\",\n      \"properties\": {\n        \"dtype\": \"number\",\n        \"std\": 56.38854759612097,\n        \"min\": 71.62,\n        \"max\": 183.3,\n        \"num_unique_values\": 3,\n        \"samples\": [\n          71.62\n        ],\n        \"semantic_type\": \"\",\n        \"description\": \"\"\n      }\n    },\n    {\n      \"column\": \"sold\",\n      \"properties\": {\n        \"dtype\": \"number\",\n        \"std\": 3,\n        \"min\": 0,\n        \"max\": 7,\n        \"num_unique_values\": 3,\n        \"samples\": [\n          2\n        ],\n        \"semantic_type\": \"\",\n        \"description\": \"\"\n      }\n    },\n    {\n      \"column\": \"tagText\",\n      \"properties\": {\n        \"dtype\": \"category\",\n        \"num_unique_values\": 1,\n        \"samples\": [\n          \"Free shipping\"\n        ],\n        \"semantic_type\": \"\",\n        \"description\": \"\"\n      }\n    },\n    {\n      \"column\": \"total_revnue\",\n      \"properties\": {\n        \"dtype\": \"number\",\n        \"std\": 533.5259150531804,\n        \"min\": 0.0,\n        \"max\": 987.3500000000001,\n        \"num_unique_values\": 3,\n        \"samples\": [\n          143.24\n        ],\n        \"semantic_type\": \"\",\n        \"description\": \"\"\n      }\n    },\n    {\n      \"column\": \"discounted_%\",\n      \"properties\": {\n        \"dtype\": \"number\",\n        \"std\": 10.911534359387218,\n        \"min\": 0.0,\n        \"max\": 18.899331898992184,\n        \"num_unique_values\": 2,\n        \"samples\": [\n          0.0\n        ],\n        \"semantic_type\": \"\",\n        \"description\": \"\"\n      }\n    }\n  ]\n}"
            }
          },
          "metadata": {},
          "execution_count": 34
        }
      ]
    },
    {
      "cell_type": "code",
      "source": [],
      "metadata": {
        "id": "9ttmx-89RGtA"
      },
      "execution_count": 34,
      "outputs": []
    },
    {
      "cell_type": "markdown",
      "source": [
        ": BEFORE ATTEMPTING TO PERFORM EDA DEALING WITH TAG TEST COLUMNS >>\n",
        ": converting the tag price into numrial for model further oprations using str.\n",
        "\n",
        "replace() .\n",
        "- but before this data has be changed into  string data type than only replace will work .\n",
        "- so that eventully  will be able to perform data encoding over this column"
      ],
      "metadata": {
        "id": "ZMBJ3f8sQ7c1"
      }
    },
    {
      "cell_type": "code",
      "source": [
        "df['tagText']  = df['tagText'].astype(str)\n",
        "# it converts our tag text column into string\n",
        "\n",
        "#  emplimeted apply function whcih can perfrom any opration or calcualtion whatever possible with lambda over any column.\n",
        "df['tagText'] = df['tagText'].apply(lambda x: x.split(\":\")[0])\n",
        "df['tagText'] = df['tagText'].str.replace('+Shipping','paid shipping')\n",
        "\n",
        "df['tagText'].value_counts()"
      ],
      "metadata": {
        "colab": {
          "base_uri": "https://localhost:8080/",
          "height": 210
        },
        "id": "rbUXwR9vRTgr",
        "outputId": "af6f2f58-a48d-4cbe-d928-8f332ae64155"
      },
      "execution_count": 35,
      "outputs": [
        {
          "output_type": "execute_result",
          "data": {
            "text/plain": [
              "tagText\n",
              "Free shipping    1789\n",
              "paid shipping     115\n",
              "uknown              2\n",
              "Name: count, dtype: int64"
            ],
            "text/html": [
              "<div>\n",
              "<style scoped>\n",
              "    .dataframe tbody tr th:only-of-type {\n",
              "        vertical-align: middle;\n",
              "    }\n",
              "\n",
              "    .dataframe tbody tr th {\n",
              "        vertical-align: top;\n",
              "    }\n",
              "\n",
              "    .dataframe thead th {\n",
              "        text-align: right;\n",
              "    }\n",
              "</style>\n",
              "<table border=\"1\" class=\"dataframe\">\n",
              "  <thead>\n",
              "    <tr style=\"text-align: right;\">\n",
              "      <th></th>\n",
              "      <th>count</th>\n",
              "    </tr>\n",
              "    <tr>\n",
              "      <th>tagText</th>\n",
              "      <th></th>\n",
              "    </tr>\n",
              "  </thead>\n",
              "  <tbody>\n",
              "    <tr>\n",
              "      <th>Free shipping</th>\n",
              "      <td>1789</td>\n",
              "    </tr>\n",
              "    <tr>\n",
              "      <th>paid shipping</th>\n",
              "      <td>115</td>\n",
              "    </tr>\n",
              "    <tr>\n",
              "      <th>uknown</th>\n",
              "      <td>2</td>\n",
              "    </tr>\n",
              "  </tbody>\n",
              "</table>\n",
              "</div><br><label><b>dtype:</b> int64</label>"
            ]
          },
          "metadata": {},
          "execution_count": 35
        }
      ]
    },
    {
      "cell_type": "markdown",
      "source": [
        ": To be clear above data does not have order mean it is nominal data therfor we will label hot encoding . which mean it will give number to each unique value following an certain order."
      ],
      "metadata": {
        "id": "RY-IxwxARvGr"
      }
    },
    {
      "cell_type": "markdown",
      "source": [
        ": label encoder : It gives numrical data to each categorial data by follwing an certain order .\n",
        "- but here one can not compare one numrical values to anohter each and every is same ."
      ],
      "metadata": {
        "id": "ERWctTrkR3ZJ"
      }
    },
    {
      "cell_type": "code",
      "source": [
        "from sklearn.preprocessing import LabelEncoder\n",
        "label_encoder = LabelEncoder()\n",
        "\n",
        "label_encoder  # right now it does not have data\n",
        "\n",
        "# here i have fit the data of tagtext into above label incoder\n",
        "tagtext_encoded  = label_encoder.fit_transform(df['tagText'])\n",
        "\n",
        "tagtext_encoded =  pd.Series(tagtext_encoded)\n",
        "tagtext_encoded\n",
        "# new columns came from tag text as tag_text encoded which is encoded with label encoder\n",
        "\n",
        "df =  df.reset_index(drop= True)\n",
        "# resting the index in order to concatinate  he new column\n",
        "\n",
        "df = pd.concat([df,tagtext_encoded],axis=1)\n",
        "# adding the encoded tagtext with our curent data frame\n",
        "\n",
        "df.columns = ['productTitle',\t'originalPrice','price',\t'sold',\t'tagText',\t'total_revnue',\t'discounted_%', 'tagtext_encoded']"
      ],
      "metadata": {
        "id": "aFQAOUmXR9yR"
      },
      "execution_count": 36,
      "outputs": []
    },
    {
      "cell_type": "markdown",
      "source": [
        ": reset index : it becomes very essential and vital when we are concatinating two data with each other . if user try to concat two data having diffrent index then one data will be filled with non vlaue then they wont marge together ."
      ],
      "metadata": {
        "id": "oEmVskObSNVo"
      }
    },
    {
      "cell_type": "markdown",
      "source": [
        ": this columns onwards our EDA our visulization begians"
      ],
      "metadata": {
        "id": "eekYvDUJSPTv"
      }
    },
    {
      "cell_type": "code",
      "source": [
        "# count plot of teg text , which show the total number of count for each category\n",
        "# means how many times each shipping category has occured in data , such as free shipping , paid shipping and unkown\n",
        "sns.countplot(x='tagtext_encoded',data = df ,color='skyblue')\n",
        "plt.show()"
      ],
      "metadata": {
        "id": "BfHao-CK7DbP",
        "colab": {
          "base_uri": "https://localhost:8080/",
          "height": 450
        },
        "outputId": "6331ebea-da9f-46db-d135-2fdf5cbda231"
      },
      "execution_count": 37,
      "outputs": [
        {
          "output_type": "display_data",
          "data": {
            "text/plain": [
              "<Figure size 640x480 with 1 Axes>"
            ],
            "image/png": "[encoded data removed]"
          },
          "metadata": {}
        }
      ]
    },
    {
      "cell_type": "markdown",
      "source": [
        ": In bellow three charts i have shown the distribution of price , orignalprice and discounts . which shows how data is skewed . weather left , right or zero skewness ."
      ],
      "metadata": {
        "id": "_6PTaoxA9CJc"
      }
    },
    {
      "cell_type": "code",
      "source": [
        "# distribution of numrical data\n",
        "\n",
        "plt.figure(figsize =(9,7))\n",
        "sns.histplot(x='originalPrice',data =df,bins= 30 , color ='green',kde=True)\n",
        "plt.title('distribution of orignal price')"
      ],
      "metadata": {
        "id": "O2jUMlUqNeJe",
        "colab": {
          "base_uri": "https://localhost:8080/",
          "height": 658
        },
        "outputId": "26441fec-ef06-40f0-d4ca-c049e969cbbe"
      },
      "execution_count": 38,
      "outputs": [
        {
          "output_type": "execute_result",
          "data": {
            "text/plain": [
              "Text(0.5, 1.0, 'distribution of orignal price')"
            ]
          },
          "metadata": {},
          "execution_count": 38
        },
        {
          "output_type": "display_data",
          "data": {
            "text/plain": [
              "<Figure size 900x700 with 1 Axes>"
            ],
            "image/png": "[encoded data removed]"
          },
          "metadata": {}
        }
      ]
    },
    {
      "cell_type": "code",
      "source": [
        "plt.figure(figsize =(9,7))\n",
        "sns.histplot(x=df['price'],bins= 30 , color ='green',kde=True)\n",
        "plt.title('distribution of price')"
      ],
      "metadata": {
        "id": "N2KKc0kwODPu",
        "colab": {
          "base_uri": "https://localhost:8080/",
          "height": 658
        },
        "outputId": "40642f06-892e-4176-a59a-3019d08560ae"
      },
      "execution_count": 39,
      "outputs": [
        {
          "output_type": "execute_result",
          "data": {
            "text/plain": [
              "Text(0.5, 1.0, 'distribution of price')"
            ]
          },
          "metadata": {},
          "execution_count": 39
        },
        {
          "output_type": "display_data",
          "data": {
            "text/plain": [
              "<Figure size 900x700 with 1 Axes>"
            ],
            "image/png": "[encoded data removed]"
          },
          "metadata": {}
        }
      ]
    },
    {
      "cell_type": "code",
      "source": [
        "plt.figure(figsize =(8,6))\n",
        "sns.histplot(df['discounted_%'],kde=True,color='green')\n",
        "plt.title('distribution of discount')"
      ],
      "metadata": {
        "id": "kE_ocO_nRaMu",
        "colab": {
          "base_uri": "https://localhost:8080/",
          "height": 581
        },
        "outputId": "ee3a78f4-2b92-4b48-f0ea-46e0775ad077"
      },
      "execution_count": 40,
      "outputs": [
        {
          "output_type": "execute_result",
          "data": {
            "text/plain": [
              "Text(0.5, 1.0, 'distribution of discount')"
            ]
          },
          "metadata": {},
          "execution_count": 40
        },
        {
          "output_type": "display_data",
          "data": {
            "text/plain": [
              "<Figure size 800x600 with 1 Axes>"
            ],
            "image/png": "[encoded data removed]"
          },
          "metadata": {}
        }
      ]
    },
    {
      "cell_type": "markdown",
      "source": [
        "- insights > here i found that mostly of data is right skewed mean the spread of is more likly to be right side .\n",
        "- in both original price and price  and in discounted tough data is right skewed .\n",
        "- since data is skewed righward mean here q3 and q2 is greator then q2 - q1 .\n"
      ],
      "metadata": {
        "id": "8wWMCqc7E9P6"
      }
    },
    {
      "cell_type": "markdown",
      "source": [
        ": now byvariat anylesis\n",
        "-  plots > scatter plot , bar / line plots , pie chart ."
      ],
      "metadata": {
        "id": "sRmGLnTqFIO8"
      }
    },
    {
      "cell_type": "markdown",
      "source": [
        ": scatter > to know the relationship among two data at same time , but it an subplot whcih only show scatter plot but with all possible combination . just to checkout how  columns are being effected with each other and their relationship with each others ."
      ],
      "metadata": {
        "id": "0R3Df4Or-NNM"
      }
    },
    {
      "cell_type": "code",
      "source": [
        "plt.figure(figsize=(17,16))\n",
        "plt.subplot(3,2,1)\n",
        "sns.scatterplot(x='price',y='originalPrice',data = df)\n",
        "plt.title('Relationship among orignalPrice and price ')\n",
        "\n",
        "plt.subplot(3,2,2)\n",
        "sns.scatterplot(x='originalPrice',y='sold',data=df)\n",
        "plt.title('Relationship among originalPrice and sold')\n",
        "\n",
        "plt.subplot(3,2,3)\n",
        "sns.scatterplot(x ='discounted_%',y='total_revnue',data =df)\n",
        "plt.title(\"Relationship among discounted_% and total_revnue\")\n",
        "\n",
        "plt.subplot(3,2,4)\n",
        "sns.scatterplot(x='price',y='sold',data=df)\n",
        "plt.title('Relationship among Price and sold')\n",
        "\n",
        "\n",
        "plt.subplot(3,2,5)\n",
        "sns.scatterplot(x='tagtext_encoded', y ='sold', data =df )\n",
        "plt.title('shipping effects on product sales ')\n",
        "\n",
        "\n",
        "plt.subplot(3,2,6)\n",
        "sns.scatterplot(x='discounted_%', y ='sold', data =df )\n",
        "plt.title('discount effects on product seles')\n",
        "plt.show()\n",
        "\n"
      ],
      "metadata": {
        "id": "_RnA15M_WEDD",
        "colab": {
          "base_uri": "https://localhost:8080/",
          "height": 1000
        },
        "outputId": "28cc9eac-e62d-4015-dcc2-f7fe868395dd"
      },
      "execution_count": 41,
      "outputs": [
        {
          "output_type": "display_data",
          "data": {
            "text/plain": [
              "<Figure size 1700x1600 with 6 Axes>"
            ],
            "image/png": "[encoded data removed]"
          },
          "metadata": {}
        }
      ]
    },
    {
      "cell_type": "markdown",
      "source": [
        ": this above plots shows relation ship among price , originalprice and discount and total_revnue ..\n",
        "\n",
        "1. insights >>>>\n",
        "\n",
        "- during 40  to 60 % dsicount we have high growth in product sold compritivly to others  ,\n",
        "- it says if we keep product discounts aomg 40 to 60 % it mights lead to high sales\n",
        "- when product price is lessor then 500 that time too we had higher selles , it keep decreasing as price goes high\n",
        "- when shpping is free that also resulted high growth in price"
      ],
      "metadata": {
        "id": "apL-03CXFTM3"
      }
    },
    {
      "cell_type": "markdown",
      "source": [
        ":  now performing multivariat anylesis > mean multiple features at a time .\n",
        "- here we make plots and graphs using multiple feature at a time"
      ],
      "metadata": {
        "id": "5Is_N6a2-zc1"
      }
    },
    {
      "cell_type": "code",
      "source": [
        "# heatmap\n",
        "df_nm = df[['originalPrice','price','sold','total_revnue']]\n",
        "# all numrical values from data\n",
        "\n",
        "sns.heatmap(df_nm.corr(),annot=True,cmap='coolwarm')"
      ],
      "metadata": {
        "id": "WrRYGu5DaXpz",
        "colab": {
          "base_uri": "https://localhost:8080/",
          "height": 452
        },
        "outputId": "1e9bee66-4533-4ef9-a056-ead034db4da8"
      },
      "execution_count": 42,
      "outputs": [
        {
          "output_type": "execute_result",
          "data": {
            "text/plain": [
              "<Axes: >"
            ]
          },
          "metadata": {},
          "execution_count": 42
        },
        {
          "output_type": "display_data",
          "data": {
            "text/plain": [
              "<Figure size 640x480 with 2 Axes>"
            ],
            "image/png": "[encoded data removed]"
          },
          "metadata": {}
        }
      ]
    },
    {
      "cell_type": "markdown",
      "source": [
        "- here above heatmap shows the relationship among all numrical data in diffrent color fomrat\n",
        "- here the more darker repersents the storng protive relation and ligher repersents the strong negetive relation"
      ],
      "metadata": {
        "id": "Qf7yvKTkMY00"
      }
    },
    {
      "cell_type": "markdown",
      "source": [
        ": now flitring the nurmerical and catogrial data colums sepratly  . so that when we will need to perfrom any oprtion over these numrial and catogrical data , we will be able to do in one go .\n"
      ],
      "metadata": {
        "id": "b6EzSHRS_iQY"
      }
    },
    {
      "cell_type": "code",
      "source": [
        "df_chr = [chr for chr in df.columns if df[chr].dtypes == 'object']"
      ],
      "metadata": {
        "id": "TmlBhuQ4TZ64"
      },
      "execution_count": 43,
      "outputs": []
    },
    {
      "cell_type": "code",
      "source": [
        "df_num =  [num for num in df.columns if df[num].dtypes != 'object']"
      ],
      "metadata": {
        "id": "mXuH_AqKTkfR"
      },
      "execution_count": 44,
      "outputs": []
    },
    {
      "cell_type": "code",
      "source": [
        "df_num"
      ],
      "metadata": {
        "id": "VJa2iBKXVPrd",
        "colab": {
          "base_uri": "https://localhost:8080/"
        },
        "outputId": "8169677d-ce8f-4ab2-cc1d-3ee535a55ae9"
      },
      "execution_count": 45,
      "outputs": [
        {
          "output_type": "execute_result",
          "data": {
            "text/plain": [
              "['originalPrice',\n",
              " 'price',\n",
              " 'sold',\n",
              " 'total_revnue',\n",
              " 'discounted_%',\n",
              " 'tagtext_encoded']"
            ]
          },
          "metadata": {},
          "execution_count": 45
        }
      ]
    },
    {
      "cell_type": "code",
      "source": [
        "df_chr"
      ],
      "metadata": {
        "id": "TYDDBTYuWMZT",
        "colab": {
          "base_uri": "https://localhost:8080/"
        },
        "outputId": "75f52ffb-46af-47b9-abb0-184de71ed01e"
      },
      "execution_count": 46,
      "outputs": [
        {
          "output_type": "execute_result",
          "data": {
            "text/plain": [
              "['productTitle', 'tagText']"
            ]
          },
          "metadata": {},
          "execution_count": 46
        }
      ]
    },
    {
      "cell_type": "markdown",
      "source": [
        "## 4. Feature Engineering\n",
        "- feature engineering : playing with features of individal  variable is called feature eng. .\n",
        "- it has three steps :\n",
        "1. creating new feature : it helps to create new feature in our data using already exsiting features\n",
        "2. modifying features : here we modify already exsiting features with some new values\n",
        "3. selecting the right features .\n",
        "\n",
        "- its types : feature scaling , data encoding etc\n"
      ],
      "metadata": {
        "id": "vpugrpOFHbW6"
      }
    },
    {
      "cell_type": "markdown",
      "source": [
        "-  performing data encoding\n",
        "- Data encoding : it is an way to convert any catogrical data into numerical data .\n",
        "- while preparing the data for ML model all data has to be into numircal , becuase ML model learn pattern from only numerical data ."
      ],
      "metadata": {
        "id": "6_y_X6wdJcOm"
      }
    },
    {
      "cell_type": "code",
      "source": [],
      "metadata": {
        "id": "JwieOdTkSwf8"
      },
      "execution_count": 46,
      "outputs": []
    },
    {
      "cell_type": "markdown",
      "source": [
        ": columns TAG TEXT whole job replacing its all values and then performing label incoding has been already done above"
      ],
      "metadata": {
        "id": "4Er7NYoOSe57"
      }
    },
    {
      "cell_type": "markdown",
      "source": [
        ": bellow i replaced some of columns name with new names . in order to make data readble."
      ],
      "metadata": {
        "id": "u-m4pVgSGPfk"
      }
    },
    {
      "cell_type": "code",
      "source": [
        "# dropped the previour tag text columns whcih had data in categorical format .\n",
        "df.drop(\"tagText\",axis =1,inplace= True)"
      ],
      "metadata": {
        "id": "n0Eu8NgfkMok"
      },
      "execution_count": 47,
      "outputs": []
    },
    {
      "cell_type": "code",
      "source": [
        "# after label encoding >\n",
        "df"
      ],
      "metadata": {
        "id": "5HsQefPpKm0Q",
        "colab": {
          "base_uri": "https://localhost:8080/",
          "height": 424
        },
        "outputId": "bf6405c0-a954-4312-a32d-693cbc42cb3b"
      },
      "execution_count": 48,
      "outputs": [
        {
          "output_type": "execute_result",
          "data": {
            "text/plain": [
              "                                           productTitle  originalPrice  \\\n",
              "0     Dresser For Bedroom With 9 Fabric Drawers Ward...          88.31   \n",
              "1     Outdoor Conversation Set 4 Pieces Patio Furnit...          88.31   \n",
              "2     Desser For Bedroom With 7 Fabric Drawers Organ...          78.40   \n",
              "3     Modern Accent Boucle Chair,Upholstered Tufted ...          88.31   \n",
              "4     Small Unit Simple Computer Desk Household Wood...          48.82   \n",
              "...                                                 ...            ...   \n",
              "1901  Oversized Outdoor Swivel Rocker Chairs Set wit...          88.31   \n",
              "1902  6pcs Patio Furniture Set PE Rattan Wicker Sect...          88.31   \n",
              "1903  Garden Furniture 4507 (Dark Grey) Steel Frame ...          88.31   \n",
              "1904  Furniture Acrylic Coffee Table Transparent Liv...          88.31   \n",
              "1905  Bed Frane Bamboo and Metal Platform Bed Frame ...          88.31   \n",
              "\n",
              "       price  sold  total_revnue  discounted_%  tagtext_encoded  \n",
              "0      46.79   600      28074.00     47.016193                0  \n",
              "1     169.72     0          0.00      0.000000                0  \n",
              "2      39.46     7        276.22     49.668367                0  \n",
              "3     111.99     0          0.00      0.000000                0  \n",
              "4      21.37     1         21.37     56.226956                0  \n",
              "...      ...   ...           ...           ...              ...  \n",
              "1901  555.46     0          0.00      0.000000                0  \n",
              "1902  325.83     4       1303.32      0.000000                0  \n",
              "1903  105.16     2        210.32      0.000000                0  \n",
              "1904  228.18     0          0.00      0.000000                0  \n",
              "1905   99.48     0          0.00      0.000000                0  \n",
              "\n",
              "[1906 rows x 7 columns]"
            ],
            "text/html": [
              "\n",
              "  <div id=\"df-8cc2395d-41d5-4bad-a755-ef04b23d9d71\" class=\"colab-df-container\">\n",
              "    <div>\n",
              "<style scoped>\n",
              "    .dataframe tbody tr th:only-of-type {\n",
              "        vertical-align: middle;\n",
              "    }\n",
              "\n",
              "    .dataframe tbody tr th {\n",
              "        vertical-align: top;\n",
              "    }\n",
              "\n",
              "    .dataframe thead th {\n",
              "        text-align: right;\n",
              "    }\n",
              "</style>\n",
              "<table border=\"1\" class=\"dataframe\">\n",
              "  <thead>\n",
              "    <tr style=\"text-align: right;\">\n",
              "      <th></th>\n",
              "      <th>productTitle</th>\n",
              "      <th>originalPrice</th>\n",
              "      <th>price</th>\n",
              "      <th>sold</th>\n",
              "      <th>total_revnue</th>\n",
              "      <th>discounted_%</th>\n",
              "      <th>tagtext_encoded</th>\n",
              "    </tr>\n",
              "  </thead>\n",
              "  <tbody>\n",
              "    <tr>\n",
              "      <th>0</th>\n",
              "      <td>Dresser For Bedroom With 9 Fabric Drawers Ward...</td>\n",
              "      <td>88.31</td>\n",
              "      <td>46.79</td>\n",
              "      <td>600</td>\n",
              "      <td>28074.00</td>\n",
              "      <td>47.016193</td>\n",
              "      <td>0</td>\n",
              "    </tr>\n",
              "    <tr>\n",
              "      <th>1</th>\n",
              "      <td>Outdoor Conversation Set 4 Pieces Patio Furnit...</td>\n",
              "      <td>88.31</td>\n",
              "      <td>169.72</td>\n",
              "      <td>0</td>\n",
              "      <td>0.00</td>\n",
              "      <td>0.000000</td>\n",
              "      <td>0</td>\n",
              "    </tr>\n",
              "    <tr>\n",
              "      <th>2</th>\n",
              "      <td>Desser For Bedroom With 7 Fabric Drawers Organ...</td>\n",
              "      <td>78.40</td>\n",
              "      <td>39.46</td>\n",
              "      <td>7</td>\n",
              "      <td>276.22</td>\n",
              "      <td>49.668367</td>\n",
              "      <td>0</td>\n",
              "    </tr>\n",
              "    <tr>\n",
              "      <th>3</th>\n",
              "      <td>Modern Accent Boucle Chair,Upholstered Tufted ...</td>\n",
              "      <td>88.31</td>\n",
              "      <td>111.99</td>\n",
              "      <td>0</td>\n",
              "      <td>0.00</td>\n",
              "      <td>0.000000</td>\n",
              "      <td>0</td>\n",
              "    </tr>\n",
              "    <tr>\n",
              "      <th>4</th>\n",
              "      <td>Small Unit Simple Computer Desk Household Wood...</td>\n",
              "      <td>48.82</td>\n",
              "      <td>21.37</td>\n",
              "      <td>1</td>\n",
              "      <td>21.37</td>\n",
              "      <td>56.226956</td>\n",
              "      <td>0</td>\n",
              "    </tr>\n",
              "    <tr>\n",
              "      <th>...</th>\n",
              "      <td>...</td>\n",
              "      <td>...</td>\n",
              "      <td>...</td>\n",
              "      <td>...</td>\n",
              "      <td>...</td>\n",
              "      <td>...</td>\n",
              "      <td>...</td>\n",
              "    </tr>\n",
              "    <tr>\n",
              "      <th>1901</th>\n",
              "      <td>Oversized Outdoor Swivel Rocker Chairs Set wit...</td>\n",
              "      <td>88.31</td>\n",
              "      <td>555.46</td>\n",
              "      <td>0</td>\n",
              "      <td>0.00</td>\n",
              "      <td>0.000000</td>\n",
              "      <td>0</td>\n",
              "    </tr>\n",
              "    <tr>\n",
              "      <th>1902</th>\n",
              "      <td>6pcs Patio Furniture Set PE Rattan Wicker Sect...</td>\n",
              "      <td>88.31</td>\n",
              "      <td>325.83</td>\n",
              "      <td>4</td>\n",
              "      <td>1303.32</td>\n",
              "      <td>0.000000</td>\n",
              "      <td>0</td>\n",
              "    </tr>\n",
              "    <tr>\n",
              "      <th>1903</th>\n",
              "      <td>Garden Furniture 4507 (Dark Grey) Steel Frame ...</td>\n",
              "      <td>88.31</td>\n",
              "      <td>105.16</td>\n",
              "      <td>2</td>\n",
              "      <td>210.32</td>\n",
              "      <td>0.000000</td>\n",
              "      <td>0</td>\n",
              "    </tr>\n",
              "    <tr>\n",
              "      <th>1904</th>\n",
              "      <td>Furniture Acrylic Coffee Table Transparent Liv...</td>\n",
              "      <td>88.31</td>\n",
              "      <td>228.18</td>\n",
              "      <td>0</td>\n",
              "      <td>0.00</td>\n",
              "      <td>0.000000</td>\n",
              "      <td>0</td>\n",
              "    </tr>\n",
              "    <tr>\n",
              "      <th>1905</th>\n",
              "      <td>Bed Frane Bamboo and Metal Platform Bed Frame ...</td>\n",
              "      <td>88.31</td>\n",
              "      <td>99.48</td>\n",
              "      <td>0</td>\n",
              "      <td>0.00</td>\n",
              "      <td>0.000000</td>\n",
              "      <td>0</td>\n",
              "    </tr>\n",
              "  </tbody>\n",
              "</table>\n",
              "<p>1906 rows × 7 columns</p>\n",
              "</div>\n",
              "    <div class=\"colab-df-buttons\">\n",
              "\n",
              "  <div class=\"colab-df-container\">\n",
              "    <button class=\"colab-df-convert\" onclick=\"convertToInteractive('df-8cc2395d-41d5-4bad-a755-ef04b23d9d71')\"\n",
              "            title=\"Convert this dataframe to an interactive table.\"\n",
              "            style=\"display:none;\">\n",
              "\n",
              "  <svg xmlns=\"http://www.w3.org/2000/svg\" height=\"24px\" viewBox=\"0 -960 960 960\">\n",
              "    <path d=\"M120-120v-720h720v720H120Zm60-500h600v-160H180v160Zm220 220h160v-160H400v160Zm0 220h160v-160H400v160ZM180-400h160v-160H180v160Zm440 0h160v-160H620v160ZM180-180h160v-160H180v160Zm440 0h160v-160H620v160Z\"/>\n",
              "  </svg>\n",
              "    </button>\n",
              "\n",
              "  <style>\n",
              "    .colab-df-container {\n",
              "      display:flex;\n",
              "      gap: 12px;\n",
              "    }\n",
              "\n",
              "    .colab-df-convert {\n",
              "      background-color: #E8F0FE;\n",
              "      border: none;\n",
              "      border-radius: 50%;\n",
              "      cursor: pointer;\n",
              "      display: none;\n",
              "      fill: #1967D2;\n",
              "      height: 32px;\n",
              "      padding: 0 0 0 0;\n",
              "      width: 32px;\n",
              "    }\n",
              "\n",
              "    .colab-df-convert:hover {\n",
              "      background-color: #E2EBFA;\n",
              "      box-shadow: 0px 1px 2px rgba(60, 64, 67, 0.3), 0px 1px 3px 1px rgba(60, 64, 67, 0.15);\n",
              "      fill: #174EA6;\n",
              "    }\n",
              "\n",
              "    .colab-df-buttons div {\n",
              "      margin-bottom: 4px;\n",
              "    }\n",
              "\n",
              "    [theme=dark] .colab-df-convert {\n",
              "      background-color: #3B4455;\n",
              "      fill: #D2E3FC;\n",
              "    }\n",
              "\n",
              "    [theme=dark] .colab-df-convert:hover {\n",
              "      background-color: #434B5C;\n",
              "      box-shadow: 0px 1px 3px 1px rgba(0, 0, 0, 0.15);\n",
              "      filter: drop-shadow(0px 1px 2px rgba(0, 0, 0, 0.3));\n",
              "      fill: #FFFFFF;\n",
              "    }\n",
              "  </style>\n",
              "\n",
              "    <script>\n",
              "      const buttonEl =\n",
              "        document.querySelector('#df-8cc2395d-41d5-4bad-a755-ef04b23d9d71 button.colab-df-convert');\n",
              "      buttonEl.style.display =\n",
              "        google.colab.kernel.accessAllowed ? 'block' : 'none';\n",
              "\n",
              "      async function convertToInteractive(key) {\n",
              "        const element = document.querySelector('#df-8cc2395d-41d5-4bad-a755-ef04b23d9d71');\n",
              "        const dataTable =\n",
              "          await google.colab.kernel.invokeFunction('convertToInteractive',\n",
              "                                                    [key], {});\n",
              "        if (!dataTable) return;\n",
              "\n",
              "        const docLinkHtml = 'Like what you see? Visit the ' +\n",
              "          '<a target=\"_blank\" href=https://colab.research.google.com/notebooks/data_table.ipynb>data table notebook</a>'\n",
              "          + ' to learn more about interactive tables.';\n",
              "        element.innerHTML = '';\n",
              "        dataTable['output_type'] = 'display_data';\n",
              "        await google.colab.output.renderOutput(dataTable, element);\n",
              "        const docLink = document.createElement('div');\n",
              "        docLink.innerHTML = docLinkHtml;\n",
              "        element.appendChild(docLink);\n",
              "      }\n",
              "    </script>\n",
              "  </div>\n",
              "\n",
              "\n",
              "    <div id=\"df-31dc7533-30f1-48f5-a40b-77054e4444b0\">\n",
              "      <button class=\"colab-df-quickchart\" onclick=\"quickchart('df-31dc7533-30f1-48f5-a40b-77054e4444b0')\"\n",
              "                title=\"Suggest charts\"\n",
              "                style=\"display:none;\">\n",
              "\n",
              "<svg xmlns=\"http://www.w3.org/2000/svg\" height=\"24px\"viewBox=\"0 0 24 24\"\n",
              "     width=\"24px\">\n",
              "    <g>\n",
              "        <path d=\"M19 3H5c-1.1 0-2 .9-2 2v14c0 1.1.9 2 2 2h14c1.1 0 2-.9 2-2V5c0-1.1-.9-2-2-2zM9 17H7v-7h2v7zm4 0h-2V7h2v10zm4 0h-2v-4h2v4z\"/>\n",
              "    </g>\n",
              "</svg>\n",
              "      </button>\n",
              "\n",
              "<style>\n",
              "  .colab-df-quickchart {\n",
              "      --bg-color: #E8F0FE;\n",
              "      --fill-color: #1967D2;\n",
              "      --hover-bg-color: #E2EBFA;\n",
              "      --hover-fill-color: #174EA6;\n",
              "      --disabled-fill-color: #AAA;\n",
              "      --disabled-bg-color: #DDD;\n",
              "  }\n",
              "\n",
              "  [theme=dark] .colab-df-quickchart {\n",
              "      --bg-color: #3B4455;\n",
              "      --fill-color: #D2E3FC;\n",
              "      --hover-bg-color: #434B5C;\n",
              "      --hover-fill-color: #FFFFFF;\n",
              "      --disabled-bg-color: #3B4455;\n",
              "      --disabled-fill-color: #666;\n",
              "  }\n",
              "\n",
              "  .colab-df-quickchart {\n",
              "    background-color: var(--bg-color);\n",
              "    border: none;\n",
              "    border-radius: 50%;\n",
              "    cursor: pointer;\n",
              "    display: none;\n",
              "    fill: var(--fill-color);\n",
              "    height: 32px;\n",
              "    padding: 0;\n",
              "    width: 32px;\n",
              "  }\n",
              "\n",
              "  .colab-df-quickchart:hover {\n",
              "    background-color: var(--hover-bg-color);\n",
              "    box-shadow: 0 1px 2px rgba(60, 64, 67, 0.3), 0 1px 3px 1px rgba(60, 64, 67, 0.15);\n",
              "    fill: var(--button-hover-fill-color);\n",
              "  }\n",
              "\n",
              "  .colab-df-quickchart-complete:disabled,\n",
              "  .colab-df-quickchart-complete:disabled:hover {\n",
              "    background-color: var(--disabled-bg-color);\n",
              "    fill: var(--disabled-fill-color);\n",
              "    box-shadow: none;\n",
              "  }\n",
              "\n",
              "  .colab-df-spinner {\n",
              "    border: 2px solid var(--fill-color);\n",
              "    border-color: transparent;\n",
              "    border-bottom-color: var(--fill-color);\n",
              "    animation:\n",
              "      spin 1s steps(1) infinite;\n",
              "  }\n",
              "\n",
              "  @keyframes spin {\n",
              "    0% {\n",
              "      border-color: transparent;\n",
              "      border-bottom-color: var(--fill-color);\n",
              "      border-left-color: var(--fill-color);\n",
              "    }\n",
              "    20% {\n",
              "      border-color: transparent;\n",
              "      border-left-color: var(--fill-color);\n",
              "      border-top-color: var(--fill-color);\n",
              "    }\n",
              "    30% {\n",
              "      border-color: transparent;\n",
              "      border-left-color: var(--fill-color);\n",
              "      border-top-color: var(--fill-color);\n",
              "      border-right-color: var(--fill-color);\n",
              "    }\n",
              "    40% {\n",
              "      border-color: transparent;\n",
              "      border-right-color: var(--fill-color);\n",
              "      border-top-color: var(--fill-color);\n",
              "    }\n",
              "    60% {\n",
              "      border-color: transparent;\n",
              "      border-right-color: var(--fill-color);\n",
              "    }\n",
              "    80% {\n",
              "      border-color: transparent;\n",
              "      border-right-color: var(--fill-color);\n",
              "      border-bottom-color: var(--fill-color);\n",
              "    }\n",
              "    90% {\n",
              "      border-color: transparent;\n",
              "      border-bottom-color: var(--fill-color);\n",
              "    }\n",
              "  }\n",
              "</style>\n",
              "\n",
              "      <script>\n",
              "        async function quickchart(key) {\n",
              "          const quickchartButtonEl =\n",
              "            document.querySelector('#' + key + ' button');\n",
              "          quickchartButtonEl.disabled = true;  // To prevent multiple clicks.\n",
              "          quickchartButtonEl.classList.add('colab-df-spinner');\n",
              "          try {\n",
              "            const charts = await google.colab.kernel.invokeFunction(\n",
              "                'suggestCharts', [key], {});\n",
              "          } catch (error) {\n",
              "            console.error('Error during call to suggestCharts:', error);\n",
              "          }\n",
              "          quickchartButtonEl.classList.remove('colab-df-spinner');\n",
              "          quickchartButtonEl.classList.add('colab-df-quickchart-complete');\n",
              "        }\n",
              "        (() => {\n",
              "          let quickchartButtonEl =\n",
              "            document.querySelector('#df-31dc7533-30f1-48f5-a40b-77054e4444b0 button');\n",
              "          quickchartButtonEl.style.display =\n",
              "            google.colab.kernel.accessAllowed ? 'block' : 'none';\n",
              "        })();\n",
              "      </script>\n",
              "    </div>\n",
              "\n",
              "  <div id=\"id_fe9fd8c1-6c18-4998-89a1-985ee7eeaa26\">\n",
              "    <style>\n",
              "      .colab-df-generate {\n",
              "        background-color: #E8F0FE;\n",
              "        border: none;\n",
              "        border-radius: 50%;\n",
              "        cursor: pointer;\n",
              "        display: none;\n",
              "        fill: #1967D2;\n",
              "        height: 32px;\n",
              "        padding: 0 0 0 0;\n",
              "        width: 32px;\n",
              "      }\n",
              "\n",
              "      .colab-df-generate:hover {\n",
              "        background-color: #E2EBFA;\n",
              "        box-shadow: 0px 1px 2px rgba(60, 64, 67, 0.3), 0px 1px 3px 1px rgba(60, 64, 67, 0.15);\n",
              "        fill: #174EA6;\n",
              "      }\n",
              "\n",
              "      [theme=dark] .colab-df-generate {\n",
              "        background-color: #3B4455;\n",
              "        fill: #D2E3FC;\n",
              "      }\n",
              "\n",
              "      [theme=dark] .colab-df-generate:hover {\n",
              "        background-color: #434B5C;\n",
              "        box-shadow: 0px 1px 3px 1px rgba(0, 0, 0, 0.15);\n",
              "        filter: drop-shadow(0px 1px 2px rgba(0, 0, 0, 0.3));\n",
              "        fill: #FFFFFF;\n",
              "      }\n",
              "    </style>\n",
              "    <button class=\"colab-df-generate\" onclick=\"generateWithVariable('df')\"\n",
              "            title=\"Generate code using this dataframe.\"\n",
              "            style=\"display:none;\">\n",
              "\n",
              "  <svg xmlns=\"http://www.w3.org/2000/svg\" height=\"24px\"viewBox=\"0 0 24 24\"\n",
              "       width=\"24px\">\n",
              "    <path d=\"M7,19H8.4L18.45,9,17,7.55,7,17.6ZM5,21V16.75L18.45,3.32a2,2,0,0,1,2.83,0l1.4,1.43a1.91,1.91,0,0,1,.58,1.4,1.91,1.91,0,0,1-.58,1.4L9.25,21ZM18.45,9,17,7.55Zm-12,3A5.31,5.31,0,0,0,4.9,8.1,5.31,5.31,0,0,0,1,6.5,5.31,5.31,0,0,0,4.9,4.9,5.31,5.31,0,0,0,6.5,1,5.31,5.31,0,0,0,8.1,4.9,5.31,5.31,0,0,0,12,6.5,5.46,5.46,0,0,0,6.5,12Z\"/>\n",
              "  </svg>\n",
              "    </button>\n",
              "    <script>\n",
              "      (() => {\n",
              "      const buttonEl =\n",
              "        document.querySelector('#id_fe9fd8c1-6c18-4998-89a1-985ee7eeaa26 button.colab-df-generate');\n",
              "      buttonEl.style.display =\n",
              "        google.colab.kernel.accessAllowed ? 'block' : 'none';\n",
              "\n",
              "      buttonEl.onclick = () => {\n",
              "        google.colab.notebook.generateWithVariable('df');\n",
              "      }\n",
              "      })();\n",
              "    </script>\n",
              "  </div>\n",
              "\n",
              "    </div>\n",
              "  </div>\n"
            ],
            "application/vnd.google.colaboratory.intrinsic+json": {
              "type": "dataframe",
              "variable_name": "df",
              "summary": "{\n  \"name\": \"df\",\n  \"rows\": 1906,\n  \"fields\": [\n    {\n      \"column\": \"productTitle\",\n      \"properties\": {\n        \"dtype\": \"string\",\n        \"num_unique_values\": 1793,\n        \"samples\": [\n          \"VOWNER Vanity with Lighted Mirror - Makeup Vanity Desk with Power Outlet and 7 Drawers, 3 Color Lighting Modes Adjustable\",\n          \"Patio Furniture Sets, 7 Piece PE Rattan Wicker Sofa Set, Outdoor Sectional Furniture Chair Set, Outdoor Furniture Sets\",\n          \"White Computer Writing Desk with Drawers Mirror Makeup Table Modern Home Office Wood Legs 39.4*19.7in\"\n        ],\n        \"semantic_type\": \"\",\n        \"description\": \"\"\n      }\n    },\n    {\n      \"column\": \"originalPrice\",\n      \"properties\": {\n        \"dtype\": \"number\",\n        \"std\": 219.08746739750788,\n        \"min\": 3.63,\n        \"max\": 3265.13,\n        \"num_unique_values\": 453,\n        \"samples\": [\n          218.4,\n          377.01,\n          9.78\n        ],\n        \"semantic_type\": \"\",\n        \"description\": \"\"\n      }\n    },\n    {\n      \"column\": \"price\",\n      \"properties\": {\n        \"dtype\": \"number\",\n        \"std\": 176.96983078986406,\n        \"min\": 0.99,\n        \"max\": 2876.38,\n        \"num_unique_values\": 1802,\n        \"samples\": [\n          39.04,\n          152.0,\n          30.27\n        ],\n        \"semantic_type\": \"\",\n        \"description\": \"\"\n      }\n    },\n    {\n      \"column\": \"sold\",\n      \"properties\": {\n        \"dtype\": \"number\",\n        \"std\": 260,\n        \"min\": 0,\n        \"max\": 10000,\n        \"num_unique_values\": 115,\n        \"samples\": [\n          47,\n          53,\n          20\n        ],\n        \"semantic_type\": \"\",\n        \"description\": \"\"\n      }\n    },\n    {\n      \"column\": \"total_revnue\",\n      \"properties\": {\n        \"dtype\": \"number\",\n        \"std\": 5058.196449364888,\n        \"min\": 0.0,\n        \"max\": 122800.0,\n        \"num_unique_values\": 1461,\n        \"samples\": [\n          33.37,\n          2247.19,\n          558.09\n        ],\n        \"semantic_type\": \"\",\n        \"description\": \"\"\n      }\n    },\n    {\n      \"column\": \"discounted_%\",\n      \"properties\": {\n        \"dtype\": \"number\",\n        \"std\": 27.96099031477863,\n        \"min\": 0.0,\n        \"max\": 98.85630166459065,\n        \"num_unique_values\": 904,\n        \"samples\": [\n          51.90742624618515,\n          59.155248556222396,\n          61.58985392367795\n        ],\n        \"semantic_type\": \"\",\n        \"description\": \"\"\n      }\n    },\n    {\n      \"column\": \"tagtext_encoded\",\n      \"properties\": {\n        \"dtype\": \"number\",\n        \"std\": 0,\n        \"min\": 0,\n        \"max\": 2,\n        \"num_unique_values\": 3,\n        \"samples\": [\n          0,\n          2,\n          1\n        ],\n        \"semantic_type\": \"\",\n        \"description\": \"\"\n      }\n    }\n  ]\n}"
            }
          },
          "metadata": {},
          "execution_count": 48
        }
      ]
    },
    {
      "cell_type": "markdown",
      "source": [
        " : now converting the product title which has very massy test into numerical data .since we know ML model only need data into numircal format instead of categorical . to learn pattern from data .\n",
        " - using td tdf\n",
        " so our machine learning model could understand which words in the title might affect how well the product sells. It's smarter than label encoding because it doesn't treat titles like ranks — and it helps pick up patterns like certain words (like ‘Ergonomic’ or ‘Foldable’) being linked to higher sales.”"
      ],
      "metadata": {
        "id": "kybt-smsK1if"
      }
    },
    {
      "cell_type": "code",
      "source": [
        "from sklearn.feature_extraction.text import TfidfVectorizer\n",
        "\n",
        "tfidf = TfidfVectorizer(max_features =100)\n",
        "title_vector = tfidf.fit_transform(df['productTitle']) # here fitting data inot TfidfVectorizer\n",
        "\n",
        "title_df = pd.DataFrame(title_vector.toarray(), columns=tfidf.get_feature_names_out()) # converting it into data frame and giving header to all new created int columns\n",
        "\n",
        "title_df.reset_index(drop =True)\n",
        "# reset index in order to match both data frame indexes properly and pervent nun entry in data\n",
        "\n",
        "#  After converting the product title into numerical , now concating it with our main data frame .\n",
        "df = pd.concat([df,title_df], axis =1)"
      ],
      "metadata": {
        "id": "JwHze0k2r7F7"
      },
      "execution_count": 49,
      "outputs": []
    },
    {
      "cell_type": "markdown",
      "source": [
        ": once i am done adding new all products numircal values into main data frame . just droped the  product title main column which had data in tetual fromat ."
      ],
      "metadata": {
        "id": "m6ueANdNI0Tx"
      }
    },
    {
      "cell_type": "code",
      "source": [
        "df.drop('productTitle',axis=1,inplace = True)"
      ],
      "metadata": {
        "id": "iEkljY7J3JtY"
      },
      "execution_count": 50,
      "outputs": []
    },
    {
      "cell_type": "markdown",
      "source": [
        "## Train / Test split & slecting target column :"
      ],
      "metadata": {
        "id": "HaPRztm1QP0u"
      }
    },
    {
      "cell_type": "code",
      "source": [
        "# here i selected sold as target varible >>\n",
        "\n",
        "x = df.drop('sold',axis=1)\n",
        "y = df['sold']"
      ],
      "metadata": {
        "id": "N_Ya70jg09eO"
      },
      "execution_count": 51,
      "outputs": []
    },
    {
      "cell_type": "markdown",
      "source": [
        ": now doing train test split\n",
        "-  where i going to take 75 parcent train data and 25 % test data\n",
        "- first i have to select one target varible in order to do that >>\n",
        "- here over train data we are gonne train our machine learning model and will be testing our ML model onto test data . which has never been expsoed to ML model ."
      ],
      "metadata": {
        "id": "3-8vgOOrNCMC"
      }
    },
    {
      "cell_type": "code",
      "source": [
        "from sklearn.model_selection import train_test_split"
      ],
      "metadata": {
        "id": "oIfWwGj21ZzT"
      },
      "execution_count": 52,
      "outputs": []
    },
    {
      "cell_type": "code",
      "source": [
        "x_train , x_test , y_train , y_test = train_test_split(x,y , test_size = 0.25 ,random_state = 42)"
      ],
      "metadata": {
        "id": "2iNuRCih2UiT"
      },
      "execution_count": 53,
      "outputs": []
    },
    {
      "cell_type": "code",
      "source": [
        "print(df.shape)\n",
        "print(x_train.shape)  # 75 % train data and 25 % test data\n",
        "print(x_test.shape)\n",
        "print(y_train.shape)\n",
        "print(y_test.shape)"
      ],
      "metadata": {
        "id": "CyV49d8G3Dwc",
        "colab": {
          "base_uri": "https://localhost:8080/"
        },
        "outputId": "e186a65c-f344-44f0-9604-66bdbcafb7ac"
      },
      "execution_count": 54,
      "outputs": [
        {
          "output_type": "stream",
          "name": "stdout",
          "text": [
            "(1906, 106)\n",
            "(1429, 105)\n",
            "(477, 105)\n",
            "(1429,)\n",
            "(477,)\n"
          ]
        }
      ]
    },
    {
      "cell_type": "markdown",
      "source": [
        "## 5. Model selection and training"
      ],
      "metadata": {
        "id": "qyHBdNIsHF1h"
      }
    },
    {
      "cell_type": "markdown",
      "source": [
        ":  Models\n",
        "\n",
        "1. RandomForestRegressor\n",
        "\n",
        "- Why we used it :\n",
        "\n",
        "- It’s great for handling nonlinear data and outliers.\n",
        "- Works well with mixed features (like price, discounts, shipping type).\n",
        "- It builds many decision trees and takes the average result for better accuracy.\n",
        "\n",
        "2. GridSearchCV (with Random Forest)\n",
        "- Why we used it :\n",
        "- It helps find the best settings (hyperparameters) for Random Forest.\n",
        "- It tests multiple combinations (like number of trees, depth) and\n",
        " picks the one that gives the best prediction.\n",
        "- Improves model accuracy and reduces overfitting.\n"
      ],
      "metadata": {
        "id": "uJ8hf_ZaF80B"
      }
    },
    {
      "cell_type": "code",
      "source": [
        "# models >>\n",
        "from sklearn.ensemble import RandomForestRegressor\n",
        "from sklearn.model_selection import GridSearchCV\n",
        "from sklearn.metrics import mean_squared_error, r2_score\n",
        "\n",
        "# here performing random forest regression with hyper parameter tuning\n",
        "rf = RandomForestRegressor(random_state = 42)\n",
        "\n",
        "param_grid = {\n",
        "     'n_estimators': [100, 200],\n",
        "    'max_depth': [None, 10, 20],\n",
        "    'min_samples_leaf': [1, 2]\n",
        "}\n",
        "\n",
        "grid = GridSearchCV(\n",
        "    rf ,\n",
        "    param_grid ,\n",
        "    cv = 3 ,\n",
        "    scoring = 'r2',\n",
        "    n_jobs = -1 ,\n",
        "    verbose = 1\n",
        ")"
      ],
      "metadata": {
        "id": "bmnJYYH__Txz"
      },
      "execution_count": 55,
      "outputs": []
    },
    {
      "cell_type": "code",
      "source": [
        "# now training both model\n",
        "grid.fit(x_train, y_train)\n",
        "\n",
        "# get the best model\n",
        "best_rf = grid.best_estimator_"
      ],
      "metadata": {
        "id": "uXYN56NXABGh",
        "colab": {
          "base_uri": "https://localhost:8080/"
        },
        "outputId": "37cf89d5-78ab-4f9d-fe68-95224fdef837"
      },
      "execution_count": 56,
      "outputs": [
        {
          "output_type": "stream",
          "name": "stdout",
          "text": [
            "Fitting 3 folds for each of 12 candidates, totalling 36 fits\n"
          ]
        }
      ]
    },
    {
      "cell_type": "code",
      "source": [
        "# make predictions and evaluate\n",
        "y_pred_rf = best_rf.predict(x_test)\n",
        "\n",
        "mse_rf1 = mean_squared_error(y_test,y_pred_rf)\n",
        "r2_rf1 = r2_score(y_test, y_pred_rf )\n"
      ],
      "metadata": {
        "id": "painEZd_BiYI"
      },
      "execution_count": 57,
      "outputs": []
    },
    {
      "cell_type": "code",
      "source": [
        "print(f'random forest  mse: {mse_rf1}')\n",
        "print(f'random forest r2 score : f{r2_rf1}')"
      ],
      "metadata": {
        "id": "q-C02Y9tCzwr",
        "colab": {
          "base_uri": "https://localhost:8080/"
        },
        "outputId": "c6423a81-58f8-4e44-8f78-7534cdd4bd0f"
      },
      "execution_count": 58,
      "outputs": [
        {
          "output_type": "stream",
          "name": "stdout",
          "text": [
            "random forest  mse: 4236.354392829591\n",
            "random forest r2 score : f0.5962392116741065\n"
          ]
        }
      ]
    },
    {
      "cell_type": "markdown",
      "source": [
        ": here i found random forest regression is performing slighlty batter with hyper permater tuning rather than normal random forest regression .\n",
        "- thereofor i prefered to keep this hyper tuned model as a main model over this dataset in order to gain more accuracy and high perfomance possible ."
      ],
      "metadata": {
        "id": "ITLTsTIuUA85"
      }
    },
    {
      "cell_type": "markdown",
      "source": [
        ": insights >\n",
        "- mse: 4236.35 now our mSE is performing much batter , lower msc indicate batter predictions\n",
        "- r2 socre = 0.59 somthing mean aorund 60 % here model is elobrating about 60% data sales effect"
      ],
      "metadata": {
        "id": "RymscNOqOAAJ"
      }
    },
    {
      "cell_type": "markdown",
      "source": [
        ": final insights >>\n",
        "- This combination helped us build a smart, accurate sales prediction model that can learn complex patterns in product data.\n",
        "\n",
        "1. We can now predict sales with much more confidence using the Random Forest model  it explains almost 60% of what influences product sales.\n",
        "\n",
        "2. here our random regression is perforing batter then linear regression\n",
        "\n",
        "3. Above linear regression has MSE of 7432.37 but with random regression it got decreased by - 3150 now new MSE is : 4282.49\n",
        "4. wherease R2 was 0.29 mean 30% now which has become 0.59 mean 60 %"
      ],
      "metadata": {
        "id": "pING6zSqMt56"
      }
    },
    {
      "cell_type": "markdown",
      "source": [
        "## SOME INSIGHTS AFTER ML MODEL EXICUTION :"
      ],
      "metadata": {
        "id": "Ki9wMuwEQgjn"
      }
    },
    {
      "cell_type": "code",
      "source": [
        "# some insights using plots >>\n",
        "\n",
        "importances = pd.Series(best_rf.feature_importances_, index=x_train.columns)\n",
        "importances.sort_values(ascending=False).head(10).plot(kind='barh', figsize=(10, 6))\n",
        "plt.title(\"Top 10 Feature Importances\")\n",
        "plt.show()"
      ],
      "metadata": {
        "id": "35U7GAhZOR2s",
        "colab": {
          "base_uri": "https://localhost:8080/",
          "height": 545
        },
        "outputId": "23f14117-4cf7-4856-d7e4-a7dca045cf8e"
      },
      "execution_count": 59,
      "outputs": [
        {
          "output_type": "display_data",
          "data": {
            "text/plain": [
              "<Figure size 1000x600 with 1 Axes>"
            ],
            "image/png": "[encoded data removed]"
          },
          "metadata": {}
        }
      ]
    },
    {
      "cell_type": "markdown",
      "source": [
        ": the relationship among actual vs predicted sales"
      ],
      "metadata": {
        "id": "1TSPr-xyL2GL"
      }
    },
    {
      "cell_type": "code",
      "source": [
        "plt.figure(figsize=(6,6))\n",
        "sns.scatterplot(x=y_test, y=y_pred_rf)\n",
        "plt.xlabel(\"Actual Sold\")\n",
        "plt.ylabel(\"Predicted Sold\")\n",
        "plt.title(\"Actual vs Predicted Sales\")\n",
        "plt.show()"
      ],
      "metadata": {
        "id": "4fFRH3gCOU0o",
        "colab": {
          "base_uri": "https://localhost:8080/",
          "height": 564
        },
        "outputId": "8ff927b5-129c-47c1-84f1-9903f673c2aa"
      },
      "execution_count": 60,
      "outputs": [
        {
          "output_type": "display_data",
          "data": {
            "text/plain": [
              "<Figure size 600x600 with 1 Axes>"
            ],
            "image/png": "[encoded data removed]"
          },
          "metadata": {}
        }
      ]
    },
    {
      "cell_type": "code",
      "source": [
        "# our data frame visuals after all opration .\n",
        "df"
      ],
      "metadata": {
        "id": "NEjOl2tOOZ8C",
        "colab": {
          "base_uri": "https://localhost:8080/",
          "height": 444
        },
        "outputId": "54d89fef-c4e0-429a-c713-0fe938735d3e"
      },
      "execution_count": 61,
      "outputs": [
        {
          "output_type": "execute_result",
          "data": {
            "text/plain": [
              "      originalPrice   price  sold  total_revnue  discounted_%  \\\n",
              "0             88.31   46.79   600      28074.00     47.016193   \n",
              "1             88.31  169.72     0          0.00      0.000000   \n",
              "2             78.40   39.46     7        276.22     49.668367   \n",
              "3             88.31  111.99     0          0.00      0.000000   \n",
              "4             48.82   21.37     1         21.37     56.226956   \n",
              "...             ...     ...   ...           ...           ...   \n",
              "1901          88.31  555.46     0          0.00      0.000000   \n",
              "1902          88.31  325.83     4       1303.32      0.000000   \n",
              "1903          88.31  105.16     2        210.32      0.000000   \n",
              "1904          88.31  228.18     0          0.00      0.000000   \n",
              "1905          88.31   99.48     0          0.00      0.000000   \n",
              "\n",
              "      tagtext_encoded  adjustable       and       bed   bedroom  ...   up  \\\n",
              "0                   0         0.0  0.000000  0.000000  0.189323  ...  0.0   \n",
              "1                   0         0.0  0.000000  0.000000  0.000000  ...  0.0   \n",
              "2                   0         0.0  0.000000  0.000000  0.200173  ...  0.0   \n",
              "3                   0         0.0  0.000000  0.000000  0.000000  ...  0.0   \n",
              "4                   0         0.0  0.000000  0.000000  0.000000  ...  0.0   \n",
              "...               ...         ...       ...       ...       ...  ...  ...   \n",
              "1901                0         0.0  0.204455  0.000000  0.000000  ...  0.0   \n",
              "1902                0         0.0  0.000000  0.000000  0.000000  ...  0.0   \n",
              "1903                0         0.0  0.000000  0.000000  0.000000  ...  0.0   \n",
              "1904                0         0.0  0.000000  0.000000  0.000000  ...  0.0   \n",
              "1905                0         0.0  0.244517  0.714655  0.000000  ...  0.0   \n",
              "\n",
              "      upholstered  vanity  velvet  wardrobe  white    wicker      with  \\\n",
              "0        0.000000     0.0     0.0  0.300517    0.0  0.000000  0.120701   \n",
              "1        0.000000     0.0     0.0  0.000000    0.0  0.298943  0.000000   \n",
              "2        0.000000     0.0     0.0  0.000000    0.0  0.000000  0.127619   \n",
              "3        0.338785     0.0     0.0  0.000000    0.0  0.000000  0.000000   \n",
              "4        0.000000     0.0     0.0  0.000000    0.0  0.000000  0.000000   \n",
              "...           ...     ...     ...       ...    ...       ...       ...   \n",
              "1901     0.000000     0.0     0.0  0.000000    0.0  0.303052  0.134908   \n",
              "1902     0.000000     0.0     0.0  0.000000    0.0  0.286946  0.000000   \n",
              "1903     0.000000     0.0     0.0  0.000000    0.0  0.000000  0.000000   \n",
              "1904     0.000000     0.0     0.0  0.000000    0.0  0.000000  0.000000   \n",
              "1905     0.000000     0.0     0.0  0.000000    0.0  0.000000  0.161343   \n",
              "\n",
              "          wood    wooden  \n",
              "0     0.000000  0.000000  \n",
              "1     0.000000  0.000000  \n",
              "2     0.000000  0.000000  \n",
              "3     0.000000  0.000000  \n",
              "4     0.000000  0.549113  \n",
              "...        ...       ...  \n",
              "1901  0.000000  0.000000  \n",
              "1902  0.000000  0.000000  \n",
              "1903  0.000000  0.000000  \n",
              "1904  0.000000  0.000000  \n",
              "1905  0.354259  0.000000  \n",
              "\n",
              "[1906 rows x 106 columns]"
            ],
            "text/html": [
              "\n",
              "  <div id=\"df-d0186983-51b0-4f43-924d-d26165c59cb9\" class=\"colab-df-container\">\n",
              "    <div>\n",
              "<style scoped>\n",
              "    .dataframe tbody tr th:only-of-type {\n",
              "        vertical-align: middle;\n",
              "    }\n",
              "\n",
              "    .dataframe tbody tr th {\n",
              "        vertical-align: top;\n",
              "    }\n",
              "\n",
              "    .dataframe thead th {\n",
              "        text-align: right;\n",
              "    }\n",
              "</style>\n",
              "<table border=\"1\" class=\"dataframe\">\n",
              "  <thead>\n",
              "    <tr style=\"text-align: right;\">\n",
              "      <th></th>\n",
              "      <th>originalPrice</th>\n",
              "      <th>price</th>\n",
              "      <th>sold</th>\n",
              "      <th>total_revnue</th>\n",
              "      <th>discounted_%</th>\n",
              "      <th>tagtext_encoded</th>\n",
              "      <th>adjustable</th>\n",
              "      <th>and</th>\n",
              "      <th>bed</th>\n",
              "      <th>bedroom</th>\n",
              "      <th>...</th>\n",
              "      <th>up</th>\n",
              "      <th>upholstered</th>\n",
              "      <th>vanity</th>\n",
              "      <th>velvet</th>\n",
              "      <th>wardrobe</th>\n",
              "      <th>white</th>\n",
              "      <th>wicker</th>\n",
              "      <th>with</th>\n",
              "      <th>wood</th>\n",
              "      <th>wooden</th>\n",
              "    </tr>\n",
              "  </thead>\n",
              "  <tbody>\n",
              "    <tr>\n",
              "      <th>0</th>\n",
              "      <td>88.31</td>\n",
              "      <td>46.79</td>\n",
              "      <td>600</td>\n",
              "      <td>28074.00</td>\n",
              "      <td>47.016193</td>\n",
              "      <td>0</td>\n",
              "      <td>0.0</td>\n",
              "      <td>0.000000</td>\n",
              "      <td>0.000000</td>\n",
              "      <td>0.189323</td>\n",
              "      <td>...</td>\n",
              "      <td>0.0</td>\n",
              "      <td>0.000000</td>\n",
              "      <td>0.0</td>\n",
              "      <td>0.0</td>\n",
              "      <td>0.300517</td>\n",
              "      <td>0.0</td>\n",
              "      <td>0.000000</td>\n",
              "      <td>0.120701</td>\n",
              "      <td>0.000000</td>\n",
              "      <td>0.000000</td>\n",
              "    </tr>\n",
              "    <tr>\n",
              "      <th>1</th>\n",
              "      <td>88.31</td>\n",
              "      <td>169.72</td>\n",
              "      <td>0</td>\n",
              "      <td>0.00</td>\n",
              "      <td>0.000000</td>\n",
              "      <td>0</td>\n",
              "      <td>0.0</td>\n",
              "      <td>0.000000</td>\n",
              "      <td>0.000000</td>\n",
              "      <td>0.000000</td>\n",
              "      <td>...</td>\n",
              "      <td>0.0</td>\n",
              "      <td>0.000000</td>\n",
              "      <td>0.0</td>\n",
              "      <td>0.0</td>\n",
              "      <td>0.000000</td>\n",
              "      <td>0.0</td>\n",
              "      <td>0.298943</td>\n",
              "      <td>0.000000</td>\n",
              "      <td>0.000000</td>\n",
              "      <td>0.000000</td>\n",
              "    </tr>\n",
              "    <tr>\n",
              "      <th>2</th>\n",
              "      <td>78.40</td>\n",
              "      <td>39.46</td>\n",
              "      <td>7</td>\n",
              "      <td>276.22</td>\n",
              "      <td>49.668367</td>\n",
              "      <td>0</td>\n",
              "      <td>0.0</td>\n",
              "      <td>0.000000</td>\n",
              "      <td>0.000000</td>\n",
              "      <td>0.200173</td>\n",
              "      <td>...</td>\n",
              "      <td>0.0</td>\n",
              "      <td>0.000000</td>\n",
              "      <td>0.0</td>\n",
              "      <td>0.0</td>\n",
              "      <td>0.000000</td>\n",
              "      <td>0.0</td>\n",
              "      <td>0.000000</td>\n",
              "      <td>0.127619</td>\n",
              "      <td>0.000000</td>\n",
              "      <td>0.000000</td>\n",
              "    </tr>\n",
              "    <tr>\n",
              "      <th>3</th>\n",
              "      <td>88.31</td>\n",
              "      <td>111.99</td>\n",
              "      <td>0</td>\n",
              "      <td>0.00</td>\n",
              "      <td>0.000000</td>\n",
              "      <td>0</td>\n",
              "      <td>0.0</td>\n",
              "      <td>0.000000</td>\n",
              "      <td>0.000000</td>\n",
              "      <td>0.000000</td>\n",
              "      <td>...</td>\n",
              "      <td>0.0</td>\n",
              "      <td>0.338785</td>\n",
              "      <td>0.0</td>\n",
              "      <td>0.0</td>\n",
              "      <td>0.000000</td>\n",
              "      <td>0.0</td>\n",
              "      <td>0.000000</td>\n",
              "      <td>0.000000</td>\n",
              "      <td>0.000000</td>\n",
              "      <td>0.000000</td>\n",
              "    </tr>\n",
              "    <tr>\n",
              "      <th>4</th>\n",
              "      <td>48.82</td>\n",
              "      <td>21.37</td>\n",
              "      <td>1</td>\n",
              "      <td>21.37</td>\n",
              "      <td>56.226956</td>\n",
              "      <td>0</td>\n",
              "      <td>0.0</td>\n",
              "      <td>0.000000</td>\n",
              "      <td>0.000000</td>\n",
              "      <td>0.000000</td>\n",
              "      <td>...</td>\n",
              "      <td>0.0</td>\n",
              "      <td>0.000000</td>\n",
              "      <td>0.0</td>\n",
              "      <td>0.0</td>\n",
              "      <td>0.000000</td>\n",
              "      <td>0.0</td>\n",
              "      <td>0.000000</td>\n",
              "      <td>0.000000</td>\n",
              "      <td>0.000000</td>\n",
              "      <td>0.549113</td>\n",
              "    </tr>\n",
              "    <tr>\n",
              "      <th>...</th>\n",
              "      <td>...</td>\n",
              "      <td>...</td>\n",
              "      <td>...</td>\n",
              "      <td>...</td>\n",
              "      <td>...</td>\n",
              "      <td>...</td>\n",
              "      <td>...</td>\n",
              "      <td>...</td>\n",
              "      <td>...</td>\n",
              "      <td>...</td>\n",
              "      <td>...</td>\n",
              "      <td>...</td>\n",
              "      <td>...</td>\n",
              "      <td>...</td>\n",
              "      <td>...</td>\n",
              "      <td>...</td>\n",
              "      <td>...</td>\n",
              "      <td>...</td>\n",
              "      <td>...</td>\n",
              "      <td>...</td>\n",
              "      <td>...</td>\n",
              "    </tr>\n",
              "    <tr>\n",
              "      <th>1901</th>\n",
              "      <td>88.31</td>\n",
              "      <td>555.46</td>\n",
              "      <td>0</td>\n",
              "      <td>0.00</td>\n",
              "      <td>0.000000</td>\n",
              "      <td>0</td>\n",
              "      <td>0.0</td>\n",
              "      <td>0.204455</td>\n",
              "      <td>0.000000</td>\n",
              "      <td>0.000000</td>\n",
              "      <td>...</td>\n",
              "      <td>0.0</td>\n",
              "      <td>0.000000</td>\n",
              "      <td>0.0</td>\n",
              "      <td>0.0</td>\n",
              "      <td>0.000000</td>\n",
              "      <td>0.0</td>\n",
              "      <td>0.303052</td>\n",
              "      <td>0.134908</td>\n",
              "      <td>0.000000</td>\n",
              "      <td>0.000000</td>\n",
              "    </tr>\n",
              "    <tr>\n",
              "      <th>1902</th>\n",
              "      <td>88.31</td>\n",
              "      <td>325.83</td>\n",
              "      <td>4</td>\n",
              "      <td>1303.32</td>\n",
              "      <td>0.000000</td>\n",
              "      <td>0</td>\n",
              "      <td>0.0</td>\n",
              "      <td>0.000000</td>\n",
              "      <td>0.000000</td>\n",
              "      <td>0.000000</td>\n",
              "      <td>...</td>\n",
              "      <td>0.0</td>\n",
              "      <td>0.000000</td>\n",
              "      <td>0.0</td>\n",
              "      <td>0.0</td>\n",
              "      <td>0.000000</td>\n",
              "      <td>0.0</td>\n",
              "      <td>0.286946</td>\n",
              "      <td>0.000000</td>\n",
              "      <td>0.000000</td>\n",
              "      <td>0.000000</td>\n",
              "    </tr>\n",
              "    <tr>\n",
              "      <th>1903</th>\n",
              "      <td>88.31</td>\n",
              "      <td>105.16</td>\n",
              "      <td>2</td>\n",
              "      <td>210.32</td>\n",
              "      <td>0.000000</td>\n",
              "      <td>0</td>\n",
              "      <td>0.0</td>\n",
              "      <td>0.000000</td>\n",
              "      <td>0.000000</td>\n",
              "      <td>0.000000</td>\n",
              "      <td>...</td>\n",
              "      <td>0.0</td>\n",
              "      <td>0.000000</td>\n",
              "      <td>0.0</td>\n",
              "      <td>0.0</td>\n",
              "      <td>0.000000</td>\n",
              "      <td>0.0</td>\n",
              "      <td>0.000000</td>\n",
              "      <td>0.000000</td>\n",
              "      <td>0.000000</td>\n",
              "      <td>0.000000</td>\n",
              "    </tr>\n",
              "    <tr>\n",
              "      <th>1904</th>\n",
              "      <td>88.31</td>\n",
              "      <td>228.18</td>\n",
              "      <td>0</td>\n",
              "      <td>0.00</td>\n",
              "      <td>0.000000</td>\n",
              "      <td>0</td>\n",
              "      <td>0.0</td>\n",
              "      <td>0.000000</td>\n",
              "      <td>0.000000</td>\n",
              "      <td>0.000000</td>\n",
              "      <td>...</td>\n",
              "      <td>0.0</td>\n",
              "      <td>0.000000</td>\n",
              "      <td>0.0</td>\n",
              "      <td>0.0</td>\n",
              "      <td>0.000000</td>\n",
              "      <td>0.0</td>\n",
              "      <td>0.000000</td>\n",
              "      <td>0.000000</td>\n",
              "      <td>0.000000</td>\n",
              "      <td>0.000000</td>\n",
              "    </tr>\n",
              "    <tr>\n",
              "      <th>1905</th>\n",
              "      <td>88.31</td>\n",
              "      <td>99.48</td>\n",
              "      <td>0</td>\n",
              "      <td>0.00</td>\n",
              "      <td>0.000000</td>\n",
              "      <td>0</td>\n",
              "      <td>0.0</td>\n",
              "      <td>0.244517</td>\n",
              "      <td>0.714655</td>\n",
              "      <td>0.000000</td>\n",
              "      <td>...</td>\n",
              "      <td>0.0</td>\n",
              "      <td>0.000000</td>\n",
              "      <td>0.0</td>\n",
              "      <td>0.0</td>\n",
              "      <td>0.000000</td>\n",
              "      <td>0.0</td>\n",
              "      <td>0.000000</td>\n",
              "      <td>0.161343</td>\n",
              "      <td>0.354259</td>\n",
              "      <td>0.000000</td>\n",
              "    </tr>\n",
              "  </tbody>\n",
              "</table>\n",
              "<p>1906 rows × 106 columns</p>\n",
              "</div>\n",
              "    <div class=\"colab-df-buttons\">\n",
              "\n",
              "  <div class=\"colab-df-container\">\n",
              "    <button class=\"colab-df-convert\" onclick=\"convertToInteractive('df-d0186983-51b0-4f43-924d-d26165c59cb9')\"\n",
              "            title=\"Convert this dataframe to an interactive table.\"\n",
              "            style=\"display:none;\">\n",
              "\n",
              "  <svg xmlns=\"http://www.w3.org/2000/svg\" height=\"24px\" viewBox=\"0 -960 960 960\">\n",
              "    <path d=\"M120-120v-720h720v720H120Zm60-500h600v-160H180v160Zm220 220h160v-160H400v160Zm0 220h160v-160H400v160ZM180-400h160v-160H180v160Zm440 0h160v-160H620v160ZM180-180h160v-160H180v160Zm440 0h160v-160H620v160Z\"/>\n",
              "  </svg>\n",
              "    </button>\n",
              "\n",
              "  <style>\n",
              "    .colab-df-container {\n",
              "      display:flex;\n",
              "      gap: 12px;\n",
              "    }\n",
              "\n",
              "    .colab-df-convert {\n",
              "      background-color: #E8F0FE;\n",
              "      border: none;\n",
              "      border-radius: 50%;\n",
              "      cursor: pointer;\n",
              "      display: none;\n",
              "      fill: #1967D2;\n",
              "      height: 32px;\n",
              "      padding: 0 0 0 0;\n",
              "      width: 32px;\n",
              "    }\n",
              "\n",
              "    .colab-df-convert:hover {\n",
              "      background-color: #E2EBFA;\n",
              "      box-shadow: 0px 1px 2px rgba(60, 64, 67, 0.3), 0px 1px 3px 1px rgba(60, 64, 67, 0.15);\n",
              "      fill: #174EA6;\n",
              "    }\n",
              "\n",
              "    .colab-df-buttons div {\n",
              "      margin-bottom: 4px;\n",
              "    }\n",
              "\n",
              "    [theme=dark] .colab-df-convert {\n",
              "      background-color: #3B4455;\n",
              "      fill: #D2E3FC;\n",
              "    }\n",
              "\n",
              "    [theme=dark] .colab-df-convert:hover {\n",
              "      background-color: #434B5C;\n",
              "      box-shadow: 0px 1px 3px 1px rgba(0, 0, 0, 0.15);\n",
              "      filter: drop-shadow(0px 1px 2px rgba(0, 0, 0, 0.3));\n",
              "      fill: #FFFFFF;\n",
              "    }\n",
              "  </style>\n",
              "\n",
              "    <script>\n",
              "      const buttonEl =\n",
              "        document.querySelector('#df-d0186983-51b0-4f43-924d-d26165c59cb9 button.colab-df-convert');\n",
              "      buttonEl.style.display =\n",
              "        google.colab.kernel.accessAllowed ? 'block' : 'none';\n",
              "\n",
              "      async function convertToInteractive(key) {\n",
              "        const element = document.querySelector('#df-d0186983-51b0-4f43-924d-d26165c59cb9');\n",
              "        const dataTable =\n",
              "          await google.colab.kernel.invokeFunction('convertToInteractive',\n",
              "                                                    [key], {});\n",
              "        if (!dataTable) return;\n",
              "\n",
              "        const docLinkHtml = 'Like what you see? Visit the ' +\n",
              "          '<a target=\"_blank\" href=https://colab.research.google.com/notebooks/data_table.ipynb>data table notebook</a>'\n",
              "          + ' to learn more about interactive tables.';\n",
              "        element.innerHTML = '';\n",
              "        dataTable['output_type'] = 'display_data';\n",
              "        await google.colab.output.renderOutput(dataTable, element);\n",
              "        const docLink = document.createElement('div');\n",
              "        docLink.innerHTML = docLinkHtml;\n",
              "        element.appendChild(docLink);\n",
              "      }\n",
              "    </script>\n",
              "  </div>\n",
              "\n",
              "\n",
              "    <div id=\"df-c97173e1-31bc-4853-b735-29c3182635aa\">\n",
              "      <button class=\"colab-df-quickchart\" onclick=\"quickchart('df-c97173e1-31bc-4853-b735-29c3182635aa')\"\n",
              "                title=\"Suggest charts\"\n",
              "                style=\"display:none;\">\n",
              "\n",
              "<svg xmlns=\"http://www.w3.org/2000/svg\" height=\"24px\"viewBox=\"0 0 24 24\"\n",
              "     width=\"24px\">\n",
              "    <g>\n",
              "        <path d=\"M19 3H5c-1.1 0-2 .9-2 2v14c0 1.1.9 2 2 2h14c1.1 0 2-.9 2-2V5c0-1.1-.9-2-2-2zM9 17H7v-7h2v7zm4 0h-2V7h2v10zm4 0h-2v-4h2v4z\"/>\n",
              "    </g>\n",
              "</svg>\n",
              "      </button>\n",
              "\n",
              "<style>\n",
              "  .colab-df-quickchart {\n",
              "      --bg-color: #E8F0FE;\n",
              "      --fill-color: #1967D2;\n",
              "      --hover-bg-color: #E2EBFA;\n",
              "      --hover-fill-color: #174EA6;\n",
              "      --disabled-fill-color: #AAA;\n",
              "      --disabled-bg-color: #DDD;\n",
              "  }\n",
              "\n",
              "  [theme=dark] .colab-df-quickchart {\n",
              "      --bg-color: #3B4455;\n",
              "      --fill-color: #D2E3FC;\n",
              "      --hover-bg-color: #434B5C;\n",
              "      --hover-fill-color: #FFFFFF;\n",
              "      --disabled-bg-color: #3B4455;\n",
              "      --disabled-fill-color: #666;\n",
              "  }\n",
              "\n",
              "  .colab-df-quickchart {\n",
              "    background-color: var(--bg-color);\n",
              "    border: none;\n",
              "    border-radius: 50%;\n",
              "    cursor: pointer;\n",
              "    display: none;\n",
              "    fill: var(--fill-color);\n",
              "    height: 32px;\n",
              "    padding: 0;\n",
              "    width: 32px;\n",
              "  }\n",
              "\n",
              "  .colab-df-quickchart:hover {\n",
              "    background-color: var(--hover-bg-color);\n",
              "    box-shadow: 0 1px 2px rgba(60, 64, 67, 0.3), 0 1px 3px 1px rgba(60, 64, 67, 0.15);\n",
              "    fill: var(--button-hover-fill-color);\n",
              "  }\n",
              "\n",
              "  .colab-df-quickchart-complete:disabled,\n",
              "  .colab-df-quickchart-complete:disabled:hover {\n",
              "    background-color: var(--disabled-bg-color);\n",
              "    fill: var(--disabled-fill-color);\n",
              "    box-shadow: none;\n",
              "  }\n",
              "\n",
              "  .colab-df-spinner {\n",
              "    border: 2px solid var(--fill-color);\n",
              "    border-color: transparent;\n",
              "    border-bottom-color: var(--fill-color);\n",
              "    animation:\n",
              "      spin 1s steps(1) infinite;\n",
              "  }\n",
              "\n",
              "  @keyframes spin {\n",
              "    0% {\n",
              "      border-color: transparent;\n",
              "      border-bottom-color: var(--fill-color);\n",
              "      border-left-color: var(--fill-color);\n",
              "    }\n",
              "    20% {\n",
              "      border-color: transparent;\n",
              "      border-left-color: var(--fill-color);\n",
              "      border-top-color: var(--fill-color);\n",
              "    }\n",
              "    30% {\n",
              "      border-color: transparent;\n",
              "      border-left-color: var(--fill-color);\n",
              "      border-top-color: var(--fill-color);\n",
              "      border-right-color: var(--fill-color);\n",
              "    }\n",
              "    40% {\n",
              "      border-color: transparent;\n",
              "      border-right-color: var(--fill-color);\n",
              "      border-top-color: var(--fill-color);\n",
              "    }\n",
              "    60% {\n",
              "      border-color: transparent;\n",
              "      border-right-color: var(--fill-color);\n",
              "    }\n",
              "    80% {\n",
              "      border-color: transparent;\n",
              "      border-right-color: var(--fill-color);\n",
              "      border-bottom-color: var(--fill-color);\n",
              "    }\n",
              "    90% {\n",
              "      border-color: transparent;\n",
              "      border-bottom-color: var(--fill-color);\n",
              "    }\n",
              "  }\n",
              "</style>\n",
              "\n",
              "      <script>\n",
              "        async function quickchart(key) {\n",
              "          const quickchartButtonEl =\n",
              "            document.querySelector('#' + key + ' button');\n",
              "          quickchartButtonEl.disabled = true;  // To prevent multiple clicks.\n",
              "          quickchartButtonEl.classList.add('colab-df-spinner');\n",
              "          try {\n",
              "            const charts = await google.colab.kernel.invokeFunction(\n",
              "                'suggestCharts', [key], {});\n",
              "          } catch (error) {\n",
              "            console.error('Error during call to suggestCharts:', error);\n",
              "          }\n",
              "          quickchartButtonEl.classList.remove('colab-df-spinner');\n",
              "          quickchartButtonEl.classList.add('colab-df-quickchart-complete');\n",
              "        }\n",
              "        (() => {\n",
              "          let quickchartButtonEl =\n",
              "            document.querySelector('#df-c97173e1-31bc-4853-b735-29c3182635aa button');\n",
              "          quickchartButtonEl.style.display =\n",
              "            google.colab.kernel.accessAllowed ? 'block' : 'none';\n",
              "        })();\n",
              "      </script>\n",
              "    </div>\n",
              "\n",
              "  <div id=\"id_b026a302-de21-48fc-8962-6cf9a5c64250\">\n",
              "    <style>\n",
              "      .colab-df-generate {\n",
              "        background-color: #E8F0FE;\n",
              "        border: none;\n",
              "        border-radius: 50%;\n",
              "        cursor: pointer;\n",
              "        display: none;\n",
              "        fill: #1967D2;\n",
              "        height: 32px;\n",
              "        padding: 0 0 0 0;\n",
              "        width: 32px;\n",
              "      }\n",
              "\n",
              "      .colab-df-generate:hover {\n",
              "        background-color: #E2EBFA;\n",
              "        box-shadow: 0px 1px 2px rgba(60, 64, 67, 0.3), 0px 1px 3px 1px rgba(60, 64, 67, 0.15);\n",
              "        fill: #174EA6;\n",
              "      }\n",
              "\n",
              "      [theme=dark] .colab-df-generate {\n",
              "        background-color: #3B4455;\n",
              "        fill: #D2E3FC;\n",
              "      }\n",
              "\n",
              "      [theme=dark] .colab-df-generate:hover {\n",
              "        background-color: #434B5C;\n",
              "        box-shadow: 0px 1px 3px 1px rgba(0, 0, 0, 0.15);\n",
              "        filter: drop-shadow(0px 1px 2px rgba(0, 0, 0, 0.3));\n",
              "        fill: #FFFFFF;\n",
              "      }\n",
              "    </style>\n",
              "    <button class=\"colab-df-generate\" onclick=\"generateWithVariable('df')\"\n",
              "            title=\"Generate code using this dataframe.\"\n",
              "            style=\"display:none;\">\n",
              "\n",
              "  <svg xmlns=\"http://www.w3.org/2000/svg\" height=\"24px\"viewBox=\"0 0 24 24\"\n",
              "       width=\"24px\">\n",
              "    <path d=\"M7,19H8.4L18.45,9,17,7.55,7,17.6ZM5,21V16.75L18.45,3.32a2,2,0,0,1,2.83,0l1.4,1.43a1.91,1.91,0,0,1,.58,1.4,1.91,1.91,0,0,1-.58,1.4L9.25,21ZM18.45,9,17,7.55Zm-12,3A5.31,5.31,0,0,0,4.9,8.1,5.31,5.31,0,0,0,1,6.5,5.31,5.31,0,0,0,4.9,4.9,5.31,5.31,0,0,0,6.5,1,5.31,5.31,0,0,0,8.1,4.9,5.31,5.31,0,0,0,12,6.5,5.46,5.46,0,0,0,6.5,12Z\"/>\n",
              "  </svg>\n",
              "    </button>\n",
              "    <script>\n",
              "      (() => {\n",
              "      const buttonEl =\n",
              "        document.querySelector('#id_b026a302-de21-48fc-8962-6cf9a5c64250 button.colab-df-generate');\n",
              "      buttonEl.style.display =\n",
              "        google.colab.kernel.accessAllowed ? 'block' : 'none';\n",
              "\n",
              "      buttonEl.onclick = () => {\n",
              "        google.colab.notebook.generateWithVariable('df');\n",
              "      }\n",
              "      })();\n",
              "    </script>\n",
              "  </div>\n",
              "\n",
              "    </div>\n",
              "  </div>\n"
            ],
            "application/vnd.google.colaboratory.intrinsic+json": {
              "type": "dataframe",
              "variable_name": "df"
            }
          },
          "metadata": {},
          "execution_count": 61
        }
      ]
    },
    {
      "cell_type": "code",
      "source": [],
      "metadata": {
        "id": "eZeVavc7VJEy"
      },
      "execution_count": 61,
      "outputs": []
    }
  ]
}